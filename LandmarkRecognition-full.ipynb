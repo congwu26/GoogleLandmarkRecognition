{
 "cells": [
  {
   "cell_type": "markdown",
   "metadata": {},
   "source": [
    "# Import data"
   ]
  },
  {
   "cell_type": "code",
   "execution_count": 1,
   "metadata": {},
   "outputs": [
    {
     "name": "stderr",
     "output_type": "stream",
     "text": [
      "Using TensorFlow backend.\n"
     ]
    }
   ],
   "source": [
    "%matplotlib inline\n",
    "\n",
    "import glob\n",
    "import os\n",
    "import numpy as np\n",
    "from keras.callbacks import EarlyStopping, ModelCheckpoint\n",
    "from keras.layers import Activation, Dropout, Flatten, Dense\n",
    "from keras.layers import Convolution2D, MaxPooling2D, ZeroPadding2D\n",
    "from keras.models import Sequential\n",
    "from keras.preprocessing.image import ImageDataGenerator, img_to_array, load_img\n",
    "from keras import optimizers\n",
    "from keras.models import Model\n",
    "from keras import applications\n",
    "from keras.utils.np_utils import to_categorical \n",
    "import matplotlib.image as mpimg\n",
    "import matplotlib.pyplot as plt\n",
    "import seaborn as sns\n",
    "\n",
    "sns.set()"
   ]
  },
  {
   "cell_type": "code",
   "execution_count": 2,
   "metadata": {},
   "outputs": [],
   "source": [
    "import warnings\n",
    "warnings.simplefilter(action='ignore', category=FutureWarning)"
   ]
  },
  {
   "cell_type": "code",
   "execution_count": 3,
   "metadata": {},
   "outputs": [],
   "source": [
    "# Dimensions of our images.\n",
    "img_width, img_height = 240, 240\n",
    "\n",
    "# epochs and batch_size\n",
    "epochs = 100\n",
    "batch_size = 32\n",
    "\n",
    "# path to train and validation data\n",
    "train_data_dir = 'data/train_sample'\n",
    "valid_data_dir = 'data/valid_sample'\n",
    "# train_data_dir = '/dev/shm/train'\n",
    "# valid_data_dir = '/dev/shm/valid'"
   ]
  },
  {
   "cell_type": "code",
   "execution_count": 4,
   "metadata": {},
   "outputs": [],
   "source": [
    "datagen = ImageDataGenerator(rescale=1./255)"
   ]
  },
  {
   "cell_type": "code",
   "execution_count": 5,
   "metadata": {},
   "outputs": [
    {
     "name": "stdout",
     "output_type": "stream",
     "text": [
      "Found 4911 images belonging to 46 classes.\n"
     ]
    }
   ],
   "source": [
    "train_generator = datagen.flow_from_directory(\n",
    "        train_data_dir,\n",
    "        target_size=(img_width, img_height),\n",
    "        batch_size=batch_size)"
   ]
  },
  {
   "cell_type": "code",
   "execution_count": 6,
   "metadata": {},
   "outputs": [
    {
     "name": "stdout",
     "output_type": "stream",
     "text": [
      "Found 1690 images belonging to 46 classes.\n"
     ]
    }
   ],
   "source": [
    "valid_generator = datagen.flow_from_directory(\n",
    "        valid_data_dir,\n",
    "        target_size=(img_width, img_height),\n",
    "        batch_size=batch_size)"
   ]
  },
  {
   "cell_type": "code",
   "execution_count": 7,
   "metadata": {},
   "outputs": [],
   "source": [
    "n_classes = 46\n",
    "train_samples = 4911\n",
    "valid_samples = 1690\n",
    "# n_classes = 6451\n",
    "# train_samples = 859486\n",
    "# valid_samples = 294058"
   ]
  },
  {
   "cell_type": "markdown",
   "metadata": {},
   "source": [
    "# Basic CNN"
   ]
  },
  {
   "cell_type": "code",
   "execution_count": 8,
   "metadata": {},
   "outputs": [],
   "source": [
    "model = Sequential()\n",
    "model.add(Convolution2D(32, (3, 3), input_shape=(img_width, img_height, 3)))\n",
    "model.add(Activation('relu'))\n",
    "model.add(MaxPooling2D(pool_size=(2, 2)))\n",
    "\n",
    "model.add(Convolution2D(32, (3, 3)))\n",
    "model.add(Activation('relu'))\n",
    "model.add(MaxPooling2D(pool_size=(2, 2)))\n",
    "\n",
    "model.add(Convolution2D(64, (3, 3)))\n",
    "model.add(Activation('relu'))\n",
    "model.add(MaxPooling2D(pool_size=(2, 2)))\n",
    "\n",
    "model.add(Convolution2D(64, (3, 3)))\n",
    "model.add(Activation('relu'))\n",
    "model.add(MaxPooling2D(pool_size=(2, 2)))\n",
    "\n",
    "model.add(Convolution2D(128, (3, 3)))\n",
    "model.add(Activation('relu'))\n",
    "model.add(MaxPooling2D(pool_size=(2, 2)))\n",
    "\n",
    "model.add(Flatten())\n",
    "model.add(Dense(512))\n",
    "model.add(Activation('relu'))\n",
    "model.add(Dropout(0.5))\n",
    "model.add(Dense(n_classes))\n",
    "model.add(Activation('softmax'))\n",
    "\n",
    "model.compile(loss='categorical_crossentropy',\n",
    "              optimizer='rmsprop',\n",
    "              metrics=['accuracy'])"
   ]
  },
  {
   "cell_type": "code",
   "execution_count": 9,
   "metadata": {},
   "outputs": [
    {
     "name": "stdout",
     "output_type": "stream",
     "text": [
      "_________________________________________________________________\n",
      "Layer (type)                 Output Shape              Param #   \n",
      "=================================================================\n",
      "conv2d_1 (Conv2D)            (None, 238, 238, 32)      896       \n",
      "_________________________________________________________________\n",
      "activation_1 (Activation)    (None, 238, 238, 32)      0         \n",
      "_________________________________________________________________\n",
      "max_pooling2d_1 (MaxPooling2 (None, 119, 119, 32)      0         \n",
      "_________________________________________________________________\n",
      "conv2d_2 (Conv2D)            (None, 117, 117, 32)      9248      \n",
      "_________________________________________________________________\n",
      "activation_2 (Activation)    (None, 117, 117, 32)      0         \n",
      "_________________________________________________________________\n",
      "max_pooling2d_2 (MaxPooling2 (None, 58, 58, 32)        0         \n",
      "_________________________________________________________________\n",
      "conv2d_3 (Conv2D)            (None, 56, 56, 64)        18496     \n",
      "_________________________________________________________________\n",
      "activation_3 (Activation)    (None, 56, 56, 64)        0         \n",
      "_________________________________________________________________\n",
      "max_pooling2d_3 (MaxPooling2 (None, 28, 28, 64)        0         \n",
      "_________________________________________________________________\n",
      "conv2d_4 (Conv2D)            (None, 26, 26, 64)        36928     \n",
      "_________________________________________________________________\n",
      "activation_4 (Activation)    (None, 26, 26, 64)        0         \n",
      "_________________________________________________________________\n",
      "max_pooling2d_4 (MaxPooling2 (None, 13, 13, 64)        0         \n",
      "_________________________________________________________________\n",
      "conv2d_5 (Conv2D)            (None, 11, 11, 128)       73856     \n",
      "_________________________________________________________________\n",
      "activation_5 (Activation)    (None, 11, 11, 128)       0         \n",
      "_________________________________________________________________\n",
      "max_pooling2d_5 (MaxPooling2 (None, 5, 5, 128)         0         \n",
      "_________________________________________________________________\n",
      "flatten_1 (Flatten)          (None, 3200)              0         \n",
      "_________________________________________________________________\n",
      "dense_1 (Dense)              (None, 512)               1638912   \n",
      "_________________________________________________________________\n",
      "activation_6 (Activation)    (None, 512)               0         \n",
      "_________________________________________________________________\n",
      "dropout_1 (Dropout)          (None, 512)               0         \n",
      "_________________________________________________________________\n",
      "dense_2 (Dense)              (None, 46)                23598     \n",
      "_________________________________________________________________\n",
      "activation_7 (Activation)    (None, 46)                0         \n",
      "=================================================================\n",
      "Total params: 1,801,934\n",
      "Trainable params: 1,801,934\n",
      "Non-trainable params: 0\n",
      "_________________________________________________________________\n"
     ]
    }
   ],
   "source": [
    "model.summary()"
   ]
  },
  {
   "cell_type": "code",
   "execution_count": 10,
   "metadata": {},
   "outputs": [
    {
     "name": "stdout",
     "output_type": "stream",
     "text": [
      "Epoch 1/100\n",
      " - 30s - loss: 3.0181 - acc: 0.2099 - val_loss: 2.3936 - val_acc: 0.3988\n",
      "\n",
      "Epoch 00001: val_acc improved from -inf to 0.39882, saving model to models/basic_cnn.h5\n",
      "Epoch 2/100\n",
      " - 27s - loss: 2.0884 - acc: 0.4891 - val_loss: 1.7015 - val_acc: 0.6012\n",
      "\n",
      "Epoch 00002: val_acc improved from 0.39882 to 0.60118, saving model to models/basic_cnn.h5\n",
      "Epoch 3/100\n",
      " - 28s - loss: 1.5654 - acc: 0.6132 - val_loss: 1.4887 - val_acc: 0.6479\n",
      "\n",
      "Epoch 00003: val_acc improved from 0.60118 to 0.64793, saving model to models/basic_cnn.h5\n",
      "Epoch 4/100\n",
      " - 27s - loss: 1.2291 - acc: 0.6910 - val_loss: 1.7295 - val_acc: 0.6314\n",
      "\n",
      "Epoch 00004: val_acc did not improve from 0.64793\n",
      "Epoch 5/100\n",
      " - 27s - loss: 1.0115 - acc: 0.7393 - val_loss: 1.0428 - val_acc: 0.7414\n",
      "\n",
      "Epoch 00005: val_acc improved from 0.64793 to 0.74142, saving model to models/basic_cnn.h5\n",
      "Epoch 6/100\n",
      " - 28s - loss: 0.7924 - acc: 0.7916 - val_loss: 1.3722 - val_acc: 0.6621\n",
      "\n",
      "Epoch 00006: val_acc did not improve from 0.74142\n",
      "Epoch 7/100\n",
      " - 29s - loss: 0.6758 - acc: 0.8212 - val_loss: 0.9154 - val_acc: 0.7840\n",
      "\n",
      "Epoch 00007: val_acc improved from 0.74142 to 0.78402, saving model to models/basic_cnn.h5\n",
      "Epoch 8/100\n",
      " - 28s - loss: 0.5564 - acc: 0.8481 - val_loss: 1.0189 - val_acc: 0.7438\n",
      "\n",
      "Epoch 00008: val_acc did not improve from 0.78402\n",
      "Epoch 9/100\n",
      " - 27s - loss: 0.4390 - acc: 0.8711 - val_loss: 0.8775 - val_acc: 0.8006\n",
      "\n",
      "Epoch 00009: val_acc improved from 0.78402 to 0.80059, saving model to models/basic_cnn.h5\n",
      "Epoch 10/100\n",
      " - 27s - loss: 0.3710 - acc: 0.8952 - val_loss: 1.0334 - val_acc: 0.7923\n",
      "\n",
      "Epoch 00010: val_acc did not improve from 0.80059\n",
      "Epoch 11/100\n",
      " - 26s - loss: 0.3190 - acc: 0.9066 - val_loss: 0.9961 - val_acc: 0.7911\n",
      "\n",
      "Epoch 00011: val_acc did not improve from 0.80059\n",
      "Epoch 12/100\n",
      " - 28s - loss: 0.2725 - acc: 0.9196 - val_loss: 1.0279 - val_acc: 0.8006\n",
      "\n",
      "Epoch 00012: val_acc improved from 0.80059 to 0.80059, saving model to models/basic_cnn.h5\n",
      "Epoch 13/100\n",
      " - 28s - loss: 0.2700 - acc: 0.9259 - val_loss: 1.0092 - val_acc: 0.8095\n",
      "\n",
      "Epoch 00013: val_acc improved from 0.80059 to 0.80947, saving model to models/basic_cnn.h5\n",
      "Epoch 14/100\n",
      " - 27s - loss: 0.2388 - acc: 0.9300 - val_loss: 1.2171 - val_acc: 0.8101\n",
      "\n",
      "Epoch 00014: val_acc improved from 0.80947 to 0.81006, saving model to models/basic_cnn.h5\n",
      "Epoch 15/100\n",
      " - 27s - loss: 0.2254 - acc: 0.9348 - val_loss: 1.1597 - val_acc: 0.7905\n",
      "\n",
      "Epoch 00015: val_acc did not improve from 0.81006\n",
      "Epoch 16/100\n",
      " - 27s - loss: 0.1917 - acc: 0.9460 - val_loss: 1.6943 - val_acc: 0.7793\n",
      "\n",
      "Epoch 00016: val_acc did not improve from 0.81006\n",
      "Epoch 17/100\n",
      " - 27s - loss: 0.1808 - acc: 0.9497 - val_loss: 1.2635 - val_acc: 0.7479\n",
      "\n",
      "Epoch 00017: val_acc did not improve from 0.81006\n",
      "Epoch 18/100\n",
      " - 27s - loss: 0.1931 - acc: 0.9491 - val_loss: 1.2941 - val_acc: 0.8059\n",
      "\n",
      "Epoch 00018: val_acc did not improve from 0.81006\n",
      "Epoch 19/100\n",
      " - 27s - loss: 0.1730 - acc: 0.9523 - val_loss: 1.3776 - val_acc: 0.8148\n",
      "\n",
      "Epoch 00019: val_acc improved from 0.81006 to 0.81479, saving model to models/basic_cnn.h5\n",
      "Epoch 20/100\n",
      " - 27s - loss: 0.1563 - acc: 0.9566 - val_loss: 1.8029 - val_acc: 0.7497\n",
      "\n",
      "Epoch 00020: val_acc did not improve from 0.81479\n",
      "Epoch 21/100\n",
      " - 27s - loss: 0.1689 - acc: 0.9494 - val_loss: 1.2480 - val_acc: 0.7988\n",
      "\n",
      "Epoch 00021: val_acc did not improve from 0.81479\n",
      "Epoch 22/100\n",
      " - 27s - loss: 0.1493 - acc: 0.9604 - val_loss: 1.3159 - val_acc: 0.8130\n",
      "\n",
      "Epoch 00022: val_acc did not improve from 0.81479\n",
      "Epoch 23/100\n",
      " - 27s - loss: 0.1687 - acc: 0.9558 - val_loss: 1.4868 - val_acc: 0.8083\n",
      "\n",
      "Epoch 00023: val_acc did not improve from 0.81479\n",
      "Epoch 24/100\n",
      " - 27s - loss: 0.1565 - acc: 0.9628 - val_loss: 1.5381 - val_acc: 0.7905\n",
      "\n",
      "Epoch 00024: val_acc did not improve from 0.81479\n",
      "Epoch 00024: early stopping\n"
     ]
    }
   ],
   "source": [
    "# Model saving callback\n",
    "checkpointer = ModelCheckpoint(filepath='models/basic_cnn.h5', monitor='val_acc', verbose=1, save_best_only=True)\n",
    "\n",
    "# Early stopping\n",
    "early_stopping = EarlyStopping(monitor='val_acc', verbose=1, patience=5)\n",
    "\n",
    "history = model.fit_generator(\n",
    "        train_generator,\n",
    "        steps_per_epoch=np.ceil(train_samples/float(batch_size)),\n",
    "        epochs=epochs,\n",
    "        callbacks=[checkpointer, early_stopping],\n",
    "        verbose=2,\n",
    "        validation_data=valid_generator,\n",
    "        validation_steps=np.ceil(valid_samples/float(batch_size)))"
   ]
  },
  {
   "cell_type": "code",
   "execution_count": 11,
   "metadata": {},
   "outputs": [
    {
     "data": {
      "text/plain": [
       "[1.537684826692606, 0.7904961590254271]"
      ]
     },
     "execution_count": 11,
     "metadata": {},
     "output_type": "execute_result"
    }
   ],
   "source": [
    "model.evaluate_generator(valid_generator, valid_samples)"
   ]
  },
  {
   "cell_type": "code",
   "execution_count": 12,
   "metadata": {},
   "outputs": [
    {
     "data": {
      "image/png": "[encoded data removed]",
      "text/plain": [
       "<Figure size 432x288 with 1 Axes>"
      ]
     },
     "metadata": {
      "needs_background": "light"
     },
     "output_type": "display_data"
    }
   ],
   "source": [
    "fig, ax = plt.subplots()\n",
    "plt.plot(history.history['acc'])\n",
    "plt.plot(history.history['val_acc'])\n",
    "plt.title('Model accuracy')\n",
    "plt.ylabel('Accuracy')\n",
    "plt.xlabel('Epoch')\n",
    "plt.legend(['Train', 'Test'], loc='upper left')\n",
    "plt.show()"
   ]
  },
  {
   "cell_type": "markdown",
   "metadata": {},
   "source": [
    "# Data Augumentation"
   ]
  },
  {
   "cell_type": "code",
   "execution_count": 13,
   "metadata": {},
   "outputs": [],
   "source": [
    "train_datagen_augmented = ImageDataGenerator(\n",
    "        rescale=1. / 255,      \n",
    "        shear_range=0.2,       \n",
    "        zoom_range=0.2,        \n",
    "        horizontal_flip=True)  "
   ]
  },
  {
   "cell_type": "code",
   "execution_count": 14,
   "metadata": {},
   "outputs": [
    {
     "name": "stdout",
     "output_type": "stream",
     "text": [
      "Found 4911 images belonging to 46 classes.\n"
     ]
    }
   ],
   "source": [
    "train_generator = train_datagen_augmented.flow_from_directory(\n",
    "        train_data_dir,\n",
    "        target_size=(img_width, img_height),\n",
    "        batch_size=batch_size)"
   ]
  },
  {
   "cell_type": "code",
   "execution_count": 15,
   "metadata": {},
   "outputs": [
    {
     "name": "stdout",
     "output_type": "stream",
     "text": [
      "Epoch 1/100\n",
      " - 49s - loss: 1.0320 - acc: 0.7609 - val_loss: 0.8733 - val_acc: 0.8089\n",
      "\n",
      "Epoch 00001: val_acc improved from -inf to 0.80888, saving model to models/data_augmentation.h5\n",
      "Epoch 2/100\n",
      " - 47s - loss: 0.8235 - acc: 0.7937 - val_loss: 0.8055 - val_acc: 0.8107\n",
      "\n",
      "Epoch 00002: val_acc improved from 0.80888 to 0.81065, saving model to models/data_augmentation.h5\n",
      "Epoch 3/100\n",
      " - 47s - loss: 0.7418 - acc: 0.8090 - val_loss: 1.0518 - val_acc: 0.7882\n",
      "\n",
      "Epoch 00003: val_acc did not improve from 0.81065\n",
      "Epoch 4/100\n",
      " - 46s - loss: 0.7063 - acc: 0.8303 - val_loss: 0.8213 - val_acc: 0.8107\n",
      "\n",
      "Epoch 00004: val_acc did not improve from 0.81065\n",
      "Epoch 5/100\n",
      " - 47s - loss: 0.6704 - acc: 0.8254 - val_loss: 0.8138 - val_acc: 0.8124\n",
      "\n",
      "Epoch 00005: val_acc improved from 0.81065 to 0.81243, saving model to models/data_augmentation.h5\n",
      "Epoch 6/100\n",
      " - 46s - loss: 0.6403 - acc: 0.8315 - val_loss: 0.8842 - val_acc: 0.8189\n",
      "\n",
      "Epoch 00006: val_acc improved from 0.81243 to 0.81893, saving model to models/data_augmentation.h5\n",
      "Epoch 7/100\n",
      " - 45s - loss: 0.6740 - acc: 0.8244 - val_loss: 0.7675 - val_acc: 0.8290\n",
      "\n",
      "Epoch 00007: val_acc improved from 0.81893 to 0.82899, saving model to models/data_augmentation.h5\n",
      "Epoch 8/100\n",
      " - 51s - loss: 0.6157 - acc: 0.8429 - val_loss: 0.8691 - val_acc: 0.8207\n",
      "\n",
      "Epoch 00008: val_acc did not improve from 0.82899\n",
      "Epoch 9/100\n",
      " - 49s - loss: 0.6110 - acc: 0.8453 - val_loss: 0.7581 - val_acc: 0.8207\n",
      "\n",
      "Epoch 00009: val_acc did not improve from 0.82899\n",
      "Epoch 10/100\n",
      " - 46s - loss: 0.5825 - acc: 0.8441 - val_loss: 0.7174 - val_acc: 0.8402\n",
      "\n",
      "Epoch 00010: val_acc improved from 0.82899 to 0.84024, saving model to models/data_augmentation.h5\n",
      "Epoch 11/100\n",
      " - 46s - loss: 0.5973 - acc: 0.8507 - val_loss: 0.8090 - val_acc: 0.8178\n",
      "\n",
      "Epoch 00011: val_acc did not improve from 0.84024\n",
      "Epoch 12/100\n",
      " - 45s - loss: 0.5787 - acc: 0.8486 - val_loss: 1.3012 - val_acc: 0.7639\n",
      "\n",
      "Epoch 00012: val_acc did not improve from 0.84024\n",
      "Epoch 13/100\n",
      " - 46s - loss: 0.5670 - acc: 0.8625 - val_loss: 0.8649 - val_acc: 0.8101\n",
      "\n",
      "Epoch 00013: val_acc did not improve from 0.84024\n",
      "Epoch 14/100\n",
      " - 46s - loss: 0.5796 - acc: 0.8534 - val_loss: 0.8495 - val_acc: 0.8213\n",
      "\n",
      "Epoch 00014: val_acc did not improve from 0.84024\n",
      "Epoch 15/100\n",
      " - 46s - loss: 0.5517 - acc: 0.8486 - val_loss: 0.7298 - val_acc: 0.8260\n",
      "\n",
      "Epoch 00015: val_acc did not improve from 0.84024\n",
      "Epoch 00015: early stopping\n"
     ]
    }
   ],
   "source": [
    "# Model saving callback\n",
    "checkpointer = ModelCheckpoint(filepath='models/data_augmentation.h5', monitor='val_acc', verbose=1, save_best_only=True)\n",
    "\n",
    "# Early stopping\n",
    "early_stopping = EarlyStopping(monitor='val_acc', verbose=1, patience=5)\n",
    "\n",
    "history = model.fit_generator(\n",
    "        train_generator,\n",
    "        steps_per_epoch=np.ceil(train_samples/float(batch_size)),\n",
    "        epochs=epochs,\n",
    "        callbacks=[checkpointer, early_stopping],\n",
    "        verbose=2,\n",
    "        validation_data=valid_generator,\n",
    "        validation_steps=np.ceil(valid_samples/float(batch_size)))"
   ]
  },
  {
   "cell_type": "code",
   "execution_count": 16,
   "metadata": {},
   "outputs": [
    {
     "data": {
      "text/plain": [
       "[0.7307539990180568, 0.825936096676401]"
      ]
     },
     "execution_count": 16,
     "metadata": {},
     "output_type": "execute_result"
    }
   ],
   "source": [
    "model.evaluate_generator(valid_generator, valid_samples)"
   ]
  },
  {
   "cell_type": "code",
   "execution_count": 17,
   "metadata": {},
   "outputs": [
    {
     "data": {
      "image/png": "[encoded data removed]",
      "text/plain": [
       "<Figure size 432x288 with 1 Axes>"
      ]
     },
     "metadata": {
      "needs_background": "light"
     },
     "output_type": "display_data"
    }
   ],
   "source": [
    "fig, ax = plt.subplots()\n",
    "plt.plot(history.history['acc'])\n",
    "plt.plot(history.history['val_acc'])\n",
    "plt.title('Model accuracy')\n",
    "plt.ylabel('Accuracy')\n",
    "plt.xlabel('Epoch')\n",
    "plt.legend(['Train', 'Test'], loc='upper left')\n",
    "plt.show()"
   ]
  },
  {
   "cell_type": "markdown",
   "metadata": {},
   "source": [
    "# VGG 16 models"
   ]
  },
  {
   "cell_type": "code",
   "execution_count": 18,
   "metadata": {},
   "outputs": [],
   "source": [
    "model_vgg = applications.VGG16(include_top=False, weights='imagenet')"
   ]
  },
  {
   "cell_type": "code",
   "execution_count": 19,
   "metadata": {},
   "outputs": [],
   "source": [
    "bottleneck_features_train = model_vgg.predict_generator(train_generator, np.ceil(train_samples/float(batch_size)))\n",
    "#np.save(open('/dev/shm/models/bottleneck_features_train.npy', 'wb'), bottleneck_features_train)"
   ]
  },
  {
   "cell_type": "code",
   "execution_count": 20,
   "metadata": {},
   "outputs": [],
   "source": [
    "bottleneck_features_validation = model_vgg.predict_generator(valid_generator, np.ceil(valid_samples/float(batch_size)))\n",
    "#np.save(open('/dev/shm/models/bottleneck_features_validation.npy', 'wb'), bottleneck_features_validation)"
   ]
  },
  {
   "cell_type": "code",
   "execution_count": 21,
   "metadata": {},
   "outputs": [],
   "source": [
    "num_classes = len(train_generator.class_indices)\n",
    "\n",
    "train_data = bottleneck_features_train\n",
    "train_labels = to_categorical(train_generator.classes[:train_samples], num_classes=num_classes)\n",
    "\n",
    "validation_data = bottleneck_features_validation\n",
    "validation_labels = to_categorical(valid_generator.classes[:valid_samples], num_classes=num_classes)"
   ]
  },
  {
   "cell_type": "code",
   "execution_count": 22,
   "metadata": {},
   "outputs": [],
   "source": [
    "model_top = Sequential()\n",
    "model_top.add(Flatten(input_shape=train_data.shape[1:]))\n",
    "model_top.add(Dense(512, activation='relu'))\n",
    "model_top.add(Dropout(0.5))\n",
    "model_top.add(Dense(n_classes, activation='softmax'))\n",
    "\n",
    "model_top.compile(loss='categorical_crossentropy',\n",
    "                  optimizer='rmsprop',\n",
    "                  metrics=['accuracy'])"
   ]
  },
  {
   "cell_type": "code",
   "execution_count": 23,
   "metadata": {},
   "outputs": [
    {
     "name": "stdout",
     "output_type": "stream",
     "text": [
      "_________________________________________________________________\n",
      "Layer (type)                 Output Shape              Param #   \n",
      "=================================================================\n",
      "flatten_2 (Flatten)          (None, 25088)             0         \n",
      "_________________________________________________________________\n",
      "dense_3 (Dense)              (None, 512)               12845568  \n",
      "_________________________________________________________________\n",
      "dropout_2 (Dropout)          (None, 512)               0         \n",
      "_________________________________________________________________\n",
      "dense_4 (Dense)              (None, 46)                23598     \n",
      "=================================================================\n",
      "Total params: 12,869,166\n",
      "Trainable params: 12,869,166\n",
      "Non-trainable params: 0\n",
      "_________________________________________________________________\n"
     ]
    }
   ],
   "source": [
    "model_top.summary()"
   ]
  },
  {
   "cell_type": "code",
   "execution_count": 24,
   "metadata": {
    "scrolled": true
   },
   "outputs": [
    {
     "name": "stdout",
     "output_type": "stream",
     "text": [
      "Train on 4911 samples, validate on 1690 samples\n",
      "Epoch 1/100\n",
      " - 5s - loss: 6.3486 - acc: 0.1014 - val_loss: 3.1075 - val_acc: 0.1355\n",
      "\n",
      "Epoch 00001: val_acc improved from -inf to 0.13550, saving model to models/bottleneck_features.h5\n",
      "Epoch 2/100\n",
      " - 5s - loss: 3.2919 - acc: 0.1228 - val_loss: 3.0974 - val_acc: 0.1373\n",
      "\n",
      "Epoch 00002: val_acc improved from 0.13550 to 0.13728, saving model to models/bottleneck_features.h5\n",
      "Epoch 3/100\n",
      " - 5s - loss: 3.2068 - acc: 0.1313 - val_loss: 3.1266 - val_acc: 0.1142\n",
      "\n",
      "Epoch 00003: val_acc did not improve from 0.13728\n",
      "Epoch 4/100\n",
      " - 5s - loss: 3.1888 - acc: 0.1356 - val_loss: 3.2112 - val_acc: 0.1302\n",
      "\n",
      "Epoch 00004: val_acc did not improve from 0.13728\n",
      "Epoch 5/100\n",
      " - 5s - loss: 3.1525 - acc: 0.1401 - val_loss: 3.1528 - val_acc: 0.1231\n",
      "\n",
      "Epoch 00005: val_acc did not improve from 0.13728\n",
      "Epoch 6/100\n",
      " - 5s - loss: 3.1239 - acc: 0.1503 - val_loss: 3.1826 - val_acc: 0.1095\n",
      "\n",
      "Epoch 00006: val_acc did not improve from 0.13728\n",
      "Epoch 7/100\n",
      " - 5s - loss: 3.0766 - acc: 0.1478 - val_loss: 3.2896 - val_acc: 0.1432\n",
      "\n",
      "Epoch 00007: val_acc improved from 0.13728 to 0.14320, saving model to models/bottleneck_features.h5\n",
      "Epoch 8/100\n",
      " - 5s - loss: 3.0619 - acc: 0.1521 - val_loss: 3.2018 - val_acc: 0.1290\n",
      "\n",
      "Epoch 00008: val_acc did not improve from 0.14320\n",
      "Epoch 9/100\n",
      " - 5s - loss: 3.0549 - acc: 0.1582 - val_loss: 3.4861 - val_acc: 0.1254\n",
      "\n",
      "Epoch 00009: val_acc did not improve from 0.14320\n",
      "Epoch 10/100\n",
      " - 5s - loss: 3.0563 - acc: 0.1543 - val_loss: 3.2513 - val_acc: 0.1225\n",
      "\n",
      "Epoch 00010: val_acc did not improve from 0.14320\n",
      "Epoch 11/100\n",
      " - 5s - loss: 3.0135 - acc: 0.1605 - val_loss: 3.2739 - val_acc: 0.1260\n",
      "\n",
      "Epoch 00011: val_acc did not improve from 0.14320\n",
      "Epoch 12/100\n",
      " - 5s - loss: 3.0039 - acc: 0.1639 - val_loss: 3.6311 - val_acc: 0.1201\n",
      "\n",
      "Epoch 00012: val_acc did not improve from 0.14320\n",
      "Epoch 00012: early stopping\n"
     ]
    }
   ],
   "source": [
    "# Model saving callback\n",
    "checkpointer = ModelCheckpoint(filepath='models/bottleneck_features.h5', monitor='val_acc', verbose=1, save_best_only=True)\n",
    "\n",
    "# Early stopping\n",
    "early_stopping = EarlyStopping(monitor='val_acc', verbose=1, patience=5)\n",
    "\n",
    "history = model_top.fit(\n",
    "        train_data,\n",
    "        train_labels,\n",
    "        verbose=2,\n",
    "        epochs=epochs, \n",
    "        batch_size=batch_size,\n",
    "        callbacks=[checkpointer, early_stopping],\n",
    "        validation_data=(validation_data, validation_labels))"
   ]
  },
  {
   "cell_type": "code",
   "execution_count": 25,
   "metadata": {},
   "outputs": [
    {
     "name": "stdout",
     "output_type": "stream",
     "text": [
      "1690/1690 [==============================] - 0s 140us/step\n"
     ]
    },
    {
     "data": {
      "text/plain": [
       "[3.631106745138676, 0.12011834319526628]"
      ]
     },
     "execution_count": 25,
     "metadata": {},
     "output_type": "execute_result"
    }
   ],
   "source": [
    "model_top.evaluate(validation_data, validation_labels)"
   ]
  },
  {
   "cell_type": "code",
   "execution_count": 26,
   "metadata": {},
   "outputs": [
    {
     "data": {
      "image/png": "[encoded data removed]",
      "text/plain": [
       "<Figure size 432x288 with 1 Axes>"
      ]
     },
     "metadata": {
      "needs_background": "light"
     },
     "output_type": "display_data"
    }
   ],
   "source": [
    "fig, ax = plt.subplots()\n",
    "plt.plot(history.history['acc'])\n",
    "plt.plot(history.history['val_acc'])\n",
    "plt.title('Model accuracy')\n",
    "plt.ylabel('Accuracy')\n",
    "plt.xlabel('Epoch')\n",
    "plt.legend(['Train', 'Test'], loc='upper left')\n",
    "plt.show()"
   ]
  },
  {
   "cell_type": "markdown",
   "metadata": {},
   "source": [
    "# Fine Tuning"
   ]
  },
  {
   "cell_type": "code",
   "execution_count": 27,
   "metadata": {},
   "outputs": [],
   "source": [
    "model_vgg = applications.VGG16(include_top=False, weights='imagenet', input_shape=(img_width, img_height, 3))"
   ]
  },
  {
   "cell_type": "code",
   "execution_count": 28,
   "metadata": {},
   "outputs": [],
   "source": [
    "top_model = Sequential()\n",
    "top_model.add(Flatten(input_shape=model_vgg.output_shape[1:]))\n",
    "top_model.add(Dense(512, activation='relu'))\n",
    "top_model.add(Dropout(0.5))\n",
    "top_model.add(Dense(n_classes, activation='softmax'))\n",
    "\n",
    "top_model.load_weights('models/bottleneck_features.h5')\n",
    "\n",
    "model = Model(inputs=model_vgg.input, outputs=top_model(model_vgg.output))"
   ]
  },
  {
   "cell_type": "code",
   "execution_count": 29,
   "metadata": {},
   "outputs": [],
   "source": [
    "for layer in model.layers[:15]:\n",
    "    layer.trainable = False"
   ]
  },
  {
   "cell_type": "code",
   "execution_count": 30,
   "metadata": {},
   "outputs": [],
   "source": [
    "# Compile the model with a SGD/momentum optimizer and a slow learning rate\n",
    "model.compile(loss='categorical_crossentropy',\n",
    "              optimizer=optimizers.SGD(lr=1e-3, momentum=0.9),\n",
    "              metrics=['accuracy'])"
   ]
  },
  {
   "cell_type": "code",
   "execution_count": 31,
   "metadata": {},
   "outputs": [
    {
     "name": "stdout",
     "output_type": "stream",
     "text": [
      "_________________________________________________________________\n",
      "Layer (type)                 Output Shape              Param #   \n",
      "=================================================================\n",
      "input_2 (InputLayer)         (None, 240, 240, 3)       0         \n",
      "_________________________________________________________________\n",
      "block1_conv1 (Conv2D)        (None, 240, 240, 64)      1792      \n",
      "_________________________________________________________________\n",
      "block1_conv2 (Conv2D)        (None, 240, 240, 64)      36928     \n",
      "_________________________________________________________________\n",
      "block1_pool (MaxPooling2D)   (None, 120, 120, 64)      0         \n",
      "_________________________________________________________________\n",
      "block2_conv1 (Conv2D)        (None, 120, 120, 128)     73856     \n",
      "_________________________________________________________________\n",
      "block2_conv2 (Conv2D)        (None, 120, 120, 128)     147584    \n",
      "_________________________________________________________________\n",
      "block2_pool (MaxPooling2D)   (None, 60, 60, 128)       0         \n",
      "_________________________________________________________________\n",
      "block3_conv1 (Conv2D)        (None, 60, 60, 256)       295168    \n",
      "_________________________________________________________________\n",
      "block3_conv2 (Conv2D)        (None, 60, 60, 256)       590080    \n",
      "_________________________________________________________________\n",
      "block3_conv3 (Conv2D)        (None, 60, 60, 256)       590080    \n",
      "_________________________________________________________________\n",
      "block3_pool (MaxPooling2D)   (None, 30, 30, 256)       0         \n",
      "_________________________________________________________________\n",
      "block4_conv1 (Conv2D)        (None, 30, 30, 512)       1180160   \n",
      "_________________________________________________________________\n",
      "block4_conv2 (Conv2D)        (None, 30, 30, 512)       2359808   \n",
      "_________________________________________________________________\n",
      "block4_conv3 (Conv2D)        (None, 30, 30, 512)       2359808   \n",
      "_________________________________________________________________\n",
      "block4_pool (MaxPooling2D)   (None, 15, 15, 512)       0         \n",
      "_________________________________________________________________\n",
      "block5_conv1 (Conv2D)        (None, 15, 15, 512)       2359808   \n",
      "_________________________________________________________________\n",
      "block5_conv2 (Conv2D)        (None, 15, 15, 512)       2359808   \n",
      "_________________________________________________________________\n",
      "block5_conv3 (Conv2D)        (None, 15, 15, 512)       2359808   \n",
      "_________________________________________________________________\n",
      "block5_pool (MaxPooling2D)   (None, 7, 7, 512)         0         \n",
      "_________________________________________________________________\n",
      "sequential_3 (Sequential)    (None, 46)                12869166  \n",
      "=================================================================\n",
      "Total params: 27,583,854\n",
      "Trainable params: 19,948,590\n",
      "Non-trainable params: 7,635,264\n",
      "_________________________________________________________________\n"
     ]
    }
   ],
   "source": [
    "model.summary()"
   ]
  },
  {
   "cell_type": "markdown",
   "metadata": {},
   "source": [
    "# Training"
   ]
  },
  {
   "cell_type": "code",
   "execution_count": 32,
   "metadata": {},
   "outputs": [
    {
     "name": "stdout",
     "output_type": "stream",
     "text": [
      "Epoch 1/100\n",
      " - 151s - loss: 2.5924 - acc: 0.3370 - val_loss: 1.9187 - val_acc: 0.5858\n",
      "\n",
      "Epoch 00001: val_acc improved from -inf to 0.58580, saving model to models/finetuning_full.h5\n",
      "Epoch 2/100\n",
      " - 147s - loss: 1.8005 - acc: 0.5446 - val_loss: 1.4554 - val_acc: 0.6379\n",
      "\n",
      "Epoch 00002: val_acc improved from 0.58580 to 0.63787, saving model to models/finetuning_full.h5\n",
      "Epoch 3/100\n",
      " - 148s - loss: 1.5035 - acc: 0.6234 - val_loss: 1.2601 - val_acc: 0.6970\n",
      "\n",
      "Epoch 00003: val_acc improved from 0.63787 to 0.69704, saving model to models/finetuning_full.h5\n",
      "Epoch 4/100\n",
      " - 150s - loss: 1.2983 - acc: 0.6662 - val_loss: 1.1770 - val_acc: 0.6976\n",
      "\n",
      "Epoch 00004: val_acc improved from 0.69704 to 0.69763, saving model to models/finetuning_full.h5\n",
      "Epoch 5/100\n",
      " - 153s - loss: 1.1643 - acc: 0.7010 - val_loss: 0.9725 - val_acc: 0.7615\n",
      "\n",
      "Epoch 00005: val_acc improved from 0.69763 to 0.76154, saving model to models/finetuning_full.h5\n",
      "Epoch 6/100\n",
      " - 151s - loss: 1.0247 - acc: 0.7276 - val_loss: 0.8442 - val_acc: 0.7858\n",
      "\n",
      "Epoch 00006: val_acc improved from 0.76154 to 0.78580, saving model to models/finetuning_full.h5\n",
      "Epoch 7/100\n",
      " - 148s - loss: 0.9123 - acc: 0.7548 - val_loss: 0.7943 - val_acc: 0.8071\n",
      "\n",
      "Epoch 00007: val_acc improved from 0.78580 to 0.80710, saving model to models/finetuning_full.h5\n",
      "Epoch 8/100\n",
      " - 150s - loss: 0.7964 - acc: 0.7806 - val_loss: 0.7162 - val_acc: 0.8189\n",
      "\n",
      "Epoch 00008: val_acc improved from 0.80710 to 0.81893, saving model to models/finetuning_full.h5\n",
      "Epoch 9/100\n",
      " - 152s - loss: 0.7224 - acc: 0.8036 - val_loss: 0.6076 - val_acc: 0.8473\n",
      "\n",
      "Epoch 00009: val_acc improved from 0.81893 to 0.84734, saving model to models/finetuning_full.h5\n",
      "Epoch 10/100\n",
      " - 150s - loss: 0.6377 - acc: 0.8212 - val_loss: 0.5467 - val_acc: 0.8722\n",
      "\n",
      "Epoch 00010: val_acc improved from 0.84734 to 0.87219, saving model to models/finetuning_full.h5\n",
      "Epoch 11/100\n",
      " - 147s - loss: 0.5650 - acc: 0.8449 - val_loss: 0.5169 - val_acc: 0.8633\n",
      "\n",
      "Epoch 00011: val_acc did not improve from 0.87219\n",
      "Epoch 12/100\n",
      " - 147s - loss: 0.5426 - acc: 0.8469 - val_loss: 0.4496 - val_acc: 0.8893\n",
      "\n",
      "Epoch 00012: val_acc improved from 0.87219 to 0.88935, saving model to models/finetuning_full.h5\n",
      "Epoch 13/100\n",
      " - 152s - loss: 0.4971 - acc: 0.8599 - val_loss: 0.3867 - val_acc: 0.9041\n",
      "\n",
      "Epoch 00013: val_acc improved from 0.88935 to 0.90414, saving model to models/finetuning_full.h5\n",
      "Epoch 14/100\n",
      " - 149s - loss: 0.4243 - acc: 0.8774 - val_loss: 0.4449 - val_acc: 0.8834\n",
      "\n",
      "Epoch 00014: val_acc did not improve from 0.90414\n",
      "Epoch 15/100\n",
      " - 149s - loss: 0.3839 - acc: 0.8904 - val_loss: 0.4650 - val_acc: 0.9024\n",
      "\n",
      "Epoch 00015: val_acc did not improve from 0.90414\n",
      "Epoch 16/100\n",
      " - 148s - loss: 0.3573 - acc: 0.8947 - val_loss: 0.3356 - val_acc: 0.9178\n",
      "\n",
      "Epoch 00016: val_acc improved from 0.90414 to 0.91775, saving model to models/finetuning_full.h5\n",
      "Epoch 17/100\n",
      " - 149s - loss: 0.3082 - acc: 0.9103 - val_loss: 0.3414 - val_acc: 0.9148\n",
      "\n",
      "Epoch 00017: val_acc did not improve from 0.91775\n",
      "Epoch 18/100\n",
      " - 149s - loss: 0.3123 - acc: 0.9099 - val_loss: 0.3128 - val_acc: 0.9296\n",
      "\n",
      "Epoch 00018: val_acc improved from 0.91775 to 0.92959, saving model to models/finetuning_full.h5\n",
      "Epoch 19/100\n",
      " - 149s - loss: 0.2862 - acc: 0.9214 - val_loss: 0.2892 - val_acc: 0.9325\n",
      "\n",
      "Epoch 00019: val_acc improved from 0.92959 to 0.93254, saving model to models/finetuning_full.h5\n",
      "Epoch 20/100\n",
      " - 150s - loss: 0.2678 - acc: 0.9190 - val_loss: 0.3302 - val_acc: 0.9219\n",
      "\n",
      "Epoch 00020: val_acc did not improve from 0.93254\n",
      "Epoch 21/100\n",
      " - 150s - loss: 0.2273 - acc: 0.9338 - val_loss: 0.2652 - val_acc: 0.9320\n",
      "\n",
      "Epoch 00021: val_acc did not improve from 0.93254\n",
      "Epoch 22/100\n",
      " - 150s - loss: 0.2259 - acc: 0.9338 - val_loss: 0.4017 - val_acc: 0.9189\n",
      "\n",
      "Epoch 00022: val_acc did not improve from 0.93254\n",
      "Epoch 23/100\n",
      " - 150s - loss: 0.2244 - acc: 0.9344 - val_loss: 0.3261 - val_acc: 0.9213\n",
      "\n",
      "Epoch 00023: val_acc did not improve from 0.93254\n",
      "Epoch 24/100\n",
      " - 149s - loss: 0.1968 - acc: 0.9448 - val_loss: 0.2768 - val_acc: 0.9355\n",
      "\n",
      "Epoch 00024: val_acc improved from 0.93254 to 0.93550, saving model to models/finetuning_full.h5\n",
      "Epoch 25/100\n",
      " - 151s - loss: 0.1754 - acc: 0.9454 - val_loss: 0.2640 - val_acc: 0.9343\n",
      "\n",
      "Epoch 00025: val_acc did not improve from 0.93550\n",
      "Epoch 26/100\n",
      " - 150s - loss: 0.1626 - acc: 0.9533 - val_loss: 0.2922 - val_acc: 0.9325\n",
      "\n",
      "Epoch 00026: val_acc did not improve from 0.93550\n",
      "Epoch 27/100\n",
      " - 154s - loss: 0.1602 - acc: 0.9527 - val_loss: 0.2573 - val_acc: 0.9385\n",
      "\n",
      "Epoch 00027: val_acc improved from 0.93550 to 0.93846, saving model to models/finetuning_full.h5\n",
      "Epoch 28/100\n",
      " - 153s - loss: 0.1350 - acc: 0.9606 - val_loss: 0.2691 - val_acc: 0.9414\n",
      "\n",
      "Epoch 00028: val_acc improved from 0.93846 to 0.94142, saving model to models/finetuning_full.h5\n",
      "Epoch 29/100\n",
      " - 150s - loss: 0.1348 - acc: 0.9561 - val_loss: 0.2843 - val_acc: 0.9367\n",
      "\n",
      "Epoch 00029: val_acc did not improve from 0.94142\n",
      "Epoch 30/100\n",
      " - 151s - loss: 0.1262 - acc: 0.9616 - val_loss: 0.3011 - val_acc: 0.9325\n",
      "\n",
      "Epoch 00030: val_acc did not improve from 0.94142\n",
      "Epoch 31/100\n",
      " - 150s - loss: 0.1290 - acc: 0.9621 - val_loss: 0.2373 - val_acc: 0.9444\n",
      "\n",
      "Epoch 00031: val_acc improved from 0.94142 to 0.94438, saving model to models/finetuning_full.h5\n",
      "Epoch 32/100\n",
      " - 149s - loss: 0.1128 - acc: 0.9671 - val_loss: 0.2517 - val_acc: 0.9426\n",
      "\n",
      "Epoch 00032: val_acc did not improve from 0.94438\n",
      "Epoch 33/100\n",
      " - 149s - loss: 0.1107 - acc: 0.9655 - val_loss: 0.2444 - val_acc: 0.9414\n",
      "\n",
      "Epoch 00033: val_acc did not improve from 0.94438\n",
      "Epoch 34/100\n",
      " - 150s - loss: 0.0933 - acc: 0.9726 - val_loss: 0.2237 - val_acc: 0.9503\n",
      "\n",
      "Epoch 00034: val_acc improved from 0.94438 to 0.95030, saving model to models/finetuning_full.h5\n",
      "Epoch 35/100\n",
      " - 150s - loss: 0.0908 - acc: 0.9726 - val_loss: 0.2412 - val_acc: 0.9420\n",
      "\n",
      "Epoch 00035: val_acc did not improve from 0.95030\n",
      "Epoch 36/100\n",
      " - 148s - loss: 0.0912 - acc: 0.9754 - val_loss: 0.3081 - val_acc: 0.9349\n",
      "\n",
      "Epoch 00036: val_acc did not improve from 0.95030\n",
      "Epoch 37/100\n",
      " - 149s - loss: 0.0820 - acc: 0.9765 - val_loss: 0.2227 - val_acc: 0.9515\n",
      "\n",
      "Epoch 00037: val_acc improved from 0.95030 to 0.95148, saving model to models/finetuning_full.h5\n",
      "Epoch 38/100\n",
      " - 148s - loss: 0.0795 - acc: 0.9754 - val_loss: 0.2277 - val_acc: 0.9479\n",
      "\n",
      "Epoch 00038: val_acc did not improve from 0.95148\n",
      "Epoch 39/100\n",
      " - 148s - loss: 0.0848 - acc: 0.9748 - val_loss: 0.2259 - val_acc: 0.9515\n",
      "\n",
      "Epoch 00039: val_acc did not improve from 0.95148\n",
      "Epoch 40/100\n",
      " - 147s - loss: 0.0627 - acc: 0.9832 - val_loss: 0.2446 - val_acc: 0.9473\n",
      "\n",
      "Epoch 00040: val_acc did not improve from 0.95148\n",
      "Epoch 41/100\n",
      " - 148s - loss: 0.0698 - acc: 0.9811 - val_loss: 0.2318 - val_acc: 0.9515\n",
      "\n",
      "Epoch 00041: val_acc improved from 0.95148 to 0.95148, saving model to models/finetuning_full.h5\n",
      "Epoch 42/100\n",
      " - 148s - loss: 0.0623 - acc: 0.9805 - val_loss: 0.2595 - val_acc: 0.9515\n",
      "\n",
      "Epoch 00042: val_acc did not improve from 0.95148\n",
      "Epoch 43/100\n",
      " - 149s - loss: 0.0770 - acc: 0.9754 - val_loss: 0.2561 - val_acc: 0.9497\n",
      "\n",
      "Epoch 00043: val_acc did not improve from 0.95148\n",
      "Epoch 44/100\n",
      " - 148s - loss: 0.0562 - acc: 0.9805 - val_loss: 0.2228 - val_acc: 0.9556\n",
      "\n",
      "Epoch 00044: val_acc improved from 0.95148 to 0.95562, saving model to models/finetuning_full.h5\n",
      "Epoch 45/100\n",
      " - 148s - loss: 0.0580 - acc: 0.9823 - val_loss: 0.2915 - val_acc: 0.9462\n",
      "\n",
      "Epoch 00045: val_acc did not improve from 0.95562\n",
      "Epoch 46/100\n",
      " - 147s - loss: 0.0669 - acc: 0.9784 - val_loss: 0.2682 - val_acc: 0.9426\n",
      "\n",
      "Epoch 00046: val_acc did not improve from 0.95562\n",
      "Epoch 47/100\n",
      " - 147s - loss: 0.0576 - acc: 0.9815 - val_loss: 0.2371 - val_acc: 0.9550\n",
      "\n",
      "Epoch 00047: val_acc did not improve from 0.95562\n",
      "Epoch 48/100\n",
      " - 147s - loss: 0.0701 - acc: 0.9783 - val_loss: 0.2335 - val_acc: 0.9456\n",
      "\n",
      "Epoch 00048: val_acc did not improve from 0.95562\n",
      "Epoch 49/100\n",
      " - 147s - loss: 0.0592 - acc: 0.9825 - val_loss: 0.2296 - val_acc: 0.9533\n",
      "\n",
      "Epoch 00049: val_acc did not improve from 0.95562\n",
      "Epoch 00049: early stopping\n"
     ]
    }
   ],
   "source": [
    "# Model saving callback\n",
    "checkpointer = ModelCheckpoint(filepath='models/finetuning_full.h5', monitor='val_acc', verbose=1, save_best_only=True)\n",
    "\n",
    "# Early stopping\n",
    "early_stopping = EarlyStopping(monitor='val_acc', verbose=1, patience=5)\n",
    "\n",
    "history = model.fit_generator(\n",
    "        train_generator,\n",
    "        steps_per_epoch=np.ceil(train_samples/float(batch_size)),\n",
    "        epochs=epochs,\n",
    "        callbacks=[checkpointer, early_stopping],\n",
    "        verbose=2,\n",
    "        validation_data=valid_generator,\n",
    "        validation_steps=np.ceil(valid_samples/float(batch_size)))"
   ]
  },
  {
   "cell_type": "markdown",
   "metadata": {},
   "source": [
    "# Evaluation"
   ]
  },
  {
   "cell_type": "code",
   "execution_count": 33,
   "metadata": {},
   "outputs": [
    {
     "data": {
      "text/plain": [
       "[0.2300461845531866, 0.9532044382025794]"
      ]
     },
     "execution_count": 33,
     "metadata": {},
     "output_type": "execute_result"
    }
   ],
   "source": [
    "model.evaluate_generator(valid_generator, valid_samples)"
   ]
  },
  {
   "cell_type": "code",
   "execution_count": 34,
   "metadata": {},
   "outputs": [
    {
     "data": {
      "image/png": "[encoded data removed]",
      "text/plain": [
       "<Figure size 432x288 with 1 Axes>"
      ]
     },
     "metadata": {
      "needs_background": "light"
     },
     "output_type": "display_data"
    }
   ],
   "source": [
    "fig, ax = plt.subplots()\n",
    "plt.plot(history.history['acc'])\n",
    "plt.plot(history.history['val_acc'])\n",
    "plt.title('Model accuracy')\n",
    "plt.ylabel('Accuracy')\n",
    "plt.xlabel('Epoch')\n",
    "plt.legend(['Train', 'Test'], loc='upper left')\n",
    "plt.show()"
   ]
  }
 ],
 "metadata": {
  "kernelspec": {
   "display_name": "Python 2",
   "language": "python",
   "name": "python2"
  },
  "language_info": {
   "codemirror_mode": {
    "name": "ipython",
    "version": 2
   },
   "file_extension": ".py",
   "mimetype": "text/x-python",
   "name": "python",
   "nbconvert_exporter": "python",
   "pygments_lexer": "ipython2",
   "version": "2.7.12"
  }
 },
 "nbformat": 4,
 "nbformat_minor": 2
}
