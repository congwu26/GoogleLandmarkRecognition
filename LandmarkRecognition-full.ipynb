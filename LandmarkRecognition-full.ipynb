{
 "cells": [
  {
   "cell_type": "markdown",
   "metadata": {},
   "source": [
    "# Import data"
   ]
  },
  {
   "cell_type": "code",
   "execution_count": 1,
   "metadata": {},
   "outputs": [
    {
     "name": "stderr",
     "output_type": "stream",
     "text": [
      "Using TensorFlow backend.\n"
     ]
    }
   ],
   "source": [
    "%matplotlib inline\n",
    "\n",
    "import glob\n",
    "import os\n",
    "import numpy as np\n",
    "from keras.callbacks import EarlyStopping, ModelCheckpoint\n",
    "from keras.layers import Activation, Dropout, Flatten, Dense\n",
    "from keras.layers import Convolution2D, MaxPooling2D, ZeroPadding2D\n",
    "from keras.models import Sequential\n",
    "from keras.preprocessing.image import ImageDataGenerator, img_to_array, load_img\n",
    "from keras import optimizers\n",
    "from keras.models import Model\n",
    "from keras import applications\n",
    "from keras.utils.np_utils import to_categorical \n",
    "import matplotlib.image as mpimg\n",
    "import matplotlib.pyplot as plt\n",
    "import seaborn as sns\n",
    "\n",
    "sns.set()"
   ]
  },
  {
   "cell_type": "code",
   "execution_count": 2,
   "metadata": {},
   "outputs": [],
   "source": [
    "import warnings\n",
    "warnings.simplefilter(action='ignore', category=FutureWarning)"
   ]
  },
  {
   "cell_type": "code",
   "execution_count": 17,
   "metadata": {},
   "outputs": [],
   "source": [
    "# Dimensions of our images.\n",
    "img_width, img_height = 240, 240\n",
    "\n",
    "# epochs and batch_size\n",
    "epochs = 100\n",
    "batch_size = 32\n",
    "\n",
    "# path to train and validation data\n",
    "train_data_dir = '/dev/shm/train_sample'\n",
    "valid_data_dir = '/dev/shm/valid_sample'\n",
    "# train_data_dir = '/dev/shm/train'\n",
    "# valid_data_dir = '/dev/shm/valid'"
   ]
  },
  {
   "cell_type": "code",
   "execution_count": 18,
   "metadata": {},
   "outputs": [],
   "source": [
    "datagen = ImageDataGenerator(rescale=1./255)"
   ]
  },
  {
   "cell_type": "code",
   "execution_count": 19,
   "metadata": {},
   "outputs": [
    {
     "name": "stdout",
     "output_type": "stream",
     "text": [
      "Found 4911 images belonging to 46 classes.\n"
     ]
    }
   ],
   "source": [
    "train_generator = datagen.flow_from_directory(\n",
    "        train_data_dir,\n",
    "        target_size=(img_width, img_height),\n",
    "        batch_size=batch_size)"
   ]
  },
  {
   "cell_type": "code",
   "execution_count": 21,
   "metadata": {},
   "outputs": [
    {
     "name": "stdout",
     "output_type": "stream",
     "text": [
      "Found 1690 images belonging to 46 classes.\n"
     ]
    }
   ],
   "source": [
    "valid_generator = datagen.flow_from_directory(\n",
    "        valid_data_dir,\n",
    "        target_size=(img_width, img_height),\n",
    "        batch_size=batch_size)"
   ]
  },
  {
   "cell_type": "code",
   "execution_count": 23,
   "metadata": {},
   "outputs": [],
   "source": [
    "n_classes = 46\n",
    "train_samples = 4911\n",
    "valid_samples = 1690\n",
    "# n_classes = 6451\n",
    "# train_samples = 859486\n",
    "# valid_samples = 294058"
   ]
  },
  {
   "cell_type": "markdown",
   "metadata": {},
   "source": [
    "# Basic CNN"
   ]
  },
  {
   "cell_type": "code",
   "execution_count": 24,
   "metadata": {},
   "outputs": [],
   "source": [
    "model = Sequential()\n",
    "model.add(Convolution2D(32, (3, 3), input_shape=(img_width, img_height, 3)))\n",
    "model.add(Activation('relu'))\n",
    "model.add(MaxPooling2D(pool_size=(2, 2)))\n",
    "\n",
    "model.add(Convolution2D(32, (3, 3)))\n",
    "model.add(Activation('relu'))\n",
    "model.add(MaxPooling2D(pool_size=(2, 2)))\n",
    "\n",
    "model.add(Convolution2D(64, (3, 3)))\n",
    "model.add(Activation('relu'))\n",
    "model.add(MaxPooling2D(pool_size=(2, 2)))\n",
    "\n",
    "model.add(Convolution2D(64, (3, 3)))\n",
    "model.add(Activation('relu'))\n",
    "model.add(MaxPooling2D(pool_size=(2, 2)))\n",
    "\n",
    "model.add(Convolution2D(128, (3, 3)))\n",
    "model.add(Activation('relu'))\n",
    "model.add(MaxPooling2D(pool_size=(2, 2)))\n",
    "\n",
    "model.add(Flatten())\n",
    "model.add(Dense(512))\n",
    "model.add(Activation('relu'))\n",
    "model.add(Dropout(0.5))\n",
    "model.add(Dense(n_classes))\n",
    "model.add(Activation('softmax'))\n",
    "\n",
    "model.compile(loss='categorical_crossentropy',\n",
    "              optimizer='rmsprop',\n",
    "              metrics=['accuracy'])"
   ]
  },
  {
   "cell_type": "code",
   "execution_count": 25,
   "metadata": {},
   "outputs": [
    {
     "name": "stdout",
     "output_type": "stream",
     "text": [
      "_________________________________________________________________\n",
      "Layer (type)                 Output Shape              Param #   \n",
      "=================================================================\n",
      "conv2d_15 (Conv2D)           (None, 238, 238, 32)      896       \n",
      "_________________________________________________________________\n",
      "activation_23 (Activation)   (None, 238, 238, 32)      0         \n",
      "_________________________________________________________________\n",
      "max_pooling2d_15 (MaxPooling (None, 119, 119, 32)      0         \n",
      "_________________________________________________________________\n",
      "conv2d_16 (Conv2D)           (None, 117, 117, 32)      9248      \n",
      "_________________________________________________________________\n",
      "activation_24 (Activation)   (None, 117, 117, 32)      0         \n",
      "_________________________________________________________________\n",
      "max_pooling2d_16 (MaxPooling (None, 58, 58, 32)        0         \n",
      "_________________________________________________________________\n",
      "conv2d_17 (Conv2D)           (None, 56, 56, 64)        18496     \n",
      "_________________________________________________________________\n",
      "activation_25 (Activation)   (None, 56, 56, 64)        0         \n",
      "_________________________________________________________________\n",
      "max_pooling2d_17 (MaxPooling (None, 28, 28, 64)        0         \n",
      "_________________________________________________________________\n",
      "conv2d_18 (Conv2D)           (None, 26, 26, 64)        36928     \n",
      "_________________________________________________________________\n",
      "activation_26 (Activation)   (None, 26, 26, 64)        0         \n",
      "_________________________________________________________________\n",
      "max_pooling2d_18 (MaxPooling (None, 13, 13, 64)        0         \n",
      "_________________________________________________________________\n",
      "conv2d_19 (Conv2D)           (None, 11, 11, 128)       73856     \n",
      "_________________________________________________________________\n",
      "activation_27 (Activation)   (None, 11, 11, 128)       0         \n",
      "_________________________________________________________________\n",
      "max_pooling2d_19 (MaxPooling (None, 5, 5, 128)         0         \n",
      "_________________________________________________________________\n",
      "flatten_5 (Flatten)          (None, 3200)              0         \n",
      "_________________________________________________________________\n",
      "dense_9 (Dense)              (None, 512)               1638912   \n",
      "_________________________________________________________________\n",
      "activation_28 (Activation)   (None, 512)               0         \n",
      "_________________________________________________________________\n",
      "dropout_5 (Dropout)          (None, 512)               0         \n",
      "_________________________________________________________________\n",
      "dense_10 (Dense)             (None, 46)                23598     \n",
      "_________________________________________________________________\n",
      "activation_29 (Activation)   (None, 46)                0         \n",
      "=================================================================\n",
      "Total params: 1,801,934\n",
      "Trainable params: 1,801,934\n",
      "Non-trainable params: 0\n",
      "_________________________________________________________________\n"
     ]
    }
   ],
   "source": [
    "model.summary()"
   ]
  },
  {
   "cell_type": "code",
   "execution_count": 27,
   "metadata": {},
   "outputs": [
    {
     "name": "stdout",
     "output_type": "stream",
     "text": [
      "Epoch 1/100\n",
      "Epoch 00000: val_acc improved from -inf to 0.58107, saving model to models/basic_cnn.h5\n",
      "23s - loss: 2.0450 - acc: 0.5018 - val_loss: 1.7531 - val_acc: 0.5811\n",
      "Epoch 2/100\n",
      "Epoch 00001: val_acc improved from 0.58107 to 0.63728, saving model to models/basic_cnn.h5\n",
      "23s - loss: 1.5814 - acc: 0.6030 - val_loss: 1.4266 - val_acc: 0.6373\n",
      "Epoch 3/100\n",
      "Epoch 00002: val_acc improved from 0.63728 to 0.70355, saving model to models/basic_cnn.h5\n",
      "23s - loss: 1.2872 - acc: 0.6696 - val_loss: 1.2113 - val_acc: 0.7036\n",
      "Epoch 4/100\n",
      "Epoch 00003: val_acc improved from 0.70355 to 0.72189, saving model to models/basic_cnn.h5\n",
      "23s - loss: 1.0467 - acc: 0.7261 - val_loss: 1.1119 - val_acc: 0.7219\n",
      "Epoch 5/100\n",
      "Epoch 00004: val_acc improved from 0.72189 to 0.75266, saving model to models/basic_cnn.h5\n",
      "23s - loss: 0.8587 - acc: 0.7748 - val_loss: 1.0015 - val_acc: 0.7527\n",
      "Epoch 6/100\n",
      "Epoch 00005: val_acc improved from 0.75266 to 0.75562, saving model to models/basic_cnn.h5\n",
      "23s - loss: 0.7037 - acc: 0.8094 - val_loss: 0.9995 - val_acc: 0.7556\n",
      "Epoch 7/100\n",
      "Epoch 00006: val_acc improved from 0.75562 to 0.77278, saving model to models/basic_cnn.h5\n",
      "23s - loss: 0.5794 - acc: 0.8356 - val_loss: 1.0075 - val_acc: 0.7728\n",
      "Epoch 8/100\n",
      "Epoch 00007: val_acc improved from 0.77278 to 0.78225, saving model to models/basic_cnn.h5\n",
      "23s - loss: 0.5025 - acc: 0.8571 - val_loss: 1.0909 - val_acc: 0.7822\n",
      "Epoch 9/100\n",
      "Epoch 00008: val_acc improved from 0.78225 to 0.79527, saving model to models/basic_cnn.h5\n",
      "23s - loss: 0.4308 - acc: 0.8814 - val_loss: 0.9200 - val_acc: 0.7953\n",
      "Epoch 10/100\n",
      "Epoch 00009: val_acc did not improve\n",
      "23s - loss: 0.3607 - acc: 0.8991 - val_loss: 1.0745 - val_acc: 0.7870\n",
      "Epoch 11/100\n",
      "Epoch 00010: val_acc improved from 0.79527 to 0.81953, saving model to models/basic_cnn.h5\n",
      "23s - loss: 0.3348 - acc: 0.9036 - val_loss: 0.9955 - val_acc: 0.8195\n",
      "Epoch 12/100\n",
      "Epoch 00011: val_acc did not improve\n",
      "23s - loss: 0.2749 - acc: 0.9206 - val_loss: 0.9926 - val_acc: 0.8172\n",
      "Epoch 13/100\n",
      "Epoch 00012: val_acc did not improve\n",
      "23s - loss: 0.2661 - acc: 0.9227 - val_loss: 1.3381 - val_acc: 0.7550\n",
      "Epoch 14/100\n",
      "Epoch 00013: val_acc did not improve\n",
      "23s - loss: 0.2694 - acc: 0.9237 - val_loss: 1.1049 - val_acc: 0.8071\n",
      "Epoch 15/100\n",
      "Epoch 00014: val_acc did not improve\n",
      "23s - loss: 0.2332 - acc: 0.9332 - val_loss: 1.0961 - val_acc: 0.7988\n",
      "Epoch 16/100\n",
      "Epoch 00015: val_acc did not improve\n",
      "23s - loss: 0.2146 - acc: 0.9403 - val_loss: 1.4161 - val_acc: 0.8059\n",
      "Epoch 17/100\n",
      "Epoch 00016: val_acc improved from 0.81953 to 0.82604, saving model to models/basic_cnn.h5\n",
      "23s - loss: 0.2336 - acc: 0.9387 - val_loss: 1.1090 - val_acc: 0.8260\n",
      "Epoch 18/100\n",
      "Epoch 00017: val_acc did not improve\n",
      "23s - loss: 0.2028 - acc: 0.9433 - val_loss: 1.3595 - val_acc: 0.7858\n",
      "Epoch 19/100\n",
      "Epoch 00018: val_acc did not improve\n",
      "23s - loss: 0.2088 - acc: 0.9474 - val_loss: 1.1037 - val_acc: 0.7947\n",
      "Epoch 20/100\n",
      "Epoch 00019: val_acc did not improve\n",
      "23s - loss: 0.2108 - acc: 0.9437 - val_loss: 1.3446 - val_acc: 0.8183\n",
      "Epoch 21/100\n",
      "Epoch 00020: val_acc did not improve\n",
      "23s - loss: 0.1978 - acc: 0.9480 - val_loss: 1.0510 - val_acc: 0.8213\n",
      "Epoch 22/100\n",
      "Epoch 00021: val_acc did not improve\n",
      "23s - loss: 0.1826 - acc: 0.9503 - val_loss: 1.0707 - val_acc: 0.7935\n",
      "Epoch 23/100\n",
      "Epoch 00022: val_acc did not improve\n",
      "23s - loss: 0.1807 - acc: 0.9480 - val_loss: 1.2736 - val_acc: 0.8089\n",
      "Epoch 00022: early stopping\n"
     ]
    }
   ],
   "source": [
    "# Model saving callback\n",
    "checkpointer = ModelCheckpoint(filepath='models/basic_cnn.h5', monitor='val_acc', verbose=1, save_best_only=True)\n",
    "\n",
    "# Early stopping\n",
    "early_stopping = EarlyStopping(monitor='val_acc', verbose=1, patience=5)\n",
    "\n",
    "history = model.fit_generator(\n",
    "        train_generator,\n",
    "        steps_per_epoch=np.ceil(train_samples/float(batch_size)),\n",
    "        epochs=epochs,\n",
    "        callbacks=[checkpointer, early_stopping],\n",
    "        verbose=2,\n",
    "        validation_data=valid_generator,\n",
    "        validation_steps=np.ceil(valid_samples/float(batch_size)))"
   ]
  },
  {
   "cell_type": "code",
   "execution_count": 28,
   "metadata": {},
   "outputs": [
    {
     "data": {
      "text/plain": [
       "[1.2828314637822251, 0.81383610537580953]"
      ]
     },
     "execution_count": 28,
     "metadata": {},
     "output_type": "execute_result"
    }
   ],
   "source": [
    "model.evaluate_generator(valid_generator, valid_samples)"
   ]
  },
  {
   "cell_type": "code",
   "execution_count": 29,
   "metadata": {},
   "outputs": [
    {
     "data": {
      "image/png": "[encoded data removed]",
      "text/plain": [
       "<matplotlib.figure.Figure at 0x7f1716b10f90>"
      ]
     },
     "metadata": {},
     "output_type": "display_data"
    }
   ],
   "source": [
    "fig, ax = plt.subplots()\n",
    "plt.plot(history.history['acc'])\n",
    "plt.plot(history.history['val_acc'])\n",
    "plt.title('Model accuracy')\n",
    "plt.ylabel('Accuracy')\n",
    "plt.xlabel('Epoch')\n",
    "plt.legend(['Train', 'Test'], loc='upper left')\n",
    "plt.show()"
   ]
  },
  {
   "cell_type": "markdown",
   "metadata": {},
   "source": [
    "# Data Augumentation"
   ]
  },
  {
   "cell_type": "code",
   "execution_count": 30,
   "metadata": {},
   "outputs": [],
   "source": [
    "train_datagen_augmented = ImageDataGenerator(\n",
    "        rescale=1. / 255,      \n",
    "        shear_range=0.2,       \n",
    "        zoom_range=0.2,        \n",
    "        horizontal_flip=True)  "
   ]
  },
  {
   "cell_type": "code",
   "execution_count": 31,
   "metadata": {},
   "outputs": [
    {
     "name": "stdout",
     "output_type": "stream",
     "text": [
      "Found 4911 images belonging to 46 classes.\n"
     ]
    }
   ],
   "source": [
    "train_generator = train_datagen_augmented.flow_from_directory(\n",
    "        train_data_dir,\n",
    "        target_size=(img_width, img_height),\n",
    "        batch_size=batch_size)"
   ]
  },
  {
   "cell_type": "code",
   "execution_count": 32,
   "metadata": {},
   "outputs": [
    {
     "name": "stdout",
     "output_type": "stream",
     "text": [
      "Epoch 1/100\n",
      "Epoch 00000: val_acc improved from -inf to 0.78225, saving model to models/data_augmentation.h5\n",
      "47s - loss: 1.0868 - acc: 0.7383 - val_loss: 1.0075 - val_acc: 0.7822\n",
      "Epoch 2/100\n",
      "Epoch 00001: val_acc improved from 0.78225 to 0.79053, saving model to models/data_augmentation.h5\n",
      "44s - loss: 0.8976 - acc: 0.7762 - val_loss: 0.9516 - val_acc: 0.7905\n",
      "Epoch 3/100\n",
      "Epoch 00002: val_acc did not improve\n",
      "44s - loss: 0.8161 - acc: 0.7905 - val_loss: 1.0838 - val_acc: 0.7331\n",
      "Epoch 4/100\n",
      "Epoch 00003: val_acc did not improve\n",
      "44s - loss: 0.7522 - acc: 0.8006 - val_loss: 1.0045 - val_acc: 0.7763\n",
      "Epoch 5/100\n",
      "Epoch 00004: val_acc improved from 0.79053 to 0.79112, saving model to models/data_augmentation.h5\n",
      "44s - loss: 0.6938 - acc: 0.8198 - val_loss: 0.9514 - val_acc: 0.7911\n",
      "Epoch 6/100\n",
      "Epoch 00005: val_acc did not improve\n",
      "45s - loss: 0.6872 - acc: 0.8224 - val_loss: 1.3474 - val_acc: 0.7361\n",
      "Epoch 7/100\n",
      "Epoch 00006: val_acc improved from 0.79112 to 0.82544, saving model to models/data_augmentation.h5\n",
      "43s - loss: 0.6824 - acc: 0.8257 - val_loss: 0.9767 - val_acc: 0.8254\n",
      "Epoch 8/100\n",
      "Epoch 00007: val_acc did not improve\n",
      "45s - loss: 0.6639 - acc: 0.8262 - val_loss: 0.9065 - val_acc: 0.7899\n",
      "Epoch 9/100\n",
      "Epoch 00008: val_acc improved from 0.82544 to 0.83314, saving model to models/data_augmentation.h5\n",
      "45s - loss: 0.6428 - acc: 0.8362 - val_loss: 0.7595 - val_acc: 0.8331\n",
      "Epoch 10/100\n",
      "Epoch 00009: val_acc did not improve\n",
      "44s - loss: 0.6578 - acc: 0.8287 - val_loss: 0.9297 - val_acc: 0.8219\n",
      "Epoch 11/100\n",
      "Epoch 00010: val_acc did not improve\n",
      "44s - loss: 0.6367 - acc: 0.8353 - val_loss: 1.3631 - val_acc: 0.7763\n",
      "Epoch 12/100\n",
      "Epoch 00011: val_acc did not improve\n",
      "44s - loss: 0.6171 - acc: 0.8389 - val_loss: 0.6690 - val_acc: 0.8290\n",
      "Epoch 13/100\n",
      "Epoch 00012: val_acc improved from 0.83314 to 0.83491, saving model to models/data_augmentation.h5\n",
      "43s - loss: 0.6157 - acc: 0.8384 - val_loss: 0.9621 - val_acc: 0.8349\n",
      "Epoch 14/100\n",
      "Epoch 00013: val_acc did not improve\n",
      "44s - loss: 0.6231 - acc: 0.8354 - val_loss: 1.2373 - val_acc: 0.8012\n",
      "Epoch 15/100\n",
      "Epoch 00014: val_acc improved from 0.83491 to 0.84201, saving model to models/data_augmentation.h5\n",
      "44s - loss: 0.6143 - acc: 0.8529 - val_loss: 0.8727 - val_acc: 0.8420\n",
      "Epoch 16/100\n",
      "Epoch 00015: val_acc improved from 0.84201 to 0.84320, saving model to models/data_augmentation.h5\n",
      "43s - loss: 0.6215 - acc: 0.8429 - val_loss: 0.8768 - val_acc: 0.8432\n",
      "Epoch 17/100\n",
      "Epoch 00016: val_acc did not improve\n",
      "43s - loss: 0.5982 - acc: 0.8491 - val_loss: 0.9019 - val_acc: 0.8047\n",
      "Epoch 18/100\n",
      "Epoch 00017: val_acc did not improve\n",
      "44s - loss: 0.6075 - acc: 0.8479 - val_loss: 1.2338 - val_acc: 0.7704\n",
      "Epoch 19/100\n",
      "Epoch 00018: val_acc did not improve\n",
      "44s - loss: 0.6459 - acc: 0.8378 - val_loss: 0.8080 - val_acc: 0.8207\n",
      "Epoch 20/100\n",
      "Epoch 00019: val_acc improved from 0.84320 to 0.84556, saving model to models/data_augmentation.h5\n",
      "45s - loss: 0.6184 - acc: 0.8413 - val_loss: 0.6946 - val_acc: 0.8456\n",
      "Epoch 21/100\n",
      "Epoch 00020: val_acc did not improve\n",
      "44s - loss: 0.5634 - acc: 0.8583 - val_loss: 0.9578 - val_acc: 0.7751\n",
      "Epoch 22/100\n",
      "Epoch 00021: val_acc did not improve\n",
      "43s - loss: 0.6277 - acc: 0.8394 - val_loss: 0.9247 - val_acc: 0.8355\n",
      "Epoch 23/100\n",
      "Epoch 00022: val_acc did not improve\n",
      "44s - loss: 0.6374 - acc: 0.8453 - val_loss: 1.5356 - val_acc: 0.7817\n",
      "Epoch 24/100\n",
      "Epoch 00023: val_acc did not improve\n",
      "45s - loss: 0.6225 - acc: 0.8451 - val_loss: 0.9171 - val_acc: 0.8112\n",
      "Epoch 25/100\n",
      "Epoch 00024: val_acc did not improve\n",
      "44s - loss: 0.6150 - acc: 0.8416 - val_loss: 1.0265 - val_acc: 0.8130\n",
      "Epoch 26/100\n",
      "Epoch 00025: val_acc did not improve\n",
      "44s - loss: 0.6223 - acc: 0.8518 - val_loss: 1.1886 - val_acc: 0.8047\n",
      "Epoch 00025: early stopping\n"
     ]
    }
   ],
   "source": [
    "# Model saving callback\n",
    "checkpointer = ModelCheckpoint(filepath='models/data_augmentation.h5', monitor='val_acc', verbose=1, save_best_only=True)\n",
    "\n",
    "# Early stopping\n",
    "early_stopping = EarlyStopping(monitor='val_acc', verbose=1, patience=5)\n",
    "\n",
    "history = model.fit_generator(\n",
    "        train_generator,\n",
    "        steps_per_epoch=np.ceil(train_samples/float(batch_size)),\n",
    "        epochs=epochs,\n",
    "        callbacks=[checkpointer, early_stopping],\n",
    "        verbose=2,\n",
    "        validation_data=valid_generator,\n",
    "        validation_steps=np.ceil(valid_samples/float(batch_size)))"
   ]
  },
  {
   "cell_type": "code",
   "execution_count": 33,
   "metadata": {},
   "outputs": [
    {
     "data": {
      "text/plain": [
       "[1.2354771347407854, 0.80637618848023107]"
      ]
     },
     "execution_count": 33,
     "metadata": {},
     "output_type": "execute_result"
    }
   ],
   "source": [
    "model.evaluate_generator(valid_generator, valid_samples)"
   ]
  },
  {
   "cell_type": "code",
   "execution_count": 34,
   "metadata": {},
   "outputs": [
    {
     "data": {
      "image/png": "[encoded data removed]",
      "text/plain": [
       "<matplotlib.figure.Figure at 0x7f1716b4e150>"
      ]
     },
     "metadata": {},
     "output_type": "display_data"
    }
   ],
   "source": [
    "fig, ax = plt.subplots()\n",
    "plt.plot(history.history['acc'])\n",
    "plt.plot(history.history['val_acc'])\n",
    "plt.title('Model accuracy')\n",
    "plt.ylabel('Accuracy')\n",
    "plt.xlabel('Epoch')\n",
    "plt.legend(['Train', 'Test'], loc='upper left')\n",
    "plt.show()"
   ]
  },
  {
   "cell_type": "markdown",
   "metadata": {},
   "source": [
    "# VGG 16 models"
   ]
  },
  {
   "cell_type": "code",
   "execution_count": 70,
   "metadata": {},
   "outputs": [],
   "source": [
    "model_vgg = applications.VGG16(include_top=False, weights='imagenet')"
   ]
  },
  {
   "cell_type": "code",
   "execution_count": 71,
   "metadata": {},
   "outputs": [],
   "source": [
    "bottleneck_features_train = model_vgg.predict_generator(train_generator, np.ceil(train_samples/float(batch_size)))\n",
    "#np.save(open('/dev/shm/models/bottleneck_features_train.npy', 'wb'), bottleneck_features_train)"
   ]
  },
  {
   "cell_type": "code",
   "execution_count": 72,
   "metadata": {},
   "outputs": [],
   "source": [
    "bottleneck_features_validation = model_vgg.predict_generator(valid_generator, np.ceil(valid_samples/float(batch_size)))\n",
    "#np.save(open('/dev/shm/models/bottleneck_features_validation.npy', 'wb'), bottleneck_features_validation)"
   ]
  },
  {
   "cell_type": "code",
   "execution_count": 73,
   "metadata": {},
   "outputs": [],
   "source": [
    "num_classes = len(train_generator.class_indices)\n",
    "\n",
    "train_data = bottleneck_features_train\n",
    "train_labels = to_categorical(train_generator.classes[:train_samples], num_classes=num_classes)\n",
    "\n",
    "validation_data = bottleneck_features_validation\n",
    "validation_labels = to_categorical(valid_generator.classes[:valid_samples], num_classes=num_classes)"
   ]
  },
  {
   "cell_type": "code",
   "execution_count": 74,
   "metadata": {},
   "outputs": [],
   "source": [
    "model_top = Sequential()\n",
    "model_top.add(Flatten(input_shape=train_data.shape[1:]))\n",
    "model_top.add(Dense(512, activation='relu'))\n",
    "model_top.add(Dropout(0.5))\n",
    "model_top.add(Dense(n_classes, activation='softmax'))\n",
    "\n",
    "model_top.compile(loss='categorical_crossentropy',\n",
    "                  optimizer='rmsprop',\n",
    "                  metrics=['accuracy'])"
   ]
  },
  {
   "cell_type": "code",
   "execution_count": 75,
   "metadata": {},
   "outputs": [
    {
     "name": "stdout",
     "output_type": "stream",
     "text": [
      "_________________________________________________________________\n",
      "Layer (type)                 Output Shape              Param #   \n",
      "=================================================================\n",
      "flatten_10 (Flatten)         (None, 25088)             0         \n",
      "_________________________________________________________________\n",
      "dense_17 (Dense)             (None, 512)               12845568  \n",
      "_________________________________________________________________\n",
      "dropout_9 (Dropout)          (None, 512)               0         \n",
      "_________________________________________________________________\n",
      "dense_18 (Dense)             (None, 46)                23598     \n",
      "=================================================================\n",
      "Total params: 12,869,166\n",
      "Trainable params: 12,869,166\n",
      "Non-trainable params: 0\n",
      "_________________________________________________________________\n"
     ]
    }
   ],
   "source": [
    "model_top.summary()"
   ]
  },
  {
   "cell_type": "code",
   "execution_count": 76,
   "metadata": {
    "scrolled": true
   },
   "outputs": [
    {
     "name": "stdout",
     "output_type": "stream",
     "text": [
      "Train on 4911 samples, validate on 1690 samples\n",
      "Epoch 1/100\n",
      "Epoch 00000: val_acc improved from -inf to 0.13491, saving model to models/bottleneck_features.h5\n",
      "3s - loss: 5.9084 - acc: 0.1045 - val_loss: 3.1428 - val_acc: 0.1349\n",
      "Epoch 2/100\n",
      "Epoch 00001: val_acc did not improve\n",
      "2s - loss: 3.3084 - acc: 0.1254 - val_loss: 3.1010 - val_acc: 0.1254\n",
      "Epoch 3/100\n",
      "Epoch 00002: val_acc did not improve\n",
      "2s - loss: 3.2197 - acc: 0.1354 - val_loss: 3.1682 - val_acc: 0.1083\n",
      "Epoch 4/100\n",
      "Epoch 00003: val_acc did not improve\n",
      "2s - loss: 3.1714 - acc: 0.1299 - val_loss: 3.1543 - val_acc: 0.1183\n",
      "Epoch 5/100\n",
      "Epoch 00004: val_acc did not improve\n",
      "2s - loss: 3.1409 - acc: 0.1366 - val_loss: 3.2755 - val_acc: 0.1207\n",
      "Epoch 6/100\n",
      "Epoch 00005: val_acc improved from 0.13491 to 0.13669, saving model to models/bottleneck_features.h5\n",
      "3s - loss: 3.1425 - acc: 0.1364 - val_loss: 3.1576 - val_acc: 0.1367\n",
      "Epoch 7/100\n",
      "Epoch 00006: val_acc did not improve\n",
      "2s - loss: 3.1075 - acc: 0.1381 - val_loss: 3.2965 - val_acc: 0.1189\n",
      "Epoch 8/100\n",
      "Epoch 00007: val_acc did not improve\n",
      "2s - loss: 3.0697 - acc: 0.1456 - val_loss: 3.2594 - val_acc: 0.1266\n",
      "Epoch 9/100\n",
      "Epoch 00008: val_acc did not improve\n",
      "2s - loss: 3.0678 - acc: 0.1480 - val_loss: 3.2667 - val_acc: 0.1213\n",
      "Epoch 10/100\n",
      "Epoch 00009: val_acc did not improve\n",
      "2s - loss: 3.0433 - acc: 0.1440 - val_loss: 3.3520 - val_acc: 0.1237\n",
      "Epoch 11/100\n",
      "Epoch 00010: val_acc did not improve\n",
      "2s - loss: 3.0333 - acc: 0.1438 - val_loss: 3.2977 - val_acc: 0.1107\n",
      "Epoch 12/100\n",
      "Epoch 00011: val_acc did not improve\n",
      "2s - loss: 3.0117 - acc: 0.1533 - val_loss: 3.4218 - val_acc: 0.1053\n",
      "Epoch 00011: early stopping\n"
     ]
    }
   ],
   "source": [
    "# Model saving callback\n",
    "checkpointer = ModelCheckpoint(filepath='models/bottleneck_features.h5', monitor='val_acc', verbose=1, save_best_only=True)\n",
    "\n",
    "# Early stopping\n",
    "early_stopping = EarlyStopping(monitor='val_acc', verbose=1, patience=5)\n",
    "\n",
    "history = model_top.fit(\n",
    "        train_data,\n",
    "        train_labels,\n",
    "        verbose=2,\n",
    "        epochs=epochs, \n",
    "        batch_size=batch_size,\n",
    "        callbacks=[checkpointer, early_stopping],\n",
    "        validation_data=(validation_data, validation_labels))"
   ]
  },
  {
   "cell_type": "code",
   "execution_count": 77,
   "metadata": {},
   "outputs": [
    {
     "name": "stdout",
     "output_type": "stream",
     "text": [
      "1440/1690 [========================>.....] - ETA: 0s"
     ]
    },
    {
     "data": {
      "text/plain": [
       "[3.4217607630780464, 0.10532544383106852]"
      ]
     },
     "execution_count": 77,
     "metadata": {},
     "output_type": "execute_result"
    }
   ],
   "source": [
    "model_top.evaluate(validation_data, validation_labels)"
   ]
  },
  {
   "cell_type": "code",
   "execution_count": 78,
   "metadata": {},
   "outputs": [
    {
     "data": {
      "image/png": "[encoded data removed]",
      "text/plain": [
       "<matplotlib.figure.Figure at 0x7f171886d0d0>"
      ]
     },
     "metadata": {},
     "output_type": "display_data"
    }
   ],
   "source": [
    "fig, ax = plt.subplots()\n",
    "plt.plot(history.history['acc'])\n",
    "plt.plot(history.history['val_acc'])\n",
    "plt.title('Model accuracy')\n",
    "plt.ylabel('Accuracy')\n",
    "plt.xlabel('Epoch')\n",
    "plt.legend(['Train', 'Test'], loc='upper left')\n",
    "plt.show()"
   ]
  },
  {
   "cell_type": "markdown",
   "metadata": {},
   "source": [
    "# Fine Tuning"
   ]
  },
  {
   "cell_type": "code",
   "execution_count": 81,
   "metadata": {},
   "outputs": [],
   "source": [
    "model_vgg = applications.VGG16(include_top=False, weights='imagenet', input_shape=(img_width, img_height, 3))"
   ]
  },
  {
   "cell_type": "code",
   "execution_count": 82,
   "metadata": {},
   "outputs": [],
   "source": [
    "top_model = Sequential()\n",
    "top_model.add(Flatten(input_shape=model_vgg.output_shape[1:]))\n",
    "top_model.add(Dense(512, activation='relu'))\n",
    "top_model.add(Dropout(0.5))\n",
    "top_model.add(Dense(n_classes, activation='softmax'))\n",
    "\n",
    "top_model.load_weights('models/bottleneck_features.h5')\n",
    "\n",
    "model = Model(inputs=model_vgg.input, outputs=top_model(model_vgg.output))"
   ]
  },
  {
   "cell_type": "code",
   "execution_count": 83,
   "metadata": {},
   "outputs": [],
   "source": [
    "for layer in model.layers[:15]:\n",
    "    layer.trainable = False"
   ]
  },
  {
   "cell_type": "code",
   "execution_count": 84,
   "metadata": {},
   "outputs": [],
   "source": [
    "# Compile the model with a SGD/momentum optimizer and a slow learning rate\n",
    "model.compile(loss='categorical_crossentropy',\n",
    "              optimizer=optimizers.SGD(lr=1e-4, momentum=0.9),\n",
    "              metrics=['accuracy'])"
   ]
  },
  {
   "cell_type": "code",
   "execution_count": 85,
   "metadata": {},
   "outputs": [
    {
     "name": "stdout",
     "output_type": "stream",
     "text": [
      "_________________________________________________________________\n",
      "Layer (type)                 Output Shape              Param #   \n",
      "=================================================================\n",
      "input_6 (InputLayer)         (None, 240, 240, 3)       0         \n",
      "_________________________________________________________________\n",
      "block1_conv1 (Conv2D)        (None, 240, 240, 64)      1792      \n",
      "_________________________________________________________________\n",
      "block1_conv2 (Conv2D)        (None, 240, 240, 64)      36928     \n",
      "_________________________________________________________________\n",
      "block1_pool (MaxPooling2D)   (None, 120, 120, 64)      0         \n",
      "_________________________________________________________________\n",
      "block2_conv1 (Conv2D)        (None, 120, 120, 128)     73856     \n",
      "_________________________________________________________________\n",
      "block2_conv2 (Conv2D)        (None, 120, 120, 128)     147584    \n",
      "_________________________________________________________________\n",
      "block2_pool (MaxPooling2D)   (None, 60, 60, 128)       0         \n",
      "_________________________________________________________________\n",
      "block3_conv1 (Conv2D)        (None, 60, 60, 256)       295168    \n",
      "_________________________________________________________________\n",
      "block3_conv2 (Conv2D)        (None, 60, 60, 256)       590080    \n",
      "_________________________________________________________________\n",
      "block3_conv3 (Conv2D)        (None, 60, 60, 256)       590080    \n",
      "_________________________________________________________________\n",
      "block3_pool (MaxPooling2D)   (None, 30, 30, 256)       0         \n",
      "_________________________________________________________________\n",
      "block4_conv1 (Conv2D)        (None, 30, 30, 512)       1180160   \n",
      "_________________________________________________________________\n",
      "block4_conv2 (Conv2D)        (None, 30, 30, 512)       2359808   \n",
      "_________________________________________________________________\n",
      "block4_conv3 (Conv2D)        (None, 30, 30, 512)       2359808   \n",
      "_________________________________________________________________\n",
      "block4_pool (MaxPooling2D)   (None, 15, 15, 512)       0         \n",
      "_________________________________________________________________\n",
      "block5_conv1 (Conv2D)        (None, 15, 15, 512)       2359808   \n",
      "_________________________________________________________________\n",
      "block5_conv2 (Conv2D)        (None, 15, 15, 512)       2359808   \n",
      "_________________________________________________________________\n",
      "block5_conv3 (Conv2D)        (None, 15, 15, 512)       2359808   \n",
      "_________________________________________________________________\n",
      "block5_pool (MaxPooling2D)   (None, 7, 7, 512)         0         \n",
      "_________________________________________________________________\n",
      "sequential_13 (Sequential)   (None, 46)                12869166  \n",
      "=================================================================\n",
      "Total params: 27,583,854\n",
      "Trainable params: 19,948,590\n",
      "Non-trainable params: 7,635,264\n",
      "_________________________________________________________________\n"
     ]
    }
   ],
   "source": [
    "model.summary()"
   ]
  },
  {
   "cell_type": "markdown",
   "metadata": {},
   "source": [
    "# Training"
   ]
  },
  {
   "cell_type": "code",
   "execution_count": 86,
   "metadata": {},
   "outputs": [
    {
     "name": "stdout",
     "output_type": "stream",
     "text": [
      "Epoch 1/100\n",
      "Epoch 00000: val_acc improved from -inf to 0.23314, saving model to models/finetuning_full.h5\n",
      "143s - loss: 3.0739 - acc: 0.1763 - val_loss: 2.8735 - val_acc: 0.2331\n",
      "Epoch 2/100\n",
      "Epoch 00001: val_acc improved from 0.23314 to 0.23905, saving model to models/finetuning_full.h5\n",
      "143s - loss: 2.8173 - acc: 0.2213 - val_loss: 2.6704 - val_acc: 0.2391\n",
      "Epoch 3/100\n",
      "Epoch 00002: val_acc improved from 0.23905 to 0.36746, saving model to models/finetuning_full.h5\n",
      "143s - loss: 2.6665 - acc: 0.2781 - val_loss: 2.4235 - val_acc: 0.3675\n",
      "Epoch 4/100\n",
      "Epoch 00003: val_acc improved from 0.36746 to 0.50592, saving model to models/finetuning_full.h5\n",
      "143s - loss: 2.4675 - acc: 0.3468 - val_loss: 2.2101 - val_acc: 0.5059\n",
      "Epoch 5/100\n",
      "Epoch 00004: val_acc improved from 0.50592 to 0.56272, saving model to models/finetuning_full.h5\n",
      "144s - loss: 2.2842 - acc: 0.4086 - val_loss: 2.0045 - val_acc: 0.5627\n",
      "Epoch 6/100\n",
      "Epoch 00005: val_acc did not improve\n",
      "142s - loss: 2.1507 - acc: 0.4573 - val_loss: 1.8892 - val_acc: 0.5586\n",
      "Epoch 7/100\n",
      "Epoch 00006: val_acc improved from 0.56272 to 0.58639, saving model to models/finetuning_full.h5\n",
      "143s - loss: 2.0763 - acc: 0.4730 - val_loss: 1.7652 - val_acc: 0.5864\n",
      "Epoch 8/100\n",
      "Epoch 00007: val_acc improved from 0.58639 to 0.59408, saving model to models/finetuning_full.h5\n",
      "144s - loss: 1.9663 - acc: 0.4963 - val_loss: 1.7279 - val_acc: 0.5941\n",
      "Epoch 9/100\n",
      "Epoch 00008: val_acc improved from 0.59408 to 0.62367, saving model to models/finetuning_full.h5\n",
      "144s - loss: 1.8932 - acc: 0.5167 - val_loss: 1.5903 - val_acc: 0.6237\n",
      "Epoch 10/100\n",
      "Epoch 00009: val_acc did not improve\n",
      "142s - loss: 1.8192 - acc: 0.5357 - val_loss: 1.5986 - val_acc: 0.6112\n",
      "Epoch 11/100\n",
      "Epoch 00010: val_acc improved from 0.62367 to 0.63195, saving model to models/finetuning_full.h5\n",
      "144s - loss: 1.7505 - acc: 0.5534 - val_loss: 1.5280 - val_acc: 0.6320\n",
      "Epoch 12/100\n",
      "Epoch 00011: val_acc improved from 0.63195 to 0.63550, saving model to models/finetuning_full.h5\n",
      "143s - loss: 1.6953 - acc: 0.5648 - val_loss: 1.4977 - val_acc: 0.6355\n",
      "Epoch 13/100\n",
      "Epoch 00012: val_acc improved from 0.63550 to 0.64675, saving model to models/finetuning_full.h5\n",
      "144s - loss: 1.6768 - acc: 0.5705 - val_loss: 1.4435 - val_acc: 0.6467\n",
      "Epoch 14/100\n",
      "Epoch 00013: val_acc did not improve\n",
      "143s - loss: 1.6244 - acc: 0.5814 - val_loss: 1.4258 - val_acc: 0.6462\n",
      "Epoch 15/100\n",
      "Epoch 00014: val_acc improved from 0.64675 to 0.65680, saving model to models/finetuning_full.h5\n",
      "144s - loss: 1.5693 - acc: 0.5936 - val_loss: 1.3761 - val_acc: 0.6568\n",
      "Epoch 16/100\n",
      "Epoch 00015: val_acc improved from 0.65680 to 0.65740, saving model to models/finetuning_full.h5\n",
      "143s - loss: 1.5247 - acc: 0.6054 - val_loss: 1.3504 - val_acc: 0.6574\n",
      "Epoch 17/100\n",
      "Epoch 00016: val_acc improved from 0.65740 to 0.66095, saving model to models/finetuning_full.h5\n",
      "144s - loss: 1.4928 - acc: 0.6153 - val_loss: 1.3625 - val_acc: 0.6609\n",
      "Epoch 18/100\n",
      "Epoch 00017: val_acc improved from 0.66095 to 0.66213, saving model to models/finetuning_full.h5\n",
      "144s - loss: 1.4584 - acc: 0.6198 - val_loss: 1.3084 - val_acc: 0.6621\n",
      "Epoch 19/100\n",
      "Epoch 00018: val_acc improved from 0.66213 to 0.66509, saving model to models/finetuning_full.h5\n",
      "144s - loss: 1.4429 - acc: 0.6283 - val_loss: 1.2846 - val_acc: 0.6651\n",
      "Epoch 20/100\n",
      "Epoch 00019: val_acc improved from 0.66509 to 0.68876, saving model to models/finetuning_full.h5\n",
      "143s - loss: 1.3887 - acc: 0.6382 - val_loss: 1.2443 - val_acc: 0.6888\n",
      "Epoch 21/100\n",
      "Epoch 00020: val_acc did not improve\n",
      "142s - loss: 1.3357 - acc: 0.6506 - val_loss: 1.2464 - val_acc: 0.6769\n",
      "Epoch 22/100\n",
      "Epoch 00021: val_acc improved from 0.68876 to 0.70592, saving model to models/finetuning_full.h5\n",
      "144s - loss: 1.3205 - acc: 0.6503 - val_loss: 1.1556 - val_acc: 0.7059\n",
      "Epoch 23/100\n",
      "Epoch 00022: val_acc improved from 0.70592 to 0.70769, saving model to models/finetuning_full.h5\n",
      "144s - loss: 1.2904 - acc: 0.6655 - val_loss: 1.1415 - val_acc: 0.7077\n",
      "Epoch 24/100\n",
      "Epoch 00023: val_acc improved from 0.70769 to 0.71834, saving model to models/finetuning_full.h5\n",
      "143s - loss: 1.2688 - acc: 0.6678 - val_loss: 1.1006 - val_acc: 0.7183\n",
      "Epoch 25/100\n",
      "Epoch 00024: val_acc improved from 0.71834 to 0.72308, saving model to models/finetuning_full.h5\n",
      "143s - loss: 1.2396 - acc: 0.6744 - val_loss: 1.1109 - val_acc: 0.7231\n",
      "Epoch 26/100\n",
      "Epoch 00025: val_acc improved from 0.72308 to 0.73905, saving model to models/finetuning_full.h5\n",
      "144s - loss: 1.2324 - acc: 0.6770 - val_loss: 1.0691 - val_acc: 0.7391\n",
      "Epoch 27/100\n",
      "Epoch 00026: val_acc improved from 0.73905 to 0.74675, saving model to models/finetuning_full.h5\n",
      "144s - loss: 1.2165 - acc: 0.6825 - val_loss: 1.0423 - val_acc: 0.7467\n",
      "Epoch 28/100\n",
      "Epoch 00027: val_acc improved from 0.74675 to 0.74911, saving model to models/finetuning_full.h5\n",
      "144s - loss: 1.1861 - acc: 0.6798 - val_loss: 1.0420 - val_acc: 0.7491\n",
      "Epoch 29/100\n",
      "Epoch 00028: val_acc improved from 0.74911 to 0.75740, saving model to models/finetuning_full.h5\n",
      "143s - loss: 1.1450 - acc: 0.6983 - val_loss: 0.9971 - val_acc: 0.7574\n",
      "Epoch 30/100\n",
      "Epoch 00029: val_acc improved from 0.75740 to 0.76982, saving model to models/finetuning_full.h5\n",
      "143s - loss: 1.1863 - acc: 0.6877 - val_loss: 0.9825 - val_acc: 0.7698\n",
      "Epoch 31/100\n",
      "Epoch 00030: val_acc did not improve\n",
      "142s - loss: 1.1123 - acc: 0.7010 - val_loss: 0.9840 - val_acc: 0.7598\n",
      "Epoch 32/100\n",
      "Epoch 00031: val_acc did not improve\n",
      "143s - loss: 1.1143 - acc: 0.7048 - val_loss: 1.0269 - val_acc: 0.7426\n",
      "Epoch 33/100\n",
      "Epoch 00032: val_acc did not improve\n",
      "142s - loss: 1.0725 - acc: 0.7124 - val_loss: 0.9542 - val_acc: 0.7609\n",
      "Epoch 34/100\n",
      "Epoch 00033: val_acc did not improve\n",
      "143s - loss: 1.0685 - acc: 0.7172 - val_loss: 0.9213 - val_acc: 0.7692\n",
      "Epoch 35/100\n",
      "Epoch 00034: val_acc did not improve\n",
      "143s - loss: 1.0461 - acc: 0.7148 - val_loss: 0.9387 - val_acc: 0.7586\n",
      "Epoch 36/100\n",
      "Epoch 00035: val_acc did not improve\n",
      "143s - loss: 1.0568 - acc: 0.7142 - val_loss: 0.9559 - val_acc: 0.7604\n",
      "Epoch 00035: early stopping\n"
     ]
    }
   ],
   "source": [
    "# Model saving callback\n",
    "checkpointer = ModelCheckpoint(filepath='models/finetuning_full.h5', monitor='val_acc', verbose=1, save_best_only=True)\n",
    "\n",
    "# Early stopping\n",
    "early_stopping = EarlyStopping(monitor='val_acc', verbose=1, patience=5)\n",
    "\n",
    "history = model.fit_generator(\n",
    "        train_generator,\n",
    "        steps_per_epoch=np.ceil(train_samples/float(batch_size)),\n",
    "        epochs=epochs,\n",
    "        callbacks=[checkpointer, early_stopping],\n",
    "        verbose=2,\n",
    "        validation_data=valid_generator,\n",
    "        validation_steps=np.ceil(valid_samples/float(batch_size)))"
   ]
  },
  {
   "cell_type": "markdown",
   "metadata": {},
   "source": [
    "# Evaluation"
   ]
  },
  {
   "cell_type": "code",
   "execution_count": null,
   "metadata": {},
   "outputs": [],
   "source": [
    "model.evaluate_generator(valid_generator, valid_samples)"
   ]
  },
  {
   "cell_type": "code",
   "execution_count": null,
   "metadata": {},
   "outputs": [],
   "source": [
    "fig, ax = plt.subplots()\n",
    "plt.plot(history.history['acc'])\n",
    "plt.plot(history.history['val_acc'])\n",
    "plt.title('Model accuracy')\n",
    "plt.ylabel('Accuracy')\n",
    "plt.xlabel('Epoch')\n",
    "plt.legend(['Train', 'Test'], loc='upper left')\n",
    "plt.show()"
   ]
  },
  {
   "cell_type": "code",
   "execution_count": null,
   "metadata": {},
   "outputs": [],
   "source": []
  }
 ],
 "metadata": {
  "kernelspec": {
   "display_name": "Python 2",
   "language": "python",
   "name": "python2"
  },
  "language_info": {
   "codemirror_mode": {
    "name": "ipython",
    "version": 2
   },
   "file_extension": ".py",
   "mimetype": "text/x-python",
   "name": "python",
   "nbconvert_exporter": "python",
   "pygments_lexer": "ipython2",
   "version": "2.7.12"
  }
 },
 "nbformat": 4,
 "nbformat_minor": 2
}
