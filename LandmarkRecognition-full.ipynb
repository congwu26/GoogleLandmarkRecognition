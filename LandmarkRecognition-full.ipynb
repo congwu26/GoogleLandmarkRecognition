{
 "cells": [
  {
   "cell_type": "markdown",
   "metadata": {},
   "source": [
    "# Import data"
   ]
  },
  {
   "cell_type": "code",
   "execution_count": 1,
   "metadata": {},
   "outputs": [
    {
     "name": "stderr",
     "output_type": "stream",
     "text": [
      "Using TensorFlow backend.\n"
     ]
    }
   ],
   "source": [
    "%matplotlib inline\n",
    "\n",
    "import glob\n",
    "import os\n",
    "import numpy as np\n",
    "from keras.callbacks import EarlyStopping, ModelCheckpoint\n",
    "from keras.layers import Activation, Dropout, Flatten, Dense\n",
    "from keras.layers import Convolution2D, MaxPooling2D, ZeroPadding2D\n",
    "from keras.models import Sequential\n",
    "from keras.preprocessing.image import ImageDataGenerator, img_to_array, load_img\n",
    "from keras import optimizers\n",
    "from keras.models import Model\n",
    "from keras import applications\n",
    "from keras.utils.np_utils import to_categorical \n",
    "import matplotlib.image as mpimg\n",
    "import matplotlib.pyplot as plt\n",
    "import seaborn as sns\n",
    "\n",
    "sns.set()"
   ]
  },
  {
   "cell_type": "code",
   "execution_count": 2,
   "metadata": {},
   "outputs": [],
   "source": [
    "import warnings\n",
    "warnings.simplefilter(action='ignore', category=FutureWarning)"
   ]
  },
  {
   "cell_type": "code",
   "execution_count": 3,
   "metadata": {},
   "outputs": [],
   "source": [
    "# Dimensions of our images.\n",
    "img_width, img_height = 128, 128\n",
    "\n",
    "# epochs and batch_size\n",
    "epochs = 100\n",
    "batch_size = 32\n",
    "\n",
    "# path to train and validation data\n",
    "train_data_dir = 'data/train'\n",
    "valid_data_dir = 'data/valid'\n",
    "test_data_dir = 'data/test'\n",
    "# train_data_dir = '/dev/shm/train'\n",
    "# valid_data_dir = '/dev/shm/valid'"
   ]
  },
  {
   "cell_type": "code",
   "execution_count": 4,
   "metadata": {},
   "outputs": [],
   "source": [
    "datagen = ImageDataGenerator(rescale=1./255)"
   ]
  },
  {
   "cell_type": "code",
   "execution_count": 5,
   "metadata": {},
   "outputs": [
    {
     "name": "stdout",
     "output_type": "stream",
     "text": [
      "Found 68778 images belonging to 360 classes.\n"
     ]
    }
   ],
   "source": [
    "train_generator = datagen.flow_from_directory(\n",
    "        train_data_dir,\n",
    "        target_size=(img_width, img_height),\n",
    "        batch_size=batch_size)"
   ]
  },
  {
   "cell_type": "code",
   "execution_count": 6,
   "metadata": {},
   "outputs": [
    {
     "name": "stdout",
     "output_type": "stream",
     "text": [
      "Found 14400 images belonging to 360 classes.\n"
     ]
    }
   ],
   "source": [
    "valid_generator = datagen.flow_from_directory(\n",
    "        valid_data_dir,\n",
    "        target_size=(img_width, img_height),\n",
    "        batch_size=batch_size)"
   ]
  },
  {
   "cell_type": "code",
   "execution_count": 7,
   "metadata": {},
   "outputs": [
    {
     "name": "stdout",
     "output_type": "stream",
     "text": [
      "Found 3600 images belonging to 360 classes.\n"
     ]
    }
   ],
   "source": [
    "test_generator = datagen.flow_from_directory(\n",
    "        test_data_dir,\n",
    "        target_size=(img_width, img_height),\n",
    "        batch_size=batch_size)"
   ]
  },
  {
   "cell_type": "code",
   "execution_count": 8,
   "metadata": {},
   "outputs": [],
   "source": [
    "n_classes = 360\n",
    "train_samples = 68778\n",
    "valid_samples = 14400\n",
    "test_samples = 3600"
   ]
  },
  {
   "cell_type": "markdown",
   "metadata": {},
   "source": [
    "# Basic CNN"
   ]
  },
  {
   "cell_type": "code",
   "execution_count": 9,
   "metadata": {},
   "outputs": [],
   "source": [
    "model = Sequential()\n",
    "model.add(Convolution2D(32, (3, 3), input_shape=(img_width, img_height, 3)))\n",
    "model.add(Activation('relu'))\n",
    "model.add(MaxPooling2D(pool_size=(2, 2)))\n",
    "\n",
    "model.add(Convolution2D(32, (3, 3)))\n",
    "model.add(Activation('relu'))\n",
    "model.add(MaxPooling2D(pool_size=(2, 2)))\n",
    "\n",
    "model.add(Convolution2D(64, (3, 3)))\n",
    "model.add(Activation('relu'))\n",
    "model.add(MaxPooling2D(pool_size=(2, 2)))\n",
    "\n",
    "model.add(Convolution2D(64, (3, 3)))\n",
    "model.add(Activation('relu'))\n",
    "model.add(MaxPooling2D(pool_size=(2, 2)))\n",
    "\n",
    "model.add(Convolution2D(128, (3, 3)))\n",
    "model.add(Activation('relu'))\n",
    "model.add(MaxPooling2D(pool_size=(2, 2)))\n",
    "\n",
    "model.add(Flatten())\n",
    "model.add(Dense(512))\n",
    "model.add(Activation('relu'))\n",
    "model.add(Dropout(0.5))\n",
    "model.add(Dense(n_classes))\n",
    "model.add(Activation('softmax'))\n",
    "\n",
    "model.compile(loss='categorical_crossentropy',\n",
    "              optimizer='rmsprop',\n",
    "              metrics=['accuracy'])"
   ]
  },
  {
   "cell_type": "code",
   "execution_count": 10,
   "metadata": {},
   "outputs": [
    {
     "name": "stdout",
     "output_type": "stream",
     "text": [
      "_________________________________________________________________\n",
      "Layer (type)                 Output Shape              Param #   \n",
      "=================================================================\n",
      "conv2d_1 (Conv2D)            (None, 126, 126, 32)      896       \n",
      "_________________________________________________________________\n",
      "activation_1 (Activation)    (None, 126, 126, 32)      0         \n",
      "_________________________________________________________________\n",
      "max_pooling2d_1 (MaxPooling2 (None, 63, 63, 32)        0         \n",
      "_________________________________________________________________\n",
      "conv2d_2 (Conv2D)            (None, 61, 61, 32)        9248      \n",
      "_________________________________________________________________\n",
      "activation_2 (Activation)    (None, 61, 61, 32)        0         \n",
      "_________________________________________________________________\n",
      "max_pooling2d_2 (MaxPooling2 (None, 30, 30, 32)        0         \n",
      "_________________________________________________________________\n",
      "conv2d_3 (Conv2D)            (None, 28, 28, 64)        18496     \n",
      "_________________________________________________________________\n",
      "activation_3 (Activation)    (None, 28, 28, 64)        0         \n",
      "_________________________________________________________________\n",
      "max_pooling2d_3 (MaxPooling2 (None, 14, 14, 64)        0         \n",
      "_________________________________________________________________\n",
      "conv2d_4 (Conv2D)            (None, 12, 12, 64)        36928     \n",
      "_________________________________________________________________\n",
      "activation_4 (Activation)    (None, 12, 12, 64)        0         \n",
      "_________________________________________________________________\n",
      "max_pooling2d_4 (MaxPooling2 (None, 6, 6, 64)          0         \n",
      "_________________________________________________________________\n",
      "conv2d_5 (Conv2D)            (None, 4, 4, 128)         73856     \n",
      "_________________________________________________________________\n",
      "activation_5 (Activation)    (None, 4, 4, 128)         0         \n",
      "_________________________________________________________________\n",
      "max_pooling2d_5 (MaxPooling2 (None, 2, 2, 128)         0         \n",
      "_________________________________________________________________\n",
      "flatten_1 (Flatten)          (None, 512)               0         \n",
      "_________________________________________________________________\n",
      "dense_1 (Dense)              (None, 512)               262656    \n",
      "_________________________________________________________________\n",
      "activation_6 (Activation)    (None, 512)               0         \n",
      "_________________________________________________________________\n",
      "dropout_1 (Dropout)          (None, 512)               0         \n",
      "_________________________________________________________________\n",
      "dense_2 (Dense)              (None, 360)               184680    \n",
      "_________________________________________________________________\n",
      "activation_7 (Activation)    (None, 360)               0         \n",
      "=================================================================\n",
      "Total params: 586,760\n",
      "Trainable params: 586,760\n",
      "Non-trainable params: 0\n",
      "_________________________________________________________________\n"
     ]
    }
   ],
   "source": [
    "model.summary()"
   ]
  },
  {
   "cell_type": "code",
   "execution_count": 11,
   "metadata": {},
   "outputs": [
    {
     "name": "stdout",
     "output_type": "stream",
     "text": [
      "Epoch 1/100\n",
      " - 111s - loss: 5.0317 - acc: 0.0710 - val_loss: 4.0574 - val_acc: 0.1888\n",
      "\n",
      "Epoch 00001: val_acc improved from -inf to 0.18882, saving model to models/basic_cnn.h5\n",
      "Epoch 2/100\n",
      " - 106s - loss: 3.6503 - acc: 0.2490 - val_loss: 3.0961 - val_acc: 0.3522\n",
      "\n",
      "Epoch 00002: val_acc improved from 0.18882 to 0.35215, saving model to models/basic_cnn.h5\n",
      "Epoch 3/100\n",
      " - 109s - loss: 3.0506 - acc: 0.3520 - val_loss: 2.7275 - val_acc: 0.4260\n",
      "\n",
      "Epoch 00003: val_acc improved from 0.35215 to 0.42604, saving model to models/basic_cnn.h5\n",
      "Epoch 4/100\n",
      " - 108s - loss: 2.7583 - acc: 0.4098 - val_loss: 2.5272 - val_acc: 0.4660\n",
      "\n",
      "Epoch 00004: val_acc improved from 0.42604 to 0.46604, saving model to models/basic_cnn.h5\n",
      "Epoch 5/100\n",
      " - 108s - loss: 2.6445 - acc: 0.4336 - val_loss: 2.4104 - val_acc: 0.4962\n",
      "\n",
      "Epoch 00005: val_acc improved from 0.46604 to 0.49618, saving model to models/basic_cnn.h5\n",
      "Epoch 6/100\n",
      " - 107s - loss: 2.6206 - acc: 0.4426 - val_loss: 2.6677 - val_acc: 0.4467\n",
      "\n",
      "Epoch 00006: val_acc did not improve from 0.49618\n",
      "Epoch 7/100\n",
      " - 108s - loss: 2.6321 - acc: 0.4414 - val_loss: 2.4796 - val_acc: 0.4934\n",
      "\n",
      "Epoch 00007: val_acc did not improve from 0.49618\n",
      "Epoch 8/100\n",
      " - 108s - loss: 2.7146 - acc: 0.4299 - val_loss: 2.5672 - val_acc: 0.4741\n",
      "\n",
      "Epoch 00008: val_acc did not improve from 0.49618\n",
      "Epoch 9/100\n",
      " - 109s - loss: 2.7782 - acc: 0.4208 - val_loss: 2.9765 - val_acc: 0.4533\n",
      "\n",
      "Epoch 00009: val_acc did not improve from 0.49618\n",
      "Epoch 10/100\n",
      " - 109s - loss: 2.9119 - acc: 0.3972 - val_loss: 2.7316 - val_acc: 0.4584\n",
      "\n",
      "Epoch 00010: val_acc did not improve from 0.49618\n",
      "Epoch 00010: early stopping\n"
     ]
    }
   ],
   "source": [
    "# Model saving callback\n",
    "checkpointer = ModelCheckpoint(filepath='models/basic_cnn.h5', monitor='val_acc', verbose=1, save_best_only=True)\n",
    "\n",
    "# Early stopping\n",
    "early_stopping = EarlyStopping(monitor='val_acc', verbose=1, patience=5)\n",
    "\n",
    "history = model.fit_generator(\n",
    "        train_generator,\n",
    "        steps_per_epoch=np.ceil(train_samples/float(batch_size)),\n",
    "        epochs=epochs,\n",
    "        callbacks=[checkpointer, early_stopping],\n",
    "        verbose=2,\n",
    "        validation_data=valid_generator,\n",
    "        validation_steps=np.ceil(valid_samples/float(batch_size)))"
   ]
  },
  {
   "cell_type": "code",
   "execution_count": 12,
   "metadata": {},
   "outputs": [
    {
     "data": {
      "text/plain": [
       "[2.7147180433136295, 0.47506625749755893]"
      ]
     },
     "execution_count": 12,
     "metadata": {},
     "output_type": "execute_result"
    }
   ],
   "source": [
    "model.evaluate_generator(test_generator, test_samples)"
   ]
  },
  {
   "cell_type": "code",
   "execution_count": 14,
   "metadata": {},
   "outputs": [
    {
     "data": {
      "image/png": "[encoded data removed]",
      "text/plain": [
       "<Figure size 432x288 with 1 Axes>"
      ]
     },
     "metadata": {
      "needs_background": "light"
     },
     "output_type": "display_data"
    }
   ],
   "source": [
    "fig, ax = plt.subplots()\n",
    "plt.plot(history.history['acc'])\n",
    "plt.plot(history.history['val_acc'])\n",
    "plt.title('Model accuracy')\n",
    "plt.ylabel('Accuracy')\n",
    "plt.xlabel('Epoch')\n",
    "plt.legend(['Train', 'Valid'], loc='upper left')\n",
    "plt.show()"
   ]
  },
  {
   "cell_type": "markdown",
   "metadata": {},
   "source": [
    "# Data Augumentation"
   ]
  },
  {
   "cell_type": "code",
   "execution_count": 15,
   "metadata": {},
   "outputs": [],
   "source": [
    "datagen_augmented = ImageDataGenerator(\n",
    "        rescale=1. / 255,      \n",
    "        shear_range=0.2,       \n",
    "        zoom_range=0.2,        \n",
    "        horizontal_flip=True)  "
   ]
  },
  {
   "cell_type": "code",
   "execution_count": 16,
   "metadata": {},
   "outputs": [
    {
     "name": "stdout",
     "output_type": "stream",
     "text": [
      "Found 68778 images belonging to 360 classes.\n"
     ]
    }
   ],
   "source": [
    "train_generator_augmented = datagen_augmented.flow_from_directory(\n",
    "        train_data_dir,\n",
    "        target_size=(img_width, img_height),\n",
    "        batch_size=batch_size)"
   ]
  },
  {
   "cell_type": "code",
   "execution_count": 17,
   "metadata": {},
   "outputs": [
    {
     "name": "stdout",
     "output_type": "stream",
     "text": [
      "Epoch 1/100\n",
      " - 240s - loss: 3.6447 - acc: 0.2640 - val_loss: 3.1485 - val_acc: 0.3583\n",
      "\n",
      "Epoch 00001: val_acc improved from -inf to 0.35826, saving model to models/data_augmentation.h5\n",
      "Epoch 2/100\n",
      " - 239s - loss: 3.7429 - acc: 0.2485 - val_loss: 3.2608 - val_acc: 0.3346\n",
      "\n",
      "Epoch 00002: val_acc did not improve from 0.35826\n",
      "Epoch 3/100\n",
      " - 239s - loss: 3.9197 - acc: 0.2230 - val_loss: 3.6206 - val_acc: 0.2874\n",
      "\n",
      "Epoch 00003: val_acc did not improve from 0.35826\n",
      "Epoch 4/100\n",
      " - 239s - loss: 4.0793 - acc: 0.2039 - val_loss: 3.7304 - val_acc: 0.2662\n",
      "\n",
      "Epoch 00004: val_acc did not improve from 0.35826\n",
      "Epoch 5/100\n",
      " - 241s - loss: 4.1793 - acc: 0.1888 - val_loss: 3.5464 - val_acc: 0.2894\n",
      "\n",
      "Epoch 00005: val_acc did not improve from 0.35826\n",
      "Epoch 6/100\n",
      " - 245s - loss: 4.3241 - acc: 0.1703 - val_loss: 4.0424 - val_acc: 0.1888\n",
      "\n",
      "Epoch 00006: val_acc did not improve from 0.35826\n",
      "Epoch 00006: early stopping\n"
     ]
    }
   ],
   "source": [
    "# Model saving callback\n",
    "checkpointer = ModelCheckpoint(filepath='models/data_augmentation.h5', monitor='val_acc', verbose=1, save_best_only=True)\n",
    "\n",
    "# Early stopping\n",
    "early_stopping = EarlyStopping(monitor='val_acc', verbose=1, patience=5)\n",
    "\n",
    "history = model.fit_generator(\n",
    "        train_generator_augmented,\n",
    "        steps_per_epoch=np.ceil(train_samples/float(batch_size)),\n",
    "        epochs=epochs,\n",
    "        callbacks=[checkpointer, early_stopping],\n",
    "        verbose=2,\n",
    "        validation_data=valid_generator,\n",
    "        validation_steps=np.ceil(valid_samples/float(batch_size)))"
   ]
  },
  {
   "cell_type": "code",
   "execution_count": 18,
   "metadata": {},
   "outputs": [
    {
     "data": {
      "text/plain": [
       "[4.04241034867035, 0.18875]"
      ]
     },
     "execution_count": 18,
     "metadata": {},
     "output_type": "execute_result"
    }
   ],
   "source": [
    "model.evaluate_generator(valid_generator, valid_samples)"
   ]
  },
  {
   "cell_type": "code",
   "execution_count": 19,
   "metadata": {},
   "outputs": [
    {
     "data": {
      "image/png": "[encoded data removed]",
      "text/plain": [
       "<Figure size 432x288 with 1 Axes>"
      ]
     },
     "metadata": {
      "needs_background": "light"
     },
     "output_type": "display_data"
    }
   ],
   "source": [
    "fig, ax = plt.subplots()\n",
    "plt.plot(history.history['acc'])\n",
    "plt.plot(history.history['val_acc'])\n",
    "plt.title('Model accuracy')\n",
    "plt.ylabel('Accuracy')\n",
    "plt.xlabel('Epoch')\n",
    "plt.legend(['Train', 'Valid'], loc='upper left')\n",
    "plt.show()"
   ]
  },
  {
   "cell_type": "markdown",
   "metadata": {},
   "source": [
    "# VGG 16 models"
   ]
  },
  {
   "cell_type": "code",
   "execution_count": 20,
   "metadata": {},
   "outputs": [],
   "source": [
    "model_vgg = applications.VGG16(include_top=False, weights='imagenet')"
   ]
  },
  {
   "cell_type": "code",
   "execution_count": 21,
   "metadata": {},
   "outputs": [],
   "source": [
    "bottleneck_features_train = model_vgg.predict_generator(train_generator, np.ceil(train_samples/float(batch_size)))\n",
    "#np.save(open('/dev/shm/models/bottleneck_features_train.npy', 'wb'), bottleneck_features_train)"
   ]
  },
  {
   "cell_type": "code",
   "execution_count": 22,
   "metadata": {},
   "outputs": [],
   "source": [
    "bottleneck_features_validation = model_vgg.predict_generator(valid_generator, np.ceil(valid_samples/float(batch_size)))\n",
    "#np.save(open('/dev/shm/models/bottleneck_features_validation.npy', 'wb'), bottleneck_features_validation)"
   ]
  },
  {
   "cell_type": "code",
   "execution_count": 23,
   "metadata": {},
   "outputs": [],
   "source": [
    "num_classes = len(train_generator.class_indices)\n",
    "\n",
    "train_data = bottleneck_features_train\n",
    "train_labels = to_categorical(train_generator.classes[:train_samples], num_classes=num_classes)\n",
    "\n",
    "validation_data = bottleneck_features_validation\n",
    "validation_labels = to_categorical(valid_generator.classes[:valid_samples], num_classes=num_classes)"
   ]
  },
  {
   "cell_type": "code",
   "execution_count": 24,
   "metadata": {},
   "outputs": [],
   "source": [
    "model_top = Sequential()\n",
    "model_top.add(Flatten(input_shape=train_data.shape[1:]))\n",
    "model_top.add(Dense(512, activation='relu'))\n",
    "model_top.add(Dropout(0.5))\n",
    "model_top.add(Dense(n_classes, activation='softmax'))\n",
    "\n",
    "model_top.compile(loss='categorical_crossentropy',\n",
    "                  optimizer='rmsprop',\n",
    "                  metrics=['accuracy'])"
   ]
  },
  {
   "cell_type": "code",
   "execution_count": 25,
   "metadata": {},
   "outputs": [
    {
     "name": "stdout",
     "output_type": "stream",
     "text": [
      "_________________________________________________________________\n",
      "Layer (type)                 Output Shape              Param #   \n",
      "=================================================================\n",
      "flatten_2 (Flatten)          (None, 8192)              0         \n",
      "_________________________________________________________________\n",
      "dense_3 (Dense)              (None, 512)               4194816   \n",
      "_________________________________________________________________\n",
      "dropout_2 (Dropout)          (None, 512)               0         \n",
      "_________________________________________________________________\n",
      "dense_4 (Dense)              (None, 360)               184680    \n",
      "=================================================================\n",
      "Total params: 4,379,496\n",
      "Trainable params: 4,379,496\n",
      "Non-trainable params: 0\n",
      "_________________________________________________________________\n"
     ]
    }
   ],
   "source": [
    "model_top.summary()"
   ]
  },
  {
   "cell_type": "code",
   "execution_count": 26,
   "metadata": {
    "scrolled": true
   },
   "outputs": [
    {
     "name": "stdout",
     "output_type": "stream",
     "text": [
      "Train on 68778 samples, validate on 14400 samples\n",
      "Epoch 1/100\n",
      " - 25s - loss: 5.8901 - acc: 0.0029 - val_loss: 5.8910 - val_acc: 0.0028\n",
      "\n",
      "Epoch 00001: val_acc improved from -inf to 0.00278, saving model to models/bottleneck_features.h5\n",
      "Epoch 2/100\n",
      " - 25s - loss: 5.8790 - acc: 0.0031 - val_loss: 5.8969 - val_acc: 0.0028\n",
      "\n",
      "Epoch 00002: val_acc did not improve from 0.00278\n",
      "Epoch 3/100\n",
      " - 25s - loss: 5.8786 - acc: 0.0033 - val_loss: 5.9010 - val_acc: 0.0028\n",
      "\n",
      "Epoch 00003: val_acc did not improve from 0.00278\n",
      "Epoch 4/100\n",
      " - 25s - loss: 5.8783 - acc: 0.0035 - val_loss: 5.9035 - val_acc: 0.0028\n",
      "\n",
      "Epoch 00004: val_acc did not improve from 0.00278\n",
      "Epoch 5/100\n",
      " - 25s - loss: 5.8785 - acc: 0.0035 - val_loss: 5.9047 - val_acc: 0.0028\n",
      "\n",
      "Epoch 00005: val_acc did not improve from 0.00278\n",
      "Epoch 6/100\n",
      " - 25s - loss: 5.8787 - acc: 0.0031 - val_loss: 5.9054 - val_acc: 0.0028\n",
      "\n",
      "Epoch 00006: val_acc did not improve from 0.00278\n",
      "Epoch 00006: early stopping\n"
     ]
    }
   ],
   "source": [
    "# Model saving callback\n",
    "checkpointer = ModelCheckpoint(filepath='models/bottleneck_features.h5', monitor='val_acc', verbose=1, save_best_only=True)\n",
    "\n",
    "# Early stopping\n",
    "early_stopping = EarlyStopping(monitor='val_acc', verbose=1, patience=5)\n",
    "\n",
    "history = model_top.fit(\n",
    "        train_data,\n",
    "        train_labels,\n",
    "        verbose=2,\n",
    "        epochs=epochs, \n",
    "        batch_size=batch_size,\n",
    "        callbacks=[checkpointer, early_stopping],\n",
    "        validation_data=(validation_data, validation_labels))"
   ]
  },
  {
   "cell_type": "code",
   "execution_count": 27,
   "metadata": {},
   "outputs": [
    {
     "name": "stdout",
     "output_type": "stream",
     "text": [
      "14400/14400 [==============================] - 1s 61us/step\n"
     ]
    },
    {
     "data": {
      "text/plain": [
       "[5.905374737845527, 0.002777777777777778]"
      ]
     },
     "execution_count": 27,
     "metadata": {},
     "output_type": "execute_result"
    }
   ],
   "source": [
    "model_top.evaluate(validation_data, validation_labels)"
   ]
  },
  {
   "cell_type": "code",
   "execution_count": 28,
   "metadata": {},
   "outputs": [
    {
     "data": {
      "image/png": "[encoded data removed]",
      "text/plain": [
       "<Figure size 432x288 with 1 Axes>"
      ]
     },
     "metadata": {
      "needs_background": "light"
     },
     "output_type": "display_data"
    }
   ],
   "source": [
    "fig, ax = plt.subplots()\n",
    "plt.plot(history.history['acc'])\n",
    "plt.plot(history.history['val_acc'])\n",
    "plt.title('Model accuracy')\n",
    "plt.ylabel('Accuracy')\n",
    "plt.xlabel('Epoch')\n",
    "plt.legend(['Train', 'Valid'], loc='upper left')\n",
    "plt.show()"
   ]
  },
  {
   "cell_type": "markdown",
   "metadata": {},
   "source": [
    "# Fine Tuning"
   ]
  },
  {
   "cell_type": "code",
   "execution_count": 29,
   "metadata": {},
   "outputs": [],
   "source": [
    "model_vgg = applications.VGG16(include_top=False, weights='imagenet', input_shape=(img_width, img_height, 3))"
   ]
  },
  {
   "cell_type": "code",
   "execution_count": 30,
   "metadata": {},
   "outputs": [],
   "source": [
    "top_model = Sequential()\n",
    "top_model.add(Flatten(input_shape=model_vgg.output_shape[1:]))\n",
    "top_model.add(Dense(512, activation='relu'))\n",
    "top_model.add(Dropout(0.5))\n",
    "top_model.add(Dense(n_classes, activation='softmax'))\n",
    "\n",
    "top_model.load_weights('models/bottleneck_features.h5')\n",
    "\n",
    "model = Model(inputs=model_vgg.input, outputs=top_model(model_vgg.output))"
   ]
  },
  {
   "cell_type": "code",
   "execution_count": 31,
   "metadata": {},
   "outputs": [],
   "source": [
    "for layer in model.layers[:15]:\n",
    "    layer.trainable = False"
   ]
  },
  {
   "cell_type": "code",
   "execution_count": 32,
   "metadata": {},
   "outputs": [],
   "source": [
    "# Compile the model with a SGD/momentum optimizer and a slow learning rate\n",
    "model.compile(loss='categorical_crossentropy',\n",
    "              optimizer=optimizers.SGD(lr=1e-3, momentum=0.9),\n",
    "              metrics=['accuracy'])"
   ]
  },
  {
   "cell_type": "code",
   "execution_count": 33,
   "metadata": {},
   "outputs": [
    {
     "name": "stdout",
     "output_type": "stream",
     "text": [
      "_________________________________________________________________\n",
      "Layer (type)                 Output Shape              Param #   \n",
      "=================================================================\n",
      "input_2 (InputLayer)         (None, 128, 128, 3)       0         \n",
      "_________________________________________________________________\n",
      "block1_conv1 (Conv2D)        (None, 128, 128, 64)      1792      \n",
      "_________________________________________________________________\n",
      "block1_conv2 (Conv2D)        (None, 128, 128, 64)      36928     \n",
      "_________________________________________________________________\n",
      "block1_pool (MaxPooling2D)   (None, 64, 64, 64)        0         \n",
      "_________________________________________________________________\n",
      "block2_conv1 (Conv2D)        (None, 64, 64, 128)       73856     \n",
      "_________________________________________________________________\n",
      "block2_conv2 (Conv2D)        (None, 64, 64, 128)       147584    \n",
      "_________________________________________________________________\n",
      "block2_pool (MaxPooling2D)   (None, 32, 32, 128)       0         \n",
      "_________________________________________________________________\n",
      "block3_conv1 (Conv2D)        (None, 32, 32, 256)       295168    \n",
      "_________________________________________________________________\n",
      "block3_conv2 (Conv2D)        (None, 32, 32, 256)       590080    \n",
      "_________________________________________________________________\n",
      "block3_conv3 (Conv2D)        (None, 32, 32, 256)       590080    \n",
      "_________________________________________________________________\n",
      "block3_pool (MaxPooling2D)   (None, 16, 16, 256)       0         \n",
      "_________________________________________________________________\n",
      "block4_conv1 (Conv2D)        (None, 16, 16, 512)       1180160   \n",
      "_________________________________________________________________\n",
      "block4_conv2 (Conv2D)        (None, 16, 16, 512)       2359808   \n",
      "_________________________________________________________________\n",
      "block4_conv3 (Conv2D)        (None, 16, 16, 512)       2359808   \n",
      "_________________________________________________________________\n",
      "block4_pool (MaxPooling2D)   (None, 8, 8, 512)         0         \n",
      "_________________________________________________________________\n",
      "block5_conv1 (Conv2D)        (None, 8, 8, 512)         2359808   \n",
      "_________________________________________________________________\n",
      "block5_conv2 (Conv2D)        (None, 8, 8, 512)         2359808   \n",
      "_________________________________________________________________\n",
      "block5_conv3 (Conv2D)        (None, 8, 8, 512)         2359808   \n",
      "_________________________________________________________________\n",
      "block5_pool (MaxPooling2D)   (None, 4, 4, 512)         0         \n",
      "_________________________________________________________________\n",
      "sequential_3 (Sequential)    (None, 360)               4379496   \n",
      "=================================================================\n",
      "Total params: 19,094,184\n",
      "Trainable params: 11,458,920\n",
      "Non-trainable params: 7,635,264\n",
      "_________________________________________________________________\n"
     ]
    }
   ],
   "source": [
    "model.summary()"
   ]
  },
  {
   "cell_type": "markdown",
   "metadata": {},
   "source": [
    "# Training"
   ]
  },
  {
   "cell_type": "code",
   "execution_count": null,
   "metadata": {},
   "outputs": [
    {
     "name": "stdout",
     "output_type": "stream",
     "text": [
      "Epoch 1/100\n",
      " - 549s - loss: 5.8724 - acc: 0.0037 - val_loss: 5.8341 - val_acc: 0.0056\n",
      "\n",
      "Epoch 00001: val_acc improved from -inf to 0.00562, saving model to models/finetuning_full.h5\n",
      "Epoch 2/100\n",
      " - 544s - loss: 5.7554 - acc: 0.0068 - val_loss: 5.5513 - val_acc: 0.0156\n",
      "\n",
      "Epoch 00002: val_acc improved from 0.00562 to 0.01562, saving model to models/finetuning_full.h5\n",
      "Epoch 3/100\n",
      " - 544s - loss: 5.2667 - acc: 0.0436 - val_loss: 4.0807 - val_acc: 0.2206\n",
      "\n",
      "Epoch 00003: val_acc improved from 0.01562 to 0.22062, saving model to models/finetuning_full.h5\n",
      "Epoch 4/100\n",
      " - 544s - loss: 3.7285 - acc: 0.2229 - val_loss: 2.1789 - val_acc: 0.5482\n",
      "\n",
      "Epoch 00004: val_acc improved from 0.22062 to 0.54819, saving model to models/finetuning_full.h5\n",
      "Epoch 5/100\n",
      " - 544s - loss: 2.3457 - acc: 0.4723 - val_loss: 1.4193 - val_acc: 0.7011\n",
      "\n",
      "Epoch 00005: val_acc improved from 0.54819 to 0.70111, saving model to models/finetuning_full.h5\n",
      "Epoch 6/100\n",
      " - 544s - loss: 1.5765 - acc: 0.6301 - val_loss: 1.0170 - val_acc: 0.7735\n",
      "\n",
      "Epoch 00006: val_acc improved from 0.70111 to 0.77347, saving model to models/finetuning_full.h5\n",
      "Epoch 7/100\n",
      " - 543s - loss: 1.1568 - acc: 0.7219 - val_loss: 0.8224 - val_acc: 0.8128\n",
      "\n",
      "Epoch 00007: val_acc improved from 0.77347 to 0.81285, saving model to models/finetuning_full.h5\n",
      "Epoch 8/100\n",
      " - 544s - loss: 0.8908 - acc: 0.7798 - val_loss: 0.7681 - val_acc: 0.8222\n",
      "\n",
      "Epoch 00008: val_acc improved from 0.81285 to 0.82215, saving model to models/finetuning_full.h5\n",
      "Epoch 9/100\n",
      " - 545s - loss: 0.7002 - acc: 0.8230 - val_loss: 0.6413 - val_acc: 0.8481\n",
      "\n",
      "Epoch 00009: val_acc improved from 0.82215 to 0.84806, saving model to models/finetuning_full.h5\n",
      "Epoch 10/100\n",
      " - 544s - loss: 0.5583 - acc: 0.8550 - val_loss: 0.6063 - val_acc: 0.8589\n",
      "\n",
      "Epoch 00010: val_acc improved from 0.84806 to 0.85889, saving model to models/finetuning_full.h5\n",
      "Epoch 11/100\n",
      " - 544s - loss: 0.4458 - acc: 0.8827 - val_loss: 0.5626 - val_acc: 0.8684\n",
      "\n",
      "Epoch 00011: val_acc improved from 0.85889 to 0.86840, saving model to models/finetuning_full.h5\n",
      "Epoch 12/100\n",
      " - 545s - loss: 0.3680 - acc: 0.8998 - val_loss: 0.5279 - val_acc: 0.8764\n",
      "\n",
      "Epoch 00012: val_acc improved from 0.86840 to 0.87639, saving model to models/finetuning_full.h5\n",
      "Epoch 13/100\n",
      " - 545s - loss: 0.2976 - acc: 0.9159 - val_loss: 0.5446 - val_acc: 0.8747\n",
      "\n",
      "Epoch 00013: val_acc did not improve from 0.87639\n",
      "Epoch 14/100\n",
      " - 544s - loss: 0.2449 - acc: 0.9312 - val_loss: 0.5391 - val_acc: 0.8749\n",
      "\n",
      "Epoch 00014: val_acc did not improve from 0.87639\n",
      "Epoch 15/100\n",
      " - 544s - loss: 0.2019 - acc: 0.9425 - val_loss: 0.5256 - val_acc: 0.8813\n",
      "\n",
      "Epoch 00015: val_acc improved from 0.87639 to 0.88132, saving model to models/finetuning_full.h5\n",
      "Epoch 16/100\n",
      " - 545s - loss: 0.1693 - acc: 0.9508 - val_loss: 0.5068 - val_acc: 0.8838\n",
      "\n",
      "Epoch 00016: val_acc improved from 0.88132 to 0.88382, saving model to models/finetuning_full.h5\n",
      "Epoch 17/100\n",
      " - 544s - loss: 0.1443 - acc: 0.9583 - val_loss: 0.5243 - val_acc: 0.8863\n",
      "\n",
      "Epoch 00017: val_acc improved from 0.88382 to 0.88632, saving model to models/finetuning_full.h5\n",
      "Epoch 18/100\n",
      " - 542s - loss: 0.1238 - acc: 0.9634 - val_loss: 0.4931 - val_acc: 0.8912\n",
      "\n",
      "Epoch 00018: val_acc improved from 0.88632 to 0.89125, saving model to models/finetuning_full.h5\n",
      "Epoch 19/100\n",
      " - 544s - loss: 0.1076 - acc: 0.9683 - val_loss: 0.5134 - val_acc: 0.8857\n",
      "\n",
      "Epoch 00019: val_acc did not improve from 0.89125\n",
      "Epoch 20/100\n",
      " - 544s - loss: 0.0952 - acc: 0.9716 - val_loss: 0.5192 - val_acc: 0.8883\n",
      "\n",
      "Epoch 00020: val_acc did not improve from 0.89125\n",
      "Epoch 21/100\n",
      " - 542s - loss: 0.0805 - acc: 0.9764 - val_loss: 0.5054 - val_acc: 0.8926\n",
      "\n",
      "Epoch 00021: val_acc improved from 0.89125 to 0.89257, saving model to models/finetuning_full.h5\n",
      "Epoch 22/100\n"
     ]
    }
   ],
   "source": [
    "# Model saving callback\n",
    "checkpointer = ModelCheckpoint(filepath='models/finetuning_full.h5', monitor='val_acc', verbose=1, save_best_only=True)\n",
    "\n",
    "# Early stopping\n",
    "early_stopping = EarlyStopping(monitor='val_acc', verbose=1, patience=5)\n",
    "\n",
    "history = model.fit_generator(\n",
    "        train_generator,\n",
    "        steps_per_epoch=np.ceil(train_samples/float(batch_size)),\n",
    "        epochs=epochs,\n",
    "        callbacks=[checkpointer, early_stopping],\n",
    "        verbose=2,\n",
    "        validation_data=valid_generator,\n",
    "        validation_steps=np.ceil(valid_samples/float(batch_size)))"
   ]
  },
  {
   "cell_type": "markdown",
   "metadata": {},
   "source": [
    "# Evaluation"
   ]
  },
  {
   "cell_type": "code",
   "execution_count": null,
   "metadata": {},
   "outputs": [],
   "source": [
    "model.evaluate_generator(valid_generator, valid_samples)"
   ]
  },
  {
   "cell_type": "code",
   "execution_count": null,
   "metadata": {},
   "outputs": [],
   "source": [
    "fig, ax = plt.subplots()\n",
    "plt.plot(history.history['acc'])\n",
    "plt.plot(history.history['val_acc'])\n",
    "plt.title('Model accuracy')\n",
    "plt.ylabel('Accuracy')\n",
    "plt.xlabel('Epoch')\n",
    "plt.legend(['Train', 'Valid'], loc='upper left')\n",
    "plt.show()"
   ]
  }
 ],
 "metadata": {
  "kernelspec": {
   "display_name": "Python 2",
   "language": "python",
   "name": "python2"
  },
  "language_info": {
   "codemirror_mode": {
    "name": "ipython",
    "version": 2
   },
   "file_extension": ".py",
   "mimetype": "text/x-python",
   "name": "python",
   "nbconvert_exporter": "python",
   "pygments_lexer": "ipython2",
   "version": "2.7.12"
  }
 },
 "nbformat": 4,
 "nbformat_minor": 2
}
