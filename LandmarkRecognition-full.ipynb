{
 "cells": [
  {
   "cell_type": "markdown",
   "metadata": {},
   "source": [
    "# Import data"
   ]
  },
  {
   "cell_type": "code",
   "execution_count": 1,
   "metadata": {},
   "outputs": [
    {
     "name": "stderr",
     "output_type": "stream",
     "text": [
      "Using TensorFlow backend.\n"
     ]
    }
   ],
   "source": [
    "%matplotlib inline\n",
    "\n",
    "import glob\n",
    "import os\n",
    "import numpy as np\n",
    "from keras.callbacks import EarlyStopping, ModelCheckpoint\n",
    "from keras.layers import Activation, Dropout, Flatten, Dense\n",
    "from keras.layers import Convolution2D, MaxPooling2D, ZeroPadding2D\n",
    "from keras.models import Sequential\n",
    "from keras.preprocessing.image import ImageDataGenerator, img_to_array, load_img\n",
    "from keras import optimizers\n",
    "from keras.models import Model\n",
    "from keras import applications\n",
    "from keras.utils.np_utils import to_categorical \n",
    "import matplotlib.image as mpimg\n",
    "import matplotlib.pyplot as plt\n",
    "import seaborn as sns\n",
    "\n",
    "sns.set()"
   ]
  },
  {
   "cell_type": "code",
   "execution_count": 2,
   "metadata": {},
   "outputs": [],
   "source": [
    "import warnings\n",
    "warnings.simplefilter(action='ignore', category=FutureWarning)"
   ]
  },
  {
   "cell_type": "code",
   "execution_count": 3,
   "metadata": {},
   "outputs": [],
   "source": [
    "# Dimensions of our images.\n",
    "img_width, img_height = 240, 240\n",
    "\n",
    "# epochs and batch_size\n",
    "epochs = 100\n",
    "batch_size = 32\n",
    "\n",
    "# path to train and validation data\n",
    "train_data_dir = '/dev/shm/train_sample'\n",
    "valid_data_dir = '/dev/shm/valid_sample'\n",
    "# train_data_dir = '/dev/shm/train'\n",
    "# valid_data_dir = '/dev/shm/valid'"
   ]
  },
  {
   "cell_type": "code",
   "execution_count": 4,
   "metadata": {},
   "outputs": [],
   "source": [
    "# train_datagen = ImageDataGenerator(\n",
    "#         rescale=1. / 255,      # Normalize pixel values to [0,1]\n",
    "#         shear_range=0.2,       # Randomly applies shearing transformation\n",
    "#         zoom_range=0.2,        # Randomly applies shearing transformation\n",
    "#         horizontal_flip=True)  # Randomly flip the images\n",
    "\n",
    "train_datagen = ImageDataGenerator(rescale=1./255)"
   ]
  },
  {
   "cell_type": "code",
   "execution_count": 8,
   "metadata": {},
   "outputs": [
    {
     "name": "stdout",
     "output_type": "stream",
     "text": [
      "Found 4911 images belonging to 46 classes.\n"
     ]
    }
   ],
   "source": [
    "train_generator = train_datagen.flow_from_directory(\n",
    "        train_data_dir,\n",
    "        target_size=(img_width, img_height),\n",
    "        batch_size=batch_size)\n",
    "\n",
    "# train_generator = train_datagen.flow_from_directory(\n",
    "#         train_data_dir,\n",
    "#         target_size=(img_width, img_height),\n",
    "#         batch_size=batch_size,\n",
    "#         class_mode=None,\n",
    "#         shuffle=False)"
   ]
  },
  {
   "cell_type": "code",
   "execution_count": 6,
   "metadata": {},
   "outputs": [],
   "source": [
    "datagen = ImageDataGenerator(rescale=1. / 255)"
   ]
  },
  {
   "cell_type": "code",
   "execution_count": 7,
   "metadata": {},
   "outputs": [
    {
     "name": "stdout",
     "output_type": "stream",
     "text": [
      "Found 1690 images belonging to 46 classes.\n"
     ]
    }
   ],
   "source": [
    "valid_generator = datagen.flow_from_directory(\n",
    "        valid_data_dir,\n",
    "        target_size=(img_width, img_height),\n",
    "        batch_size=batch_size)\n",
    "\n",
    "# valid_generator = datagen.flow_from_directory(\n",
    "#         valid_data_dir,\n",
    "#         target_size=(img_width, img_height),\n",
    "#         batch_size=batch_size,\n",
    "#         class_mode=None,\n",
    "#         shuffle=False)"
   ]
  },
  {
   "cell_type": "code",
   "execution_count": 11,
   "metadata": {},
   "outputs": [],
   "source": [
    "n_classes = 46\n",
    "train_samples = 4911\n",
    "valid_samples = 1690"
   ]
  },
  {
   "cell_type": "markdown",
   "metadata": {},
   "source": [
    "# Loading VGG 16 models"
   ]
  },
  {
   "cell_type": "code",
   "execution_count": 12,
   "metadata": {},
   "outputs": [],
   "source": [
    "model_vgg = applications.VGG16(include_top=False, weights='imagenet', input_shape=(img_width, img_height, 3))"
   ]
  },
  {
   "cell_type": "code",
   "execution_count": 13,
   "metadata": {},
   "outputs": [],
   "source": [
    "bottleneck_features_train = model_vgg.predict_generator(train_generator, np.ceil(train_samples/float(batch_size)))\n",
    "np.save(open('/dev/shm/models/bottleneck_features_train.npy', 'wb'), bottleneck_features_train)"
   ]
  },
  {
   "cell_type": "code",
   "execution_count": 14,
   "metadata": {},
   "outputs": [],
   "source": [
    "bottleneck_features_validation = model_vgg.predict_generator(valid_generator, np.ceil(valid_samples/float(batch_size)))\n",
    "np.save(open('/dev/shm/models/bottleneck_features_validation.npy', 'wb'), bottleneck_features_validation)"
   ]
  },
  {
   "cell_type": "code",
   "execution_count": 15,
   "metadata": {},
   "outputs": [],
   "source": [
    "num_classes = len(train_generator.class_indices)\n",
    "\n",
    "train_data = bottleneck_features_train\n",
    "train_labels = to_categorical(train_generator.classes[:train_samples], num_classes=num_classes)\n",
    "\n",
    "validation_data = bottleneck_features_validation\n",
    "validation_labels = to_categorical(valid_generator.classes[:valid_samples], num_classes=num_classes)"
   ]
  },
  {
   "cell_type": "code",
   "execution_count": 16,
   "metadata": {},
   "outputs": [],
   "source": [
    "model_top = Sequential()\n",
    "model_top.add(Flatten(input_shape=train_data.shape[1:]))\n",
    "model_top.add(Dense(512, activation='relu'))\n",
    "model_top.add(Dropout(0.5))\n",
    "model_top.add(Dense(n_classes, activation='softmax'))\n",
    "\n",
    "model_top.compile(loss='categorical_crossentropy',\n",
    "                  optimizer='rmsprop',\n",
    "                  metrics=['accuracy'])"
   ]
  },
  {
   "cell_type": "code",
   "execution_count": 17,
   "metadata": {},
   "outputs": [
    {
     "name": "stdout",
     "output_type": "stream",
     "text": [
      "_________________________________________________________________\n",
      "Layer (type)                 Output Shape              Param #   \n",
      "=================================================================\n",
      "flatten_1 (Flatten)          (None, 25088)             0         \n",
      "_________________________________________________________________\n",
      "dense_1 (Dense)              (None, 512)               12845568  \n",
      "_________________________________________________________________\n",
      "dropout_1 (Dropout)          (None, 512)               0         \n",
      "_________________________________________________________________\n",
      "dense_2 (Dense)              (None, 46)                23598     \n",
      "=================================================================\n",
      "Total params: 12,869,166\n",
      "Trainable params: 12,869,166\n",
      "Non-trainable params: 0\n",
      "_________________________________________________________________\n"
     ]
    }
   ],
   "source": [
    "model_top.summary()"
   ]
  },
  {
   "cell_type": "markdown",
   "metadata": {},
   "source": [
    "# Pre-Training and Evaluation"
   ]
  },
  {
   "cell_type": "code",
   "execution_count": 18,
   "metadata": {
    "scrolled": true
   },
   "outputs": [
    {
     "name": "stdout",
     "output_type": "stream",
     "text": [
      "Train on 4911 samples, validate on 1690 samples\n",
      "Epoch 1/100\n",
      "Epoch 00000: val_acc improved from -inf to 0.13550, saving model to models/bottleneck_features.h5\n",
      "3s - loss: 8.1163 - acc: 0.0973 - val_loss: 3.1424 - val_acc: 0.1355\n",
      "Epoch 2/100\n",
      "Epoch 00001: val_acc improved from 0.13550 to 0.13964, saving model to models/bottleneck_features.h5\n",
      "3s - loss: 3.3508 - acc: 0.1240 - val_loss: 3.2169 - val_acc: 0.1396\n",
      "Epoch 3/100\n",
      "Epoch 00002: val_acc did not improve\n",
      "2s - loss: 3.2219 - acc: 0.1399 - val_loss: 3.1916 - val_acc: 0.1349\n",
      "Epoch 4/100\n",
      "Epoch 00003: val_acc did not improve\n",
      "2s - loss: 3.1947 - acc: 0.1324 - val_loss: 3.1482 - val_acc: 0.1367\n",
      "Epoch 5/100\n",
      "Epoch 00004: val_acc did not improve\n",
      "2s - loss: 3.1462 - acc: 0.1372 - val_loss: 3.1548 - val_acc: 0.1148\n",
      "Epoch 6/100\n",
      "Epoch 00005: val_acc did not improve\n",
      "2s - loss: 3.1179 - acc: 0.1328 - val_loss: 3.3270 - val_acc: 0.1385\n",
      "Epoch 7/100\n",
      "Epoch 00006: val_acc did not improve\n",
      "2s - loss: 3.1018 - acc: 0.1311 - val_loss: 3.1924 - val_acc: 0.1225\n",
      "Epoch 8/100\n",
      "Epoch 00007: val_acc did not improve\n",
      "2s - loss: 3.0951 - acc: 0.1391 - val_loss: 3.7025 - val_acc: 0.1272\n",
      "Epoch 00007: early stopping\n"
     ]
    }
   ],
   "source": [
    "# Model saving callback\n",
    "checkpointer = ModelCheckpoint(filepath='models/bottleneck_features.h5', monitor='val_acc', verbose=1, save_best_only=True)\n",
    "\n",
    "# Early stopping\n",
    "early_stopping = EarlyStopping(monitor='val_acc', verbose=1, patience=5)\n",
    "\n",
    "history = model_top.fit(\n",
    "        train_data,\n",
    "        train_labels,\n",
    "        verbose=2,\n",
    "        epochs=epochs, \n",
    "        batch_size=batch_size,\n",
    "        callbacks=[checkpointer, early_stopping],\n",
    "        validation_data=(validation_data, validation_labels))"
   ]
  },
  {
   "cell_type": "code",
   "execution_count": 19,
   "metadata": {},
   "outputs": [
    {
     "name": "stdout",
     "output_type": "stream",
     "text": [
      "1472/1690 [=========================>....] - ETA: 0s"
     ]
    },
    {
     "data": {
      "text/plain": [
       "[3.702462995969332, 0.12721893491124261]"
      ]
     },
     "execution_count": 19,
     "metadata": {},
     "output_type": "execute_result"
    }
   ],
   "source": [
    "model_top.evaluate(validation_data, validation_labels)"
   ]
  },
  {
   "cell_type": "code",
   "execution_count": 20,
   "metadata": {},
   "outputs": [
    {
     "data": {
      "image/png": "[encoded data removed]",
      "text/plain": [
       "<matplotlib.figure.Figure at 0x7f7fd3ffcfd0>"
      ]
     },
     "metadata": {},
     "output_type": "display_data"
    }
   ],
   "source": [
    "fig, ax = plt.subplots()\n",
    "plt.plot(history.history['acc'])\n",
    "plt.plot(history.history['val_acc'])\n",
    "plt.title('Model accuracy')\n",
    "plt.ylabel('Accuracy')\n",
    "plt.xlabel('Epoch')\n",
    "plt.legend(['Train', 'Test'], loc='upper left')\n",
    "plt.show()"
   ]
  },
  {
   "cell_type": "markdown",
   "metadata": {},
   "source": [
    "# Fine Tuning"
   ]
  },
  {
   "cell_type": "code",
   "execution_count": 21,
   "metadata": {},
   "outputs": [],
   "source": [
    "# top_model = Sequential()\n",
    "# top_model.add(Flatten(input_shape=model_vgg.output_shape[1:]))\n",
    "# top_model.add(Dense(512, activation='relu'))\n",
    "# top_model.add(Dropout(0.5))\n",
    "# top_model.add(Dense(n_classes, activation='softmax'))\n",
    "\n",
    "# top_model.load_weights('models/bottleneck_features.h5')\n",
    "\n",
    "model = Model(inputs=model_vgg.input, outputs=model_top(model_vgg.output))"
   ]
  },
  {
   "cell_type": "code",
   "execution_count": 22,
   "metadata": {},
   "outputs": [],
   "source": [
    "for layer in model.layers[:15]:\n",
    "    layer.trainable = False"
   ]
  },
  {
   "cell_type": "code",
   "execution_count": 23,
   "metadata": {},
   "outputs": [],
   "source": [
    "# Compile the model with a SGD/momentum optimizer and a slow learning rate\n",
    "model.compile(loss='categorical_crossentropy',\n",
    "              optimizer=optimizers.SGD(lr=1e-4, momentum=0.9),\n",
    "              metrics=['accuracy'])"
   ]
  },
  {
   "cell_type": "code",
   "execution_count": 24,
   "metadata": {},
   "outputs": [
    {
     "name": "stdout",
     "output_type": "stream",
     "text": [
      "_________________________________________________________________\n",
      "Layer (type)                 Output Shape              Param #   \n",
      "=================================================================\n",
      "input_2 (InputLayer)         (None, 240, 240, 3)       0         \n",
      "_________________________________________________________________\n",
      "block1_conv1 (Conv2D)        (None, 240, 240, 64)      1792      \n",
      "_________________________________________________________________\n",
      "block1_conv2 (Conv2D)        (None, 240, 240, 64)      36928     \n",
      "_________________________________________________________________\n",
      "block1_pool (MaxPooling2D)   (None, 120, 120, 64)      0         \n",
      "_________________________________________________________________\n",
      "block2_conv1 (Conv2D)        (None, 120, 120, 128)     73856     \n",
      "_________________________________________________________________\n",
      "block2_conv2 (Conv2D)        (None, 120, 120, 128)     147584    \n",
      "_________________________________________________________________\n",
      "block2_pool (MaxPooling2D)   (None, 60, 60, 128)       0         \n",
      "_________________________________________________________________\n",
      "block3_conv1 (Conv2D)        (None, 60, 60, 256)       295168    \n",
      "_________________________________________________________________\n",
      "block3_conv2 (Conv2D)        (None, 60, 60, 256)       590080    \n",
      "_________________________________________________________________\n",
      "block3_conv3 (Conv2D)        (None, 60, 60, 256)       590080    \n",
      "_________________________________________________________________\n",
      "block3_pool (MaxPooling2D)   (None, 30, 30, 256)       0         \n",
      "_________________________________________________________________\n",
      "block4_conv1 (Conv2D)        (None, 30, 30, 512)       1180160   \n",
      "_________________________________________________________________\n",
      "block4_conv2 (Conv2D)        (None, 30, 30, 512)       2359808   \n",
      "_________________________________________________________________\n",
      "block4_conv3 (Conv2D)        (None, 30, 30, 512)       2359808   \n",
      "_________________________________________________________________\n",
      "block4_pool (MaxPooling2D)   (None, 15, 15, 512)       0         \n",
      "_________________________________________________________________\n",
      "block5_conv1 (Conv2D)        (None, 15, 15, 512)       2359808   \n",
      "_________________________________________________________________\n",
      "block5_conv2 (Conv2D)        (None, 15, 15, 512)       2359808   \n",
      "_________________________________________________________________\n",
      "block5_conv3 (Conv2D)        (None, 15, 15, 512)       2359808   \n",
      "_________________________________________________________________\n",
      "block5_pool (MaxPooling2D)   (None, 7, 7, 512)         0         \n",
      "_________________________________________________________________\n",
      "sequential_1 (Sequential)    (None, 46)                12869166  \n",
      "=================================================================\n",
      "Total params: 27,583,854\n",
      "Trainable params: 19,948,590\n",
      "Non-trainable params: 7,635,264\n",
      "_________________________________________________________________\n"
     ]
    }
   ],
   "source": [
    "model.summary()"
   ]
  },
  {
   "cell_type": "markdown",
   "metadata": {},
   "source": [
    "# Training"
   ]
  },
  {
   "cell_type": "code",
   "execution_count": null,
   "metadata": {},
   "outputs": [
    {
     "name": "stdout",
     "output_type": "stream",
     "text": [
      "Epoch 1/100\n",
      "Epoch 00000: val_acc improved from -inf to 0.25148, saving model to models/finetuning_full.h5\n",
      "142s - loss: 3.0778 - acc: 0.1569 - val_loss: 2.7913 - val_acc: 0.2515\n",
      "Epoch 2/100\n",
      "Epoch 00001: val_acc improved from 0.25148 to 0.40296, saving model to models/finetuning_full.h5\n",
      "141s - loss: 2.6760 - acc: 0.2613 - val_loss: 2.4104 - val_acc: 0.4030\n",
      "Epoch 3/100\n",
      "Epoch 00002: val_acc improved from 0.40296 to 0.45976, saving model to models/finetuning_full.h5\n",
      "141s - loss: 2.4334 - acc: 0.3404 - val_loss: 2.2193 - val_acc: 0.4598\n",
      "Epoch 4/100\n",
      "Epoch 00003: val_acc improved from 0.45976 to 0.53964, saving model to models/finetuning_full.h5\n",
      "141s - loss: 2.2456 - acc: 0.4011 - val_loss: 1.9639 - val_acc: 0.5396\n",
      "Epoch 5/100\n",
      "Epoch 00004: val_acc improved from 0.53964 to 0.56805, saving model to models/finetuning_full.h5\n",
      "141s - loss: 2.1113 - acc: 0.4369 - val_loss: 1.8207 - val_acc: 0.5680\n",
      "Epoch 6/100\n",
      "Epoch 00005: val_acc improved from 0.56805 to 0.58284, saving model to models/finetuning_full.h5\n",
      "141s - loss: 1.9648 - acc: 0.4838 - val_loss: 1.7570 - val_acc: 0.5828\n",
      "Epoch 7/100\n",
      "Epoch 00006: val_acc improved from 0.58284 to 0.62249, saving model to models/finetuning_full.h5\n",
      "141s - loss: 1.8772 - acc: 0.5272 - val_loss: 1.5656 - val_acc: 0.6225\n",
      "Epoch 8/100\n",
      "Epoch 00007: val_acc did not improve\n",
      "140s - loss: 1.7554 - acc: 0.5500 - val_loss: 1.5819 - val_acc: 0.6189\n",
      "Epoch 9/100\n",
      "Epoch 00008: val_acc did not improve\n",
      "140s - loss: 1.6826 - acc: 0.5736 - val_loss: 1.6012 - val_acc: 0.6118\n",
      "Epoch 10/100\n",
      "Epoch 00009: val_acc improved from 0.62249 to 0.63077, saving model to models/finetuning_full.h5\n",
      "142s - loss: 1.6213 - acc: 0.5850 - val_loss: 1.4852 - val_acc: 0.6308\n",
      "Epoch 11/100\n",
      "Epoch 00010: val_acc improved from 0.63077 to 0.64497, saving model to models/finetuning_full.h5\n",
      "141s - loss: 1.5463 - acc: 0.6072 - val_loss: 1.4407 - val_acc: 0.6450\n",
      "Epoch 12/100\n",
      "Epoch 00011: val_acc did not improve\n",
      "140s - loss: 1.5246 - acc: 0.6099 - val_loss: 1.4470 - val_acc: 0.6402\n",
      "Epoch 13/100\n",
      "Epoch 00012: val_acc improved from 0.64497 to 0.65444, saving model to models/finetuning_full.h5\n",
      "141s - loss: 1.4709 - acc: 0.6145 - val_loss: 1.3820 - val_acc: 0.6544\n",
      "Epoch 14/100\n",
      "Epoch 00013: val_acc improved from 0.65444 to 0.66036, saving model to models/finetuning_full.h5\n",
      "141s - loss: 1.4154 - acc: 0.6335 - val_loss: 1.3332 - val_acc: 0.6604\n",
      "Epoch 15/100\n",
      "Epoch 00014: val_acc improved from 0.66036 to 0.66213, saving model to models/finetuning_full.h5\n",
      "141s - loss: 1.3970 - acc: 0.6336 - val_loss: 1.3467 - val_acc: 0.6621\n",
      "Epoch 16/100\n",
      "Epoch 00015: val_acc improved from 0.66213 to 0.67515, saving model to models/finetuning_full.h5\n",
      "141s - loss: 1.3611 - acc: 0.6438 - val_loss: 1.2864 - val_acc: 0.6751\n",
      "Epoch 17/100\n",
      "Epoch 00016: val_acc improved from 0.67515 to 0.68225, saving model to models/finetuning_full.h5\n",
      "141s - loss: 1.3278 - acc: 0.6544 - val_loss: 1.2936 - val_acc: 0.6822\n",
      "Epoch 18/100\n",
      "Epoch 00017: val_acc improved from 0.68225 to 0.68580, saving model to models/finetuning_full.h5\n",
      "141s - loss: 1.3109 - acc: 0.6560 - val_loss: 1.2423 - val_acc: 0.6858\n",
      "Epoch 19/100\n",
      "Epoch 00018: val_acc improved from 0.68580 to 0.70296, saving model to models/finetuning_full.h5\n",
      "141s - loss: 1.2604 - acc: 0.6661 - val_loss: 1.2019 - val_acc: 0.7030\n",
      "Epoch 20/100\n",
      "Epoch 00019: val_acc improved from 0.70296 to 0.71538, saving model to models/finetuning_full.h5\n",
      "141s - loss: 1.2403 - acc: 0.6762 - val_loss: 1.2107 - val_acc: 0.7154\n",
      "Epoch 21/100\n",
      "Epoch 00020: val_acc improved from 0.71538 to 0.72959, saving model to models/finetuning_full.h5\n",
      "141s - loss: 1.2239 - acc: 0.6777 - val_loss: 1.1245 - val_acc: 0.7296\n",
      "Epoch 22/100\n",
      "Epoch 00021: val_acc did not improve\n",
      "140s - loss: 1.1708 - acc: 0.6899 - val_loss: 1.1692 - val_acc: 0.7249\n",
      "Epoch 23/100\n",
      "Epoch 00022: val_acc improved from 0.72959 to 0.74142, saving model to models/finetuning_full.h5\n",
      "141s - loss: 1.1593 - acc: 0.6975 - val_loss: 1.1175 - val_acc: 0.7414\n",
      "Epoch 24/100\n",
      "Epoch 00023: val_acc did not improve\n",
      "140s - loss: 1.1362 - acc: 0.7006 - val_loss: 1.1285 - val_acc: 0.7320\n",
      "Epoch 25/100\n",
      "Epoch 00024: val_acc improved from 0.74142 to 0.76272, saving model to models/finetuning_full.h5\n",
      "141s - loss: 1.1282 - acc: 0.7079 - val_loss: 1.0078 - val_acc: 0.7627\n",
      "Epoch 26/100\n",
      "Epoch 00025: val_acc did not improve\n",
      "140s - loss: 1.0909 - acc: 0.7148 - val_loss: 1.0562 - val_acc: 0.7509\n",
      "Epoch 27/100\n",
      "Epoch 00026: val_acc did not improve\n",
      "140s - loss: 1.0513 - acc: 0.7223 - val_loss: 1.0595 - val_acc: 0.7503\n",
      "Epoch 28/100\n",
      "Epoch 00027: val_acc did not improve\n",
      "140s - loss: 1.0452 - acc: 0.7262 - val_loss: 1.0233 - val_acc: 0.7586\n",
      "Epoch 29/100\n",
      "Epoch 00028: val_acc improved from 0.76272 to 0.76509, saving model to models/finetuning_full.h5\n",
      "141s - loss: 0.9973 - acc: 0.7370 - val_loss: 0.9710 - val_acc: 0.7651\n",
      "Epoch 30/100\n",
      "Epoch 00029: val_acc improved from 0.76509 to 0.76923, saving model to models/finetuning_full.h5\n",
      "141s - loss: 1.0087 - acc: 0.7349 - val_loss: 0.9678 - val_acc: 0.7692\n",
      "Epoch 31/100\n",
      "Epoch 00030: val_acc improved from 0.76923 to 0.77219, saving model to models/finetuning_full.h5\n",
      "141s - loss: 1.0031 - acc: 0.7255 - val_loss: 0.9706 - val_acc: 0.7722\n",
      "Epoch 32/100\n",
      "Epoch 00031: val_acc improved from 0.77219 to 0.78166, saving model to models/finetuning_full.h5\n",
      "141s - loss: 0.9582 - acc: 0.7394 - val_loss: 0.9394 - val_acc: 0.7817\n",
      "Epoch 33/100\n",
      "Epoch 00032: val_acc improved from 0.78166 to 0.79231, saving model to models/finetuning_full.h5\n",
      "141s - loss: 0.9460 - acc: 0.7431 - val_loss: 0.8712 - val_acc: 0.7923\n",
      "Epoch 34/100\n",
      "Epoch 00033: val_acc did not improve\n",
      "140s - loss: 0.9262 - acc: 0.7531 - val_loss: 0.9762 - val_acc: 0.7751\n",
      "Epoch 35/100\n",
      "Epoch 00034: val_acc did not improve\n",
      "140s - loss: 0.9178 - acc: 0.7550 - val_loss: 0.9251 - val_acc: 0.7899\n",
      "Epoch 36/100\n",
      "Epoch 00035: val_acc improved from 0.79231 to 0.79349, saving model to models/finetuning_full.h5\n",
      "141s - loss: 0.9073 - acc: 0.7514 - val_loss: 0.8701 - val_acc: 0.7935\n",
      "Epoch 37/100\n",
      "Epoch 00036: val_acc improved from 0.79349 to 0.80000, saving model to models/finetuning_full.h5\n",
      "141s - loss: 0.8786 - acc: 0.7596 - val_loss: 0.8458 - val_acc: 0.8000\n",
      "Epoch 38/100\n",
      "Epoch 00037: val_acc improved from 0.80000 to 0.80296, saving model to models/finetuning_full.h5\n",
      "141s - loss: 0.8643 - acc: 0.7631 - val_loss: 0.8470 - val_acc: 0.8030\n",
      "Epoch 39/100\n",
      "Epoch 00038: val_acc improved from 0.80296 to 0.80888, saving model to models/finetuning_full.h5\n",
      "141s - loss: 0.8294 - acc: 0.7684 - val_loss: 0.7824 - val_acc: 0.8089\n",
      "Epoch 40/100\n",
      "Epoch 00039: val_acc did not improve\n",
      "140s - loss: 0.8242 - acc: 0.7727 - val_loss: 0.8310 - val_acc: 0.8012\n",
      "Epoch 41/100\n"
     ]
    }
   ],
   "source": [
    "# Model saving callback\n",
    "checkpointer = ModelCheckpoint(filepath='models/finetuning_full.h5', monitor='val_acc', verbose=1, save_best_only=True)\n",
    "\n",
    "# Early stopping\n",
    "early_stopping = EarlyStopping(monitor='val_acc', verbose=1, patience=5)\n",
    "\n",
    "history = model.fit_generator(\n",
    "        train_generator,\n",
    "        steps_per_epoch=np.ceil(train_samples/float(batch_size)),\n",
    "        epochs=epochs,\n",
    "        callbacks=[checkpointer, early_stopping],\n",
    "        verbose=2,\n",
    "        validation_data=valid_generator,\n",
    "        validation_steps=np.ceil(valid_samples/float(batch_size)))"
   ]
  },
  {
   "cell_type": "markdown",
   "metadata": {},
   "source": [
    "# Evaluation"
   ]
  },
  {
   "cell_type": "code",
   "execution_count": null,
   "metadata": {},
   "outputs": [],
   "source": [
    "model.evaluate_generator(valid_generator, valid_samples)"
   ]
  },
  {
   "cell_type": "code",
   "execution_count": null,
   "metadata": {},
   "outputs": [],
   "source": [
    "fig, ax = plt.subplots()\n",
    "plt.plot(history.history['acc'])\n",
    "plt.plot(history.history['val_acc'])\n",
    "plt.title('Model accuracy')\n",
    "plt.ylabel('Accuracy')\n",
    "plt.xlabel('Epoch')\n",
    "plt.legend(['Train', 'Test'], loc='upper left')\n",
    "plt.show()"
   ]
  },
  {
   "cell_type": "code",
   "execution_count": null,
   "metadata": {},
   "outputs": [],
   "source": []
  }
 ],
 "metadata": {
  "kernelspec": {
   "display_name": "Python 2",
   "language": "python",
   "name": "python2"
  },
  "language_info": {
   "codemirror_mode": {
    "name": "ipython",
    "version": 2
   },
   "file_extension": ".py",
   "mimetype": "text/x-python",
   "name": "python",
   "nbconvert_exporter": "python",
   "pygments_lexer": "ipython2",
   "version": "2.7.12"
  }
 },
 "nbformat": 4,
 "nbformat_minor": 2
}
