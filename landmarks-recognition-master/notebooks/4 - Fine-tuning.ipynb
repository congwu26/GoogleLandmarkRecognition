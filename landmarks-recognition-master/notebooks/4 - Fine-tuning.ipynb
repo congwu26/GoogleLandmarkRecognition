{
 "cells": [
  {
   "cell_type": "markdown",
   "metadata": {},
   "source": [
    "# 4 - Fine-tuning the top layers of a pre-trained network (VGG16)"
   ]
  },
  {
   "cell_type": "markdown",
   "metadata": {},
   "source": [
    "### Imports"
   ]
  },
  {
   "cell_type": "code",
   "execution_count": 1,
   "metadata": {},
   "outputs": [
    {
     "name": "stderr",
     "output_type": "stream",
     "text": [
      "Using TensorFlow backend.\n"
     ]
    }
   ],
   "source": [
    "%matplotlib inline\n",
    "\n",
    "import numpy as np\n",
    "from keras.callbacks import EarlyStopping, ModelCheckpoint\n",
    "from keras.models import Sequential\n",
    "from keras.layers import Activation, Dropout, Flatten, Dense\n",
    "from keras.layers import Convolution2D, MaxPooling2D, ZeroPadding2D\n",
    "from keras.preprocessing.image import ImageDataGenerator\n",
    "from keras import applications\n",
    "from keras import optimizers\n",
    "from keras.models import Model\n",
    "import matplotlib.pyplot as plt\n",
    "import seaborn as sns\n",
    "\n",
    "sns.set()"
   ]
  },
  {
   "cell_type": "code",
   "execution_count": 2,
   "metadata": {
    "collapsed": true
   },
   "outputs": [],
   "source": [
    "# Dimensions of our images.\n",
    "img_width, img_height = 150, 150\n",
    "n_classes = 25\n",
    "\n",
    "train_data_dir = '../data/train'\n",
    "validation_data_dir = '../data/validation'"
   ]
  },
  {
   "cell_type": "markdown",
   "metadata": {},
   "source": [
    "### Data preprocessing"
   ]
  },
  {
   "cell_type": "code",
   "execution_count": 3,
   "metadata": {},
   "outputs": [
    {
     "name": "stdout",
     "output_type": "stream",
     "text": [
      "Found 40805 images belonging to 25 classes.\n",
      "Found 8856 images belonging to 25 classes.\n"
     ]
    }
   ],
   "source": [
    "datagen = ImageDataGenerator(rescale=1./255)\n",
    "batch_size = 32\n",
    "\n",
    "train_generator = datagen.flow_from_directory(\n",
    "        train_data_dir,\n",
    "        target_size=(img_height, img_width),\n",
    "        batch_size=batch_size)\n",
    "\n",
    "validation_generator = datagen.flow_from_directory(\n",
    "        validation_data_dir,\n",
    "        target_size=(img_height, img_width),\n",
    "        batch_size=batch_size)"
   ]
  },
  {
   "cell_type": "markdown",
   "metadata": {},
   "source": [
    "### Loading the VGG 16 model\n",
    "\n",
    "It is direclty available in Keras."
   ]
  },
  {
   "cell_type": "code",
   "execution_count": 4,
   "metadata": {
    "collapsed": true
   },
   "outputs": [],
   "source": [
    "model_vgg = applications.VGG16(include_top=False, weights='imagenet', input_shape=(150, 150, 3))"
   ]
  },
  {
   "cell_type": "markdown",
   "metadata": {},
   "source": [
    "We build a classifier model to put on top of the convolutional model. For the fine-tuning, we start with a fully trained classifier. We will use the weights from the earlier model. And then we will add this model on top of the convolutional base."
   ]
  },
  {
   "cell_type": "code",
   "execution_count": 5,
   "metadata": {
    "collapsed": true
   },
   "outputs": [],
   "source": [
    "top_model = Sequential()\n",
    "top_model.add(Flatten(input_shape=model_vgg.output_shape[1:]))\n",
    "top_model.add(Dense(512, activation='relu'))\n",
    "top_model.add(Dropout(0.5))\n",
    "top_model.add(Dense(n_classes, activation='softmax'))\n",
    "\n",
    "top_model.load_weights('../models/bottleneck.h5')\n",
    "\n",
    "model = Model(inputs=model_vgg.input, outputs=top_model(model_vgg.output))"
   ]
  },
  {
   "cell_type": "markdown",
   "metadata": {},
   "source": [
    "For fine-tuning, we only want to train a few layers. Therefore, we set the first 15 layers (up to the conv block) to non-trainable."
   ]
  },
  {
   "cell_type": "code",
   "execution_count": 6,
   "metadata": {
    "collapsed": true
   },
   "outputs": [],
   "source": [
    "for layer in model.layers[:15]:\n",
    "    layer.trainable = False"
   ]
  },
  {
   "cell_type": "code",
   "execution_count": 7,
   "metadata": {
    "collapsed": true
   },
   "outputs": [],
   "source": [
    "# Compile the model with a SGD/momentum optimizer and a slow learning rate\n",
    "model.compile(loss='categorical_crossentropy',\n",
    "              optimizer=optimizers.SGD(lr=1e-4, momentum=0.9),\n",
    "              metrics=['accuracy'])"
   ]
  },
  {
   "cell_type": "markdown",
   "metadata": {},
   "source": [
    "### Fine-tune the model"
   ]
  },
  {
   "cell_type": "code",
   "execution_count": 8,
   "metadata": {
    "collapsed": true
   },
   "outputs": [],
   "source": [
    "epochs = 100\n",
    "train_samples = 40805\n",
    "validation_samples = 8856"
   ]
  },
  {
   "cell_type": "code",
   "execution_count": 9,
   "metadata": {},
   "outputs": [
    {
     "name": "stdout",
     "output_type": "stream",
     "text": [
      "Epoch 1/100\n",
      "Epoch 00000: val_acc improved from -inf to 0.83243, saving model to ../models/finetuning_full.h5\n",
      "916s - loss: 1.0588 - acc: 0.7757 - val_loss: 0.9166 - val_acc: 0.8324\n",
      "Epoch 2/100\n",
      "Epoch 00001: val_acc did not improve\n",
      "793s - loss: 0.4486 - acc: 0.9077 - val_loss: 0.8692 - val_acc: 0.7815\n",
      "Epoch 3/100\n",
      "Epoch 00002: val_acc improved from 0.83243 to 0.87443, saving model to ../models/finetuning_full.h5\n",
      "794s - loss: 0.3174 - acc: 0.9349 - val_loss: 0.6207 - val_acc: 0.8744\n",
      "Epoch 4/100\n",
      "Epoch 00003: val_acc improved from 0.87443 to 0.88134, saving model to ../models/finetuning_full.h5\n",
      "796s - loss: 0.2314 - acc: 0.9518 - val_loss: 0.6862 - val_acc: 0.8813\n",
      "Epoch 5/100\n",
      "Epoch 00004: val_acc improved from 0.88134 to 0.89198, saving model to ../models/finetuning_full.h5\n",
      "794s - loss: 0.1973 - acc: 0.9600 - val_loss: 0.6974 - val_acc: 0.8920\n",
      "Epoch 6/100\n",
      "Epoch 00005: val_acc improved from 0.89198 to 0.90761, saving model to ../models/finetuning_full.h5\n",
      "792s - loss: 0.1573 - acc: 0.9683 - val_loss: 0.5878 - val_acc: 0.9076\n",
      "Epoch 7/100\n",
      "Epoch 00006: val_acc improved from 0.90761 to 0.91327, saving model to ../models/finetuning_full.h5\n",
      "792s - loss: 0.1267 - acc: 0.9737 - val_loss: 0.7425 - val_acc: 0.9133\n",
      "Epoch 8/100\n",
      "Epoch 00007: val_acc improved from 0.91327 to 0.91803, saving model to ../models/finetuning_full.h5\n",
      "793s - loss: 0.1168 - acc: 0.9751 - val_loss: 0.6450 - val_acc: 0.9180\n",
      "Epoch 9/100\n",
      "Epoch 00008: val_acc did not improve\n",
      "792s - loss: 0.1031 - acc: 0.9768 - val_loss: 0.4976 - val_acc: 0.9096\n",
      "Epoch 10/100\n",
      "Epoch 00009: val_acc improved from 0.91803 to 0.91961, saving model to ../models/finetuning_full.h5\n",
      "792s - loss: 0.0885 - acc: 0.9809 - val_loss: 0.5623 - val_acc: 0.9196\n",
      "Epoch 11/100\n",
      "Epoch 00010: val_acc did not improve\n",
      "792s - loss: 0.0683 - acc: 0.9843 - val_loss: 0.6912 - val_acc: 0.9084\n",
      "Epoch 12/100\n",
      "Epoch 00011: val_acc did not improve\n",
      "791s - loss: 0.0687 - acc: 0.9855 - val_loss: 0.5106 - val_acc: 0.9172\n",
      "Epoch 13/100\n",
      "Epoch 00012: val_acc improved from 0.91961 to 0.92810, saving model to ../models/finetuning_full.h5\n",
      "792s - loss: 0.0600 - acc: 0.9859 - val_loss: 0.5994 - val_acc: 0.9281\n",
      "Epoch 14/100\n",
      "Epoch 00013: val_acc did not improve\n",
      "793s - loss: 0.0480 - acc: 0.9889 - val_loss: 0.4911 - val_acc: 0.9254\n",
      "Epoch 15/100\n",
      "Epoch 00014: val_acc did not improve\n",
      "793s - loss: 0.0540 - acc: 0.9884 - val_loss: 0.4997 - val_acc: 0.9167\n",
      "Epoch 16/100\n",
      "Epoch 00015: val_acc improved from 0.92810 to 0.92889, saving model to ../models/finetuning_full.h5\n",
      "797s - loss: 0.0490 - acc: 0.9888 - val_loss: 0.5914 - val_acc: 0.9289\n",
      "Epoch 17/100\n",
      "Epoch 00016: val_acc did not improve\n",
      "792s - loss: 0.0442 - acc: 0.9896 - val_loss: 0.5244 - val_acc: 0.9228\n",
      "Epoch 18/100\n",
      "Epoch 00017: val_acc improved from 0.92889 to 0.93467, saving model to ../models/finetuning_full.h5\n",
      "791s - loss: 0.0446 - acc: 0.9902 - val_loss: 0.5119 - val_acc: 0.9347\n",
      "Epoch 19/100\n",
      "Epoch 00018: val_acc did not improve\n",
      "792s - loss: 0.0398 - acc: 0.9911 - val_loss: 0.5224 - val_acc: 0.9296\n",
      "Epoch 20/100\n",
      "Epoch 00019: val_acc did not improve\n",
      "794s - loss: 0.0438 - acc: 0.9902 - val_loss: 0.5445 - val_acc: 0.9310\n",
      "Epoch 21/100\n",
      "Epoch 00020: val_acc improved from 0.93467 to 0.93524, saving model to ../models/finetuning_full.h5\n",
      "790s - loss: 0.0321 - acc: 0.9920 - val_loss: 0.5094 - val_acc: 0.9352\n",
      "Epoch 22/100\n",
      "Epoch 00021: val_acc improved from 0.93524 to 0.93716, saving model to ../models/finetuning_full.h5\n",
      "793s - loss: 0.0317 - acc: 0.9922 - val_loss: 0.5418 - val_acc: 0.9372\n",
      "Epoch 23/100\n",
      "Epoch 00022: val_acc improved from 0.93716 to 0.93784, saving model to ../models/finetuning_full.h5\n",
      "792s - loss: 0.0222 - acc: 0.9943 - val_loss: 0.5191 - val_acc: 0.9378\n",
      "Epoch 24/100\n",
      "Epoch 00023: val_acc did not improve\n",
      "792s - loss: 0.0314 - acc: 0.9936 - val_loss: 0.4704 - val_acc: 0.9370\n",
      "Epoch 25/100\n",
      "Epoch 00024: val_acc did not improve\n",
      "791s - loss: 0.0315 - acc: 0.9936 - val_loss: 0.4561 - val_acc: 0.9338\n",
      "Epoch 26/100\n",
      "Epoch 00025: val_acc improved from 0.93784 to 0.93897, saving model to ../models/finetuning_full.h5\n",
      "792s - loss: 0.0246 - acc: 0.9944 - val_loss: 0.4927 - val_acc: 0.9390\n",
      "Epoch 27/100\n",
      "Epoch 00026: val_acc did not improve\n",
      "793s - loss: 0.0240 - acc: 0.9941 - val_loss: 0.5873 - val_acc: 0.9361\n",
      "Epoch 28/100\n",
      "Epoch 00027: val_acc did not improve\n",
      "793s - loss: 0.0212 - acc: 0.9949 - val_loss: 0.4828 - val_acc: 0.9377\n",
      "Epoch 29/100\n",
      "Epoch 00028: val_acc improved from 0.93897 to 0.94033, saving model to ../models/finetuning_full.h5\n",
      "790s - loss: 0.0224 - acc: 0.9951 - val_loss: 0.5117 - val_acc: 0.9403\n",
      "Epoch 30/100\n",
      "Epoch 00029: val_acc did not improve\n",
      "791s - loss: 0.0271 - acc: 0.9945 - val_loss: 0.4416 - val_acc: 0.9307\n",
      "Epoch 31/100\n",
      "Epoch 00030: val_acc did not improve\n",
      "793s - loss: 0.0201 - acc: 0.9955 - val_loss: 0.6019 - val_acc: 0.9363\n",
      "Epoch 32/100\n",
      "Epoch 00031: val_acc improved from 0.94033 to 0.94078, saving model to ../models/finetuning_full.h5\n",
      "789s - loss: 0.0172 - acc: 0.9956 - val_loss: 0.5284 - val_acc: 0.9408\n",
      "Epoch 33/100\n",
      "Epoch 00032: val_acc improved from 0.94078 to 0.94112, saving model to ../models/finetuning_full.h5\n",
      "793s - loss: 0.0165 - acc: 0.9961 - val_loss: 0.4029 - val_acc: 0.9411\n",
      "Epoch 34/100\n",
      "Epoch 00033: val_acc improved from 0.94112 to 0.94260, saving model to ../models/finetuning_full.h5\n",
      "791s - loss: 0.0143 - acc: 0.9968 - val_loss: 0.4811 - val_acc: 0.9426\n",
      "Epoch 35/100\n",
      "Epoch 00034: val_acc did not improve\n",
      "791s - loss: 0.0202 - acc: 0.9960 - val_loss: 0.5478 - val_acc: 0.9326\n",
      "Epoch 36/100\n",
      "Epoch 00035: val_acc did not improve\n",
      "792s - loss: 0.0184 - acc: 0.9961 - val_loss: 0.5544 - val_acc: 0.9391\n",
      "Epoch 37/100\n",
      "Epoch 00036: val_acc did not improve\n",
      "791s - loss: 0.0168 - acc: 0.9962 - val_loss: 0.4308 - val_acc: 0.9398\n",
      "Epoch 38/100\n",
      "Epoch 00037: val_acc did not improve\n",
      "791s - loss: 0.0214 - acc: 0.9950 - val_loss: 0.4527 - val_acc: 0.9419\n",
      "Epoch 39/100\n",
      "Epoch 00038: val_acc did not improve\n",
      "791s - loss: 0.0202 - acc: 0.9959 - val_loss: 0.5048 - val_acc: 0.9401\n",
      "Epoch 40/100\n",
      "Epoch 00039: val_acc did not improve\n",
      "794s - loss: 0.0146 - acc: 0.9968 - val_loss: 0.5914 - val_acc: 0.9399\n",
      "Epoch 00039: early stopping\n"
     ]
    }
   ],
   "source": [
    "# Model saving callback\n",
    "checkpointer = ModelCheckpoint(filepath='../models/finetuning_full.h5', monitor='val_acc', verbose=1, save_best_only=True)\n",
    "\n",
    "# Early stopping\n",
    "early_stopping = EarlyStopping(monitor='val_acc', verbose=1, patience=5)\n",
    "\n",
    "history = model.fit_generator(\n",
    "    train_generator,\n",
    "    steps_per_epoch=train_samples // batch_size,\n",
    "    epochs=epochs,\n",
    "    verbose=2,\n",
    "    callbacks=[checkpointer, early_stopping],\n",
    "    validation_data=validation_generator,\n",
    "    validation_steps=validation_samples // batch_size)"
   ]
  },
  {
   "cell_type": "markdown",
   "metadata": {},
   "source": [
    "### Evaluation on validation set\n",
    "\n",
    "Computing loss and accuracy:"
   ]
  },
  {
   "cell_type": "code",
   "execution_count": 10,
   "metadata": {},
   "outputs": [
    {
     "data": {
      "text/plain": [
       "[0.59153374412307613, 0.9397018970728136]"
      ]
     },
     "execution_count": 10,
     "metadata": {},
     "output_type": "execute_result"
    }
   ],
   "source": [
    "model.evaluate_generator(validation_generator, validation_samples / batch_size, workers=12)"
   ]
  },
  {
   "cell_type": "markdown",
   "metadata": {},
   "source": [
    "Learning curve:"
   ]
  },
  {
   "cell_type": "code",
   "execution_count": 11,
   "metadata": {},
   "outputs": [
    {
     "data": {
      "image/png": "[encoded data removed]",
      "text/plain": [
       "<matplotlib.figure.Figure at 0x7fb01dfc3f28>"
      ]
     },
     "metadata": {},
     "output_type": "display_data"
    }
   ],
   "source": [
    "fig, ax = plt.subplots()\n",
    "plt.plot(history.history['acc'])\n",
    "plt.plot(history.history['val_acc'])\n",
    "plt.title('Model accuracy')\n",
    "plt.ylabel('Accuracy')\n",
    "plt.xlabel('Epoch')\n",
    "plt.legend(['Train', 'Test'], loc='upper left')\n",
    "plt.show()\n",
    "fig.savefig('../images/finetuning_full.svg', format='svg', dpi=1200)"
   ]
  },
  {
   "cell_type": "markdown",
   "metadata": {},
   "source": [
    "**We reached a 94% accuracy on the validation!**"
   ]
  },
  {
   "cell_type": "markdown",
   "metadata": {
    "collapsed": true
   },
   "source": [
    "### Saving the model as JSON"
   ]
  },
  {
   "cell_type": "code",
   "execution_count": 12,
   "metadata": {
    "collapsed": true
   },
   "outputs": [],
   "source": [
    "with open('../models/finetuning_full.json', 'w') as f:\n",
    "    f.write(model.to_json())"
   ]
  }
 ],
 "metadata": {
  "anaconda-cloud": {},
  "kernelspec": {
   "display_name": "Python 2",
   "language": "python",
   "name": "python2"
  },
  "language_info": {
   "codemirror_mode": {
    "name": "ipython",
    "version": 2
   },
   "file_extension": ".py",
   "mimetype": "text/x-python",
   "name": "python",
   "nbconvert_exporter": "python",
   "pygments_lexer": "ipython2",
   "version": "2.7.12"
  }
 },
 "nbformat": 4,
 "nbformat_minor": 2
}
