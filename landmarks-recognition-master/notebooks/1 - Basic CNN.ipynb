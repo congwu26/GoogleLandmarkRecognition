{
 "cells": [
  {
   "cell_type": "markdown",
   "metadata": {},
   "source": [
    "# 1 - Basic CNN"
   ]
  },
  {
   "cell_type": "markdown",
   "metadata": {},
   "source": [
    "### Imports"
   ]
  },
  {
   "cell_type": "code",
   "execution_count": 1,
   "metadata": {},
   "outputs": [
    {
     "name": "stderr",
     "output_type": "stream",
     "text": [
      "Using TensorFlow backend.\n"
     ]
    }
   ],
   "source": [
    "%matplotlib inline\n",
    "\n",
    "import numpy as np\n",
    "from keras.callbacks import EarlyStopping, ModelCheckpoint\n",
    "from keras.layers import Activation, Dropout, Flatten, Dense\n",
    "from keras.layers import Convolution2D, MaxPooling2D, ZeroPadding2D\n",
    "from keras.models import Sequential\n",
    "from keras.preprocessing.image import ImageDataGenerator\n",
    "import matplotlib.pyplot as plt\n",
    "import seaborn as sns\n",
    "\n",
    "sns.set()"
   ]
  },
  {
   "cell_type": "code",
   "execution_count": 2,
   "metadata": {
    "collapsed": true
   },
   "outputs": [],
   "source": [
    "# Dimensions of our images\n",
    "img_width, img_height = 224, 224\n",
    "\n",
    "n_classes = 25\n",
    "train_data_dir = '../data/train'\n",
    "validation_data_dir = '../data/validation'"
   ]
  },
  {
   "cell_type": "markdown",
   "metadata": {},
   "source": [
    "### Data preprocessing"
   ]
  },
  {
   "cell_type": "code",
   "execution_count": 3,
   "metadata": {},
   "outputs": [
    {
     "name": "stdout",
     "output_type": "stream",
     "text": [
      "Found 40805 images belonging to 25 classes.\n",
      "Found 8856 images belonging to 25 classes.\n"
     ]
    }
   ],
   "source": [
    "# Pixel values rescaling from [0, 255] to [0, 1] interval\n",
    "datagen = ImageDataGenerator(rescale=1. / 255)\n",
    "batch_size = 32\n",
    "\n",
    "# Retrieve images and their classes for train and validation sets\n",
    "train_generator = datagen.flow_from_directory(\n",
    "        train_data_dir,\n",
    "        target_size=(img_width, img_height),\n",
    "        batch_size=batch_size)\n",
    "\n",
    "validation_generator = datagen.flow_from_directory(\n",
    "        validation_data_dir,\n",
    "        target_size=(img_width, img_height),\n",
    "        batch_size=batch_size)"
   ]
  },
  {
   "cell_type": "markdown",
   "metadata": {},
   "source": [
    "### Model architecture definition\n",
    "\n",
    "A simple stack of 3 convolution layers with a ReLU activation and followed by max-pooling layers"
   ]
  },
  {
   "cell_type": "code",
   "execution_count": 4,
   "metadata": {
    "collapsed": true
   },
   "outputs": [],
   "source": [
    "model = Sequential()\n",
    "model.add(Convolution2D(32, (3, 3), input_shape=(img_width, img_height, 3)))\n",
    "model.add(Activation('relu'))\n",
    "model.add(MaxPooling2D(pool_size=(2, 2)))\n",
    "\n",
    "model.add(Convolution2D(32, (3, 3)))\n",
    "model.add(Activation('relu'))\n",
    "model.add(MaxPooling2D(pool_size=(2, 2)))\n",
    "\n",
    "model.add(Convolution2D(64, (3, 3)))\n",
    "model.add(Activation('relu'))\n",
    "model.add(MaxPooling2D(pool_size=(2, 2)))\n",
    "\n",
    "model.add(Flatten())\n",
    "model.add(Dense(512))\n",
    "model.add(Activation('relu'))\n",
    "model.add(Dropout(0.5))\n",
    "model.add(Dense(n_classes))\n",
    "model.add(Activation('softmax'))"
   ]
  },
  {
   "cell_type": "code",
   "execution_count": 5,
   "metadata": {
    "collapsed": true
   },
   "outputs": [],
   "source": [
    "model.compile(loss='categorical_crossentropy',\n",
    "              optimizer='rmsprop',\n",
    "              metrics=['accuracy'])"
   ]
  },
  {
   "cell_type": "markdown",
   "metadata": {},
   "source": [
    "### Training"
   ]
  },
  {
   "cell_type": "code",
   "execution_count": 6,
   "metadata": {
    "collapsed": true
   },
   "outputs": [],
   "source": [
    "epochs = 100\n",
    "train_samples = 40805\n",
    "validation_samples = 8856"
   ]
  },
  {
   "cell_type": "code",
   "execution_count": 7,
   "metadata": {
    "scrolled": true
   },
   "outputs": [
    {
     "name": "stdout",
     "output_type": "stream",
     "text": [
      "Epoch 1/100\n",
      "Epoch 00000: val_acc improved from -inf to 0.55401, saving model to ../models/basic_cnn_full.h5\n",
      "928s - loss: 1.8821 - acc: 0.4752 - val_loss: 1.5898 - val_acc: 0.5540\n",
      "Epoch 2/100\n",
      "Epoch 00001: val_acc improved from 0.55401 to 0.65319, saving model to ../models/basic_cnn_full.h5\n",
      "808s - loss: 0.9207 - acc: 0.7439 - val_loss: 1.2921 - val_acc: 0.6532\n",
      "Epoch 3/100\n",
      "Epoch 00002: val_acc improved from 0.65319 to 0.68003, saving model to ../models/basic_cnn_full.h5\n",
      "807s - loss: 0.6170 - acc: 0.8293 - val_loss: 1.3163 - val_acc: 0.6800\n",
      "Epoch 4/100\n",
      "Epoch 00003: val_acc improved from 0.68003 to 0.68603, saving model to ../models/basic_cnn_full.h5\n",
      "807s - loss: 0.4817 - acc: 0.8682 - val_loss: 1.6065 - val_acc: 0.6860\n",
      "Epoch 5/100\n",
      "Epoch 00004: val_acc improved from 0.68603 to 0.71048, saving model to ../models/basic_cnn_full.h5\n",
      "807s - loss: 0.4334 - acc: 0.8847 - val_loss: 1.3805 - val_acc: 0.7105\n",
      "Epoch 6/100\n",
      "Epoch 00005: val_acc did not improve\n",
      "805s - loss: 0.4485 - acc: 0.8876 - val_loss: 1.5066 - val_acc: 0.6983\n",
      "Epoch 7/100\n",
      "Epoch 00006: val_acc did not improve\n",
      "807s - loss: 0.4860 - acc: 0.8810 - val_loss: 1.5552 - val_acc: 0.6509\n",
      "Epoch 8/100\n",
      "Epoch 00007: val_acc did not improve\n",
      "805s - loss: 0.5423 - acc: 0.8707 - val_loss: 2.0812 - val_acc: 0.6668\n",
      "Epoch 9/100\n",
      "Epoch 00008: val_acc did not improve\n",
      "808s - loss: 0.5859 - acc: 0.8646 - val_loss: 1.6278 - val_acc: 0.6582\n",
      "Epoch 10/100\n",
      "Epoch 00009: val_acc did not improve\n",
      "807s - loss: 0.6131 - acc: 0.8615 - val_loss: 1.9669 - val_acc: 0.6887\n",
      "Epoch 11/100\n",
      "Epoch 00010: val_acc did not improve\n",
      "806s - loss: 0.6587 - acc: 0.8565 - val_loss: 2.0118 - val_acc: 0.5866\n",
      "Epoch 00010: early stopping\n"
     ]
    }
   ],
   "source": [
    "# Model saving callback\n",
    "checkpointer = ModelCheckpoint(filepath='../models/basic_cnn.h5', monitor='val_acc', verbose=1, save_best_only=True)\n",
    "\n",
    "# Early stopping\n",
    "early_stopping = EarlyStopping(monitor='val_acc', verbose=1, patience=5)\n",
    "\n",
    "history = model.fit_generator(\n",
    "        train_generator,\n",
    "        steps_per_epoch=train_samples // batch_size,\n",
    "        epochs=epochs,\n",
    "        callbacks=[checkpointer, early_stopping],\n",
    "        verbose=2,\n",
    "        validation_data=validation_generator,\n",
    "        validation_steps=validation_samples // batch_size,)"
   ]
  },
  {
   "cell_type": "markdown",
   "metadata": {},
   "source": [
    "### Evaluating on validation set\n",
    "\n",
    "Computing loss and accuracy:"
   ]
  },
  {
   "cell_type": "code",
   "execution_count": 8,
   "metadata": {},
   "outputs": [
    {
     "data": {
      "text/plain": [
       "[2.0081244658336588, 0.5870369847591197]"
      ]
     },
     "execution_count": 8,
     "metadata": {},
     "output_type": "execute_result"
    }
   ],
   "source": [
    "model.evaluate_generator(validation_generator, validation_samples, workers=12)"
   ]
  },
  {
   "cell_type": "markdown",
   "metadata": {},
   "source": [
    "Learning curve:"
   ]
  },
  {
   "cell_type": "code",
   "execution_count": 9,
   "metadata": {},
   "outputs": [
    {
     "data": {
      "image/png": "[encoded data removed]",
      "text/plain": [
       "<matplotlib.figure.Figure at 0x7fbf09d5bf60>"
      ]
     },
     "metadata": {},
     "output_type": "display_data"
    }
   ],
   "source": [
    "fig, ax = plt.subplots()\n",
    "plt.plot(history.history['acc'])\n",
    "plt.plot(history.history['val_acc'])\n",
    "plt.title('Model accuracy')\n",
    "plt.ylabel('Accuracy')\n",
    "plt.xlabel('Epoch')\n",
    "plt.legend(['Train', 'Test'], loc='upper left')\n",
    "plt.show()\n",
    "fig.savefig('../images/basic_cnn.svg', format='svg', dpi=1200)"
   ]
  },
  {
   "cell_type": "markdown",
   "metadata": {},
   "source": [
    "**After ~15 epochs the neural network reach ~60% accuracy. We can witness overfitting, no progress is made over validation set in the next epochs.**"
   ]
  },
  {
   "cell_type": "markdown",
   "metadata": {
    "collapsed": true
   },
   "source": [
    "### Saving the model as JSON"
   ]
  },
  {
   "cell_type": "code",
   "execution_count": 10,
   "metadata": {
    "collapsed": true
   },
   "outputs": [],
   "source": [
    "with open('../models/basic_cnn.json', 'w') as f:\n",
    "    f.write(model.to_json())"
   ]
  }
 ],
 "metadata": {
  "anaconda-cloud": {},
  "kernelspec": {
   "display_name": "Python 2",
   "language": "python",
   "name": "python2"
  },
  "language_info": {
   "codemirror_mode": {
    "name": "ipython",
    "version": 2
   },
   "file_extension": ".py",
   "mimetype": "text/x-python",
   "name": "python",
   "nbconvert_exporter": "python",
   "pygments_lexer": "ipython2",
   "version": "2.7.12"
  }
 },
 "nbformat": 4,
 "nbformat_minor": 2
}
