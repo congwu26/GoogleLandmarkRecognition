{
 "cells": [
  {
   "cell_type": "markdown",
   "metadata": {},
   "source": [
    "# 3 - VGG16 + small multi-layer perceptron"
   ]
  },
  {
   "cell_type": "markdown",
   "metadata": {},
   "source": [
    "### Imports"
   ]
  },
  {
   "cell_type": "code",
   "execution_count": 12,
   "metadata": {
    "collapsed": true
   },
   "outputs": [],
   "source": [
    "%matplotlib inline\n",
    "\n",
    "import numpy as np\n",
    "from keras.callbacks import EarlyStopping, ModelCheckpoint\n",
    "from keras.layers import Activation, Dropout, Flatten, Dense\n",
    "from keras.layers import Convolution2D, MaxPooling2D, ZeroPadding2D\n",
    "from keras.models import Sequential\n",
    "from keras.preprocessing.image import ImageDataGenerator\n",
    "from keras import applications\n",
    "from keras.utils.np_utils import to_categorical \n",
    "import matplotlib.pyplot as plt\n",
    "import seaborn as sns\n",
    "\n",
    "sns.set()"
   ]
  },
  {
   "cell_type": "code",
   "execution_count": 2,
   "metadata": {
    "collapsed": true
   },
   "outputs": [],
   "source": [
    "# Dimensions of our images.\n",
    "img_width, img_height = 224, 224\n",
    "\n",
    "n_classes = 25\n",
    "train_data_dir = '../data/train'\n",
    "validation_data_dir = '../data/validation'"
   ]
  },
  {
   "cell_type": "markdown",
   "metadata": {},
   "source": [
    "### Data preprocessing"
   ]
  },
  {
   "cell_type": "code",
   "execution_count": 3,
   "metadata": {},
   "outputs": [
    {
     "name": "stdout",
     "output_type": "stream",
     "text": [
      "Found 40805 images belonging to 25 classes.\n",
      "Found 8856 images belonging to 25 classes.\n"
     ]
    }
   ],
   "source": [
    "# Pixel values rescaling from [0, 255] to [0, 1] interval\n",
    "datagen = ImageDataGenerator(rescale=1./255)\n",
    "batch_size = 32\n",
    "\n",
    "# Retrieve images and their classes for train and validation sets\n",
    "train_generator_bottleneck = datagen.flow_from_directory(\n",
    "        train_data_dir,\n",
    "        target_size=(img_width, img_height),\n",
    "        batch_size=batch_size,\n",
    "        class_mode=None,\n",
    "        shuffle=False)\n",
    "\n",
    "validation_generator_bottleneck = datagen.flow_from_directory(\n",
    "        validation_data_dir,\n",
    "        target_size=(img_width, img_height),\n",
    "        batch_size=batch_size,\n",
    "        class_mode=None,\n",
    "        shuffle=False)"
   ]
  },
  {
   "cell_type": "markdown",
   "metadata": {},
   "source": [
    "### Loading the VGG 16 model\n",
    "\n",
    "It is direclty available in Keras."
   ]
  },
  {
   "cell_type": "code",
   "execution_count": 4,
   "metadata": {
    "collapsed": true
   },
   "outputs": [],
   "source": [
    "model_vgg = applications.VGG16(include_top=False, weights='imagenet')"
   ]
  },
  {
   "cell_type": "markdown",
   "metadata": {},
   "source": [
    "We use the VGG16 model to process our samples."
   ]
  },
  {
   "cell_type": "code",
   "execution_count": 5,
   "metadata": {
    "collapsed": true
   },
   "outputs": [],
   "source": [
    "# bottleneck_features_train = model_vgg.predict_generator(train_generator_bottleneck, train_samples // batch_size)\n",
    "# np.save(open('../models/bottleneck_features_train.npy', 'wb'), bottleneck_features_train)"
   ]
  },
  {
   "cell_type": "code",
   "execution_count": 6,
   "metadata": {
    "collapsed": true
   },
   "outputs": [],
   "source": [
    "# bottleneck_features_validation = model_vgg.predict_generator(validation_generator_bottleneck, validation_samples // batch_size)\n",
    "# np.save(open('../models/bottleneck_features_validation.npy', 'wb'), bottleneck_features_validation)"
   ]
  },
  {
   "cell_type": "markdown",
   "metadata": {},
   "source": [
    "We load the result."
   ]
  },
  {
   "cell_type": "code",
   "execution_count": 7,
   "metadata": {
    "collapsed": true
   },
   "outputs": [],
   "source": [
    "num_classes = len(train_generator_bottleneck.class_indices)\n",
    "\n",
    "train_data = np.load(open('../models/bottleneck_features_train.npy', 'rb'))\n",
    "train_labels = to_categorical(train_generator_bottleneck.classes[:40773], num_classes=num_classes)\n",
    "\n",
    "validation_data = np.load(open('../models/bottleneck_features_validation.npy', 'rb'))\n",
    "validation_labels = to_categorical(validation_generator_bottleneck.classes[:8832], num_classes=num_classes)"
   ]
  },
  {
   "cell_type": "markdown",
   "metadata": {},
   "source": [
    "We define and train a custom fully connected neural network."
   ]
  },
  {
   "cell_type": "code",
   "execution_count": 8,
   "metadata": {
    "collapsed": true
   },
   "outputs": [],
   "source": [
    "model_top = Sequential()\n",
    "model_top.add(Flatten(input_shape=train_data.shape[1:]))\n",
    "model_top.add(Dense(512, activation='relu'))\n",
    "model_top.add(Dropout(0.5))\n",
    "model_top.add(Dense(n_classes, activation='softmax'))"
   ]
  },
  {
   "cell_type": "code",
   "execution_count": 9,
   "metadata": {
    "collapsed": true
   },
   "outputs": [],
   "source": [
    "model_top.compile(loss='categorical_crossentropy',\n",
    "                  optimizer='rmsprop',\n",
    "                  metrics=['accuracy'])"
   ]
  },
  {
   "cell_type": "code",
   "execution_count": 15,
   "metadata": {
    "collapsed": true
   },
   "outputs": [],
   "source": [
    "epochs = 100\n",
    "train_samples = 40800\n",
    "validation_samples = 8832"
   ]
  },
  {
   "cell_type": "code",
   "execution_count": 16,
   "metadata": {
    "scrolled": false
   },
   "outputs": [
    {
     "name": "stdout",
     "output_type": "stream",
     "text": [
      "Train on 40773 samples, validate on 8832 samples\n",
      "Epoch 1/100\n",
      "Epoch 00000: val_acc improved from -inf to 0.85485, saving model to ../models/bottleneck_30_epochs.h5\n",
      "10s - loss: 0.5774 - acc: 0.9388 - val_loss: 1.4095 - val_acc: 0.8548\n",
      "Epoch 2/100\n",
      "Epoch 00001: val_acc improved from 0.85485 to 0.85971, saving model to ../models/bottleneck_30_epochs.h5\n",
      "10s - loss: 0.5847 - acc: 0.9376 - val_loss: 1.3789 - val_acc: 0.8597\n",
      "Epoch 3/100\n",
      "Epoch 00002: val_acc improved from 0.85971 to 0.86504, saving model to ../models/bottleneck_30_epochs.h5\n",
      "10s - loss: 0.6157 - acc: 0.9377 - val_loss: 1.4269 - val_acc: 0.8650\n",
      "Epoch 4/100\n",
      "Epoch 00003: val_acc improved from 0.86504 to 0.86560, saving model to ../models/bottleneck_30_epochs.h5\n",
      "10s - loss: 0.6148 - acc: 0.9388 - val_loss: 1.4024 - val_acc: 0.8656\n",
      "Epoch 5/100\n",
      "Epoch 00004: val_acc improved from 0.86560 to 0.86832, saving model to ../models/bottleneck_30_epochs.h5\n",
      "10s - loss: 0.6104 - acc: 0.9397 - val_loss: 1.3745 - val_acc: 0.8683\n",
      "Epoch 6/100\n",
      "Epoch 00005: val_acc did not improve\n",
      "10s - loss: 0.5809 - acc: 0.9402 - val_loss: 1.4643 - val_acc: 0.8628\n",
      "Epoch 7/100\n",
      "Epoch 00006: val_acc did not improve\n",
      "10s - loss: 0.5970 - acc: 0.9401 - val_loss: 1.3999 - val_acc: 0.8661\n",
      "Epoch 8/100\n",
      "Epoch 00007: val_acc did not improve\n",
      "10s - loss: 0.5886 - acc: 0.9399 - val_loss: 1.5035 - val_acc: 0.8562\n",
      "Epoch 9/100\n",
      "Epoch 00008: val_acc did not improve\n",
      "10s - loss: 0.5824 - acc: 0.9415 - val_loss: 1.4570 - val_acc: 0.8619\n",
      "Epoch 10/100\n",
      "Epoch 00009: val_acc improved from 0.86832 to 0.87002, saving model to ../models/bottleneck_30_epochs.h5\n",
      "10s - loss: 0.5883 - acc: 0.9410 - val_loss: 1.3645 - val_acc: 0.8700\n",
      "Epoch 11/100\n",
      "Epoch 00010: val_acc did not improve\n",
      "10s - loss: 0.5830 - acc: 0.9421 - val_loss: 1.3769 - val_acc: 0.8693\n",
      "Epoch 12/100\n",
      "Epoch 00011: val_acc did not improve\n",
      "10s - loss: 0.5930 - acc: 0.9409 - val_loss: 1.4063 - val_acc: 0.8674\n",
      "Epoch 13/100\n",
      "Epoch 00012: val_acc did not improve\n",
      "10s - loss: 0.5774 - acc: 0.9435 - val_loss: 1.4940 - val_acc: 0.8631\n",
      "Epoch 14/100\n",
      "Epoch 00013: val_acc did not improve\n",
      "10s - loss: 0.5624 - acc: 0.9429 - val_loss: 1.3970 - val_acc: 0.8615\n",
      "Epoch 15/100\n",
      "Epoch 00014: val_acc improved from 0.87002 to 0.87274, saving model to ../models/bottleneck_30_epochs.h5\n",
      "10s - loss: 0.6086 - acc: 0.9421 - val_loss: 1.3555 - val_acc: 0.8727\n",
      "Epoch 16/100\n",
      "Epoch 00015: val_acc did not improve\n",
      "10s - loss: 0.5841 - acc: 0.9421 - val_loss: 1.4970 - val_acc: 0.8657\n",
      "Epoch 17/100\n",
      "Epoch 00016: val_acc did not improve\n",
      "10s - loss: 0.5778 - acc: 0.9449 - val_loss: 1.5256 - val_acc: 0.8650\n",
      "Epoch 18/100\n",
      "Epoch 00017: val_acc did not improve\n",
      "10s - loss: 0.5789 - acc: 0.9451 - val_loss: 1.5370 - val_acc: 0.8664\n",
      "Epoch 19/100\n",
      "Epoch 00018: val_acc did not improve\n",
      "10s - loss: 0.5762 - acc: 0.9451 - val_loss: 1.4434 - val_acc: 0.8682\n",
      "Epoch 20/100\n",
      "Epoch 00019: val_acc did not improve\n",
      "10s - loss: 0.5954 - acc: 0.9453 - val_loss: 1.5499 - val_acc: 0.8673\n",
      "Epoch 21/100\n",
      "Epoch 00020: val_acc did not improve\n",
      "10s - loss: 0.5603 - acc: 0.9464 - val_loss: 1.5968 - val_acc: 0.8588\n",
      "Epoch 00020: early stopping\n"
     ]
    }
   ],
   "source": [
    "# Model saving callback\n",
    "checkpointer = ModelCheckpoint(filepath='../models/bottleneck_features.h5', monitor='val_acc', verbose=1, save_best_only=True)\n",
    "\n",
    "# Early stopping\n",
    "early_stopping = EarlyStopping(monitor='val_acc', verbose=1, patience=5)\n",
    "\n",
    "history = model_top.fit(\n",
    "        train_data,\n",
    "        train_labels,\n",
    "        verbose=2,\n",
    "        epochs=epochs, \n",
    "        batch_size=batch_size,\n",
    "        callbacks=[checkpointer, early_stopping],\n",
    "        validation_data=(validation_data, validation_labels))"
   ]
  },
  {
   "cell_type": "markdown",
   "metadata": {},
   "source": [
    "### Evaluation on validation set\n",
    "\n",
    "Computing loss and accuracy:"
   ]
  },
  {
   "cell_type": "code",
   "execution_count": 17,
   "metadata": {},
   "outputs": [
    {
     "name": "stdout",
     "output_type": "stream",
     "text": [
      "8800/8832 [============================>.] - ETA: 0s"
     ]
    },
    {
     "data": {
      "text/plain": [
       "[1.596839298764293, 0.85880887681159424]"
      ]
     },
     "execution_count": 17,
     "metadata": {},
     "output_type": "execute_result"
    }
   ],
   "source": [
    "model_top.evaluate(validation_data, validation_labels)"
   ]
  },
  {
   "cell_type": "markdown",
   "metadata": {
    "collapsed": true
   },
   "source": [
    "Learning curve:"
   ]
  },
  {
   "cell_type": "code",
   "execution_count": 18,
   "metadata": {},
   "outputs": [
    {
     "data": {
      "image/png": "[encoded data removed]",
      "text/plain": [
       "<matplotlib.figure.Figure at 0x7fef9c9e4240>"
      ]
     },
     "metadata": {},
     "output_type": "display_data"
    }
   ],
   "source": [
    "fig, ax = plt.subplots()\n",
    "plt.plot(history.history['acc'])\n",
    "plt.plot(history.history['val_acc'])\n",
    "plt.title('Model accuracy')\n",
    "plt.ylabel('Accuracy')\n",
    "plt.xlabel('Epoch')\n",
    "plt.legend(['Train', 'Test'], loc='upper left')\n",
    "plt.show()\n",
    "fig.savefig('../images/bottleneck_features.svg', format='svg', dpi=1200)"
   ]
  },
  {
   "cell_type": "markdown",
   "metadata": {
    "collapsed": true
   },
   "source": [
    "**We reached a 85% accuracy on the validation after ~10s of training (~1 epochs)!**"
   ]
  },
  {
   "cell_type": "markdown",
   "metadata": {
    "collapsed": true
   },
   "source": [
    "### Saving the model as JSON"
   ]
  },
  {
   "cell_type": "code",
   "execution_count": 20,
   "metadata": {
    "collapsed": true
   },
   "outputs": [],
   "source": [
    "with open('../models/bottleneck_features.json', 'w') as f:\n",
    "    f.write(model_top.to_json())"
   ]
  }
 ],
 "metadata": {
  "anaconda-cloud": {},
  "kernelspec": {
   "display_name": "Python 2",
   "language": "python",
   "name": "python2"
  },
  "language_info": {
   "codemirror_mode": {
    "name": "ipython",
    "version": 2
   },
   "file_extension": ".py",
   "mimetype": "text/x-python",
   "name": "python",
   "nbconvert_exporter": "python",
   "pygments_lexer": "ipython2",
   "version": "2.7.12"
  }
 },
 "nbformat": 4,
 "nbformat_minor": 2
}
