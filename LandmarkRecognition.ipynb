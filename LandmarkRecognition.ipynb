{
 "cells": [
  {
   "cell_type": "markdown",
   "metadata": {},
   "source": [
    "# Import data"
   ]
  },
  {
   "cell_type": "code",
   "execution_count": 1,
   "metadata": {},
   "outputs": [
    {
     "name": "stderr",
     "output_type": "stream",
     "text": [
      "Using TensorFlow backend.\n"
     ]
    }
   ],
   "source": [
    "%matplotlib inline\n",
    "\n",
    "import glob\n",
    "import os\n",
    "import numpy as np\n",
    "from keras.callbacks import EarlyStopping, ModelCheckpoint\n",
    "from keras.layers import Activation, Dropout, Flatten, Dense\n",
    "from keras.layers import Convolution2D, MaxPooling2D, ZeroPadding2D\n",
    "from keras.models import Sequential\n",
    "from keras.preprocessing.image import ImageDataGenerator, img_to_array, load_img\n",
    "from keras import optimizers\n",
    "from keras.models import Model\n",
    "from keras import applications\n",
    "from keras.utils.np_utils import to_categorical \n",
    "import matplotlib.image as mpimg\n",
    "import matplotlib.pyplot as plt\n",
    "import seaborn as sns\n",
    "\n",
    "sns.set()"
   ]
  },
  {
   "cell_type": "code",
   "execution_count": 2,
   "metadata": {},
   "outputs": [],
   "source": [
    "import warnings\n",
    "warnings.simplefilter(action='ignore', category=FutureWarning)"
   ]
  },
  {
   "cell_type": "code",
   "execution_count": 3,
   "metadata": {},
   "outputs": [],
   "source": [
    "# Dimensions of our images.\n",
    "img_width, img_height = 240, 240\n",
    "\n",
    "# n_classes = 6451\n",
    "# train_data_dir = 'data/train'\n",
    "# valid_data_dir = 'data/valid'\n",
    "n_classes = 46\n",
    "train_data_dir = 'data/train_sample'\n",
    "valid_data_dir = 'data/valid_sample'"
   ]
  },
  {
   "cell_type": "code",
   "execution_count": 4,
   "metadata": {},
   "outputs": [],
   "source": [
    "epochs = 100\n",
    "batch_size = 32\n",
    "\n",
    "# train_samples = 859486\n",
    "# valid_samples = 294058\n",
    "train_samples = 4911\n",
    "valid_samples = 1690"
   ]
  },
  {
   "cell_type": "code",
   "execution_count": 5,
   "metadata": {},
   "outputs": [],
   "source": [
    "# train_datagen = ImageDataGenerator(\n",
    "#         rescale=1. / 255,      # Normalize pixel values to [0,1]\n",
    "#         shear_range=0.2,       # Randomly applies shearing transformation\n",
    "#         zoom_range=0.2,        # Randomly applies shearing transformation\n",
    "#         horizontal_flip=True)  # Randomly flip the images\n",
    "\n",
    "train_datagen = ImageDataGenerator(rescale=1./255)"
   ]
  },
  {
   "cell_type": "code",
   "execution_count": 6,
   "metadata": {},
   "outputs": [
    {
     "name": "stdout",
     "output_type": "stream",
     "text": [
      "Found 4911 images belonging to 46 classes.\n"
     ]
    }
   ],
   "source": [
    "train_generator = train_datagen.flow_from_directory(\n",
    "        train_data_dir,\n",
    "        target_size=(img_width, img_height),\n",
    "        batch_size=batch_size)\n",
    "\n",
    "# train_generator_bottleneck = train_datagen.flow_from_directory(\n",
    "#         train_data_dir,\n",
    "#         target_size=(img_width, img_height),\n",
    "#         batch_size=batch_size,\n",
    "#         class_mode=None,\n",
    "#         shuffle=False)"
   ]
  },
  {
   "cell_type": "code",
   "execution_count": 7,
   "metadata": {},
   "outputs": [],
   "source": [
    "datagen = ImageDataGenerator(rescale=1. / 255)"
   ]
  },
  {
   "cell_type": "code",
   "execution_count": 8,
   "metadata": {},
   "outputs": [
    {
     "name": "stdout",
     "output_type": "stream",
     "text": [
      "Found 1690 images belonging to 46 classes.\n"
     ]
    }
   ],
   "source": [
    "valid_generator = datagen.flow_from_directory(\n",
    "        valid_data_dir,\n",
    "        target_size=(img_width, img_height),\n",
    "        batch_size=batch_size)\n",
    "\n",
    "# valid_generator_bottleneck = datagen.flow_from_directory(\n",
    "#         valid_data_dir,\n",
    "#         target_size=(img_width, img_height),\n",
    "#         batch_size=batch_size,\n",
    "#         class_mode=None,\n",
    "#         shuffle=False)"
   ]
  },
  {
   "cell_type": "markdown",
   "metadata": {},
   "source": [
    "# Loading VGG 16 models"
   ]
  },
  {
   "cell_type": "code",
   "execution_count": 11,
   "metadata": {},
   "outputs": [],
   "source": [
    "model_vgg = applications.VGG16(include_top=False, weights='imagenet', input_shape=(img_width, img_height, 3))"
   ]
  },
  {
   "cell_type": "code",
   "execution_count": 62,
   "metadata": {},
   "outputs": [],
   "source": [
    "bottleneck_features_train = model_vgg.predict_generator(train_generator_bottleneck)\n",
    "np.save(open('models/bottleneck_features_train.npy', 'wb'), bottleneck_features_train)"
   ]
  },
  {
   "cell_type": "code",
   "execution_count": 63,
   "metadata": {},
   "outputs": [],
   "source": [
    "bottleneck_features_validation = model_vgg.predict_generator(valid_generator_bottleneck)\n",
    "np.save(open('models/bottleneck_features_validation.npy', 'wb'), bottleneck_features_validation)"
   ]
  },
  {
   "cell_type": "code",
   "execution_count": 64,
   "metadata": {},
   "outputs": [],
   "source": [
    "num_classes = len(train_generator_bottleneck.class_indices)\n",
    "\n",
    "train_data = np.load(open('models/bottleneck_features_train.npy', 'rb'))\n",
    "train_labels = to_categorical(train_generator_bottleneck.classes[:train_samples], num_classes=num_classes)\n",
    "\n",
    "validation_data = np.load(open('models/bottleneck_features_validation.npy', 'rb'))\n",
    "validation_labels = to_categorical(valid_generator_bottleneck.classes[:valid_samples], num_classes=num_classes)"
   ]
  },
  {
   "cell_type": "code",
   "execution_count": 13,
   "metadata": {},
   "outputs": [
    {
     "name": "stdout",
     "output_type": "stream",
     "text": [
      "_________________________________________________________________\n",
      "Layer (type)                 Output Shape              Param #   \n",
      "=================================================================\n",
      "flatten_2 (Flatten)          (None, 25088)             0         \n",
      "_________________________________________________________________\n",
      "dense_2 (Dense)              (None, 512)               12845568  \n",
      "_________________________________________________________________\n",
      "dropout_1 (Dropout)          (None, 512)               0         \n",
      "_________________________________________________________________\n",
      "dense_3 (Dense)              (None, 46)                23598     \n",
      "=================================================================\n",
      "Total params: 12,869,166\n",
      "Trainable params: 12,869,166\n",
      "Non-trainable params: 0\n",
      "_________________________________________________________________\n"
     ]
    }
   ],
   "source": [
    "model_top = Sequential()\n",
    "model_top.add(Flatten(input_shape=model_vgg.output_shape[1:]))\n",
    "model_top.add(Dense(512, activation='relu'))\n",
    "model_top.add(Dropout(0.5))\n",
    "model_top.add(Dense(n_classes, activation='softmax'))\n",
    "\n",
    "model_top.compile(loss='categorical_crossentropy',\n",
    "                  optimizer='rmsprop',\n",
    "                  metrics=['accuracy'])\n",
    "model_top.summary()"
   ]
  },
  {
   "cell_type": "markdown",
   "metadata": {},
   "source": [
    "# Fine Tuning"
   ]
  },
  {
   "cell_type": "code",
   "execution_count": 12,
   "metadata": {},
   "outputs": [],
   "source": [
    "top_model = Sequential()\n",
    "top_model.add(Flatten(input_shape=model_vgg.output_shape[1:]))\n",
    "top_model.add(Dense(512, activation='relu'))\n",
    "top_model.add(Dropout(0.5))\n",
    "top_model.add(Dense(n_classes, activation='softmax'))\n",
    "\n",
    "top_model.load_weights('models/bottleneck_features.h5')\n",
    "\n",
    "model = Model(inputs=model_vgg.input, outputs=top_model(model_vgg.output))"
   ]
  },
  {
   "cell_type": "code",
   "execution_count": 13,
   "metadata": {},
   "outputs": [],
   "source": [
    "for layer in model.layers[:15]:\n",
    "    layer.trainable = False"
   ]
  },
  {
   "cell_type": "code",
   "execution_count": 14,
   "metadata": {},
   "outputs": [],
   "source": [
    "# Compile the model with a SGD/momentum optimizer and a slow learning rate\n",
    "model.compile(loss='categorical_crossentropy',\n",
    "              optimizer=optimizers.SGD(lr=1e-4, momentum=0.9),\n",
    "              metrics=['accuracy'])"
   ]
  },
  {
   "cell_type": "code",
   "execution_count": 15,
   "metadata": {},
   "outputs": [
    {
     "name": "stdout",
     "output_type": "stream",
     "text": [
      "_________________________________________________________________\n",
      "Layer (type)                 Output Shape              Param #   \n",
      "=================================================================\n",
      "input_1 (InputLayer)         (None, 240, 240, 3)       0         \n",
      "_________________________________________________________________\n",
      "block1_conv1 (Conv2D)        (None, 240, 240, 64)      1792      \n",
      "_________________________________________________________________\n",
      "block1_conv2 (Conv2D)        (None, 240, 240, 64)      36928     \n",
      "_________________________________________________________________\n",
      "block1_pool (MaxPooling2D)   (None, 120, 120, 64)      0         \n",
      "_________________________________________________________________\n",
      "block2_conv1 (Conv2D)        (None, 120, 120, 128)     73856     \n",
      "_________________________________________________________________\n",
      "block2_conv2 (Conv2D)        (None, 120, 120, 128)     147584    \n",
      "_________________________________________________________________\n",
      "block2_pool (MaxPooling2D)   (None, 60, 60, 128)       0         \n",
      "_________________________________________________________________\n",
      "block3_conv1 (Conv2D)        (None, 60, 60, 256)       295168    \n",
      "_________________________________________________________________\n",
      "block3_conv2 (Conv2D)        (None, 60, 60, 256)       590080    \n",
      "_________________________________________________________________\n",
      "block3_conv3 (Conv2D)        (None, 60, 60, 256)       590080    \n",
      "_________________________________________________________________\n",
      "block3_pool (MaxPooling2D)   (None, 30, 30, 256)       0         \n",
      "_________________________________________________________________\n",
      "block4_conv1 (Conv2D)        (None, 30, 30, 512)       1180160   \n",
      "_________________________________________________________________\n",
      "block4_conv2 (Conv2D)        (None, 30, 30, 512)       2359808   \n",
      "_________________________________________________________________\n",
      "block4_conv3 (Conv2D)        (None, 30, 30, 512)       2359808   \n",
      "_________________________________________________________________\n",
      "block4_pool (MaxPooling2D)   (None, 15, 15, 512)       0         \n",
      "_________________________________________________________________\n",
      "block5_conv1 (Conv2D)        (None, 15, 15, 512)       2359808   \n",
      "_________________________________________________________________\n",
      "block5_conv2 (Conv2D)        (None, 15, 15, 512)       2359808   \n",
      "_________________________________________________________________\n",
      "block5_conv3 (Conv2D)        (None, 15, 15, 512)       2359808   \n",
      "_________________________________________________________________\n",
      "block5_pool (MaxPooling2D)   (None, 7, 7, 512)         0         \n",
      "_________________________________________________________________\n",
      "sequential_2 (Sequential)    (None, 46)                12869166  \n",
      "=================================================================\n",
      "Total params: 27,583,854\n",
      "Trainable params: 19,948,590\n",
      "Non-trainable params: 7,635,264\n",
      "_________________________________________________________________\n"
     ]
    }
   ],
   "source": [
    "model.summary()"
   ]
  },
  {
   "cell_type": "markdown",
   "metadata": {},
   "source": [
    "# Build Model"
   ]
  },
  {
   "cell_type": "code",
   "execution_count": 29,
   "metadata": {},
   "outputs": [],
   "source": [
    "# model = Sequential()\n",
    "# model.add(Convolution2D(32, (3, 3), input_shape=(img_width, img_height, 3)))\n",
    "# model.add(Activation('relu'))\n",
    "# model.add(MaxPooling2D(pool_size=(2, 2)))\n",
    "\n",
    "# model.add(Convolution2D(32, (3, 3)))\n",
    "# model.add(Activation('relu'))\n",
    "# model.add(MaxPooling2D(pool_size=(2, 2)))\n",
    "\n",
    "# model.add(Convolution2D(64, (3, 3)))\n",
    "# model.add(Activation('relu'))\n",
    "# model.add(MaxPooling2D(pool_size=(2, 2)))\n",
    "\n",
    "# model.add(Flatten())\n",
    "# model.add(Dense(512))\n",
    "# model.add(Activation('relu'))\n",
    "# model.add(Dropout(0.5))\n",
    "# model.add(Dense(n_classes))\n",
    "# model.add(Activation('softmax'))"
   ]
  },
  {
   "cell_type": "code",
   "execution_count": 30,
   "metadata": {},
   "outputs": [],
   "source": [
    "# model.compile(loss='categorical_crossentropy',\n",
    "#               optimizer='rmsprop',\n",
    "#               metrics=['accuracy'])"
   ]
  },
  {
   "cell_type": "markdown",
   "metadata": {},
   "source": [
    "# Training"
   ]
  },
  {
   "cell_type": "code",
   "execution_count": 23,
   "metadata": {},
   "outputs": [
    {
     "name": "stdout",
     "output_type": "stream",
     "text": [
      "Epoch 1/100\n",
      " - 151s - loss: 0.1069 - acc: 0.9730 - val_loss: 0.5718 - val_acc: 0.9093\n",
      "\n",
      "Epoch 00001: val_acc improved from -inf to 0.90925, saving model to models/finetuning_full.h5\n",
      "Epoch 2/100\n",
      " - 149s - loss: 0.0499 - acc: 0.9812 - val_loss: 0.5888 - val_acc: 0.9138\n",
      "\n",
      "Epoch 00002: val_acc improved from 0.90925 to 0.91375, saving model to models/finetuning_full.h5\n",
      "Epoch 3/100\n",
      " - 145s - loss: 0.0611 - acc: 0.9812 - val_loss: 0.4632 - val_acc: 0.9234\n",
      "\n",
      "Epoch 00003: val_acc improved from 0.91375 to 0.92340, saving model to models/finetuning_full.h5\n",
      "Epoch 4/100\n",
      " - 145s - loss: 0.0408 - acc: 0.9867 - val_loss: 0.5202 - val_acc: 0.9162\n",
      "\n",
      "Epoch 00004: val_acc did not improve from 0.92340\n",
      "Epoch 5/100\n",
      " - 144s - loss: 0.0389 - acc: 0.9896 - val_loss: 0.6616 - val_acc: 0.9186\n",
      "\n",
      "Epoch 00005: val_acc did not improve from 0.92340\n",
      "Epoch 6/100\n",
      " - 145s - loss: 0.0435 - acc: 0.9900 - val_loss: 0.5257 - val_acc: 0.9174\n",
      "\n",
      "Epoch 00006: val_acc did not improve from 0.92340\n",
      "Epoch 7/100\n",
      " - 144s - loss: 0.0334 - acc: 0.9916 - val_loss: 0.5380 - val_acc: 0.9192\n",
      "\n",
      "Epoch 00007: val_acc did not improve from 0.92340\n",
      "Epoch 8/100\n",
      " - 145s - loss: 0.0324 - acc: 0.9910 - val_loss: 0.5016 - val_acc: 0.9294\n",
      "\n",
      "Epoch 00008: val_acc improved from 0.92340 to 0.92943, saving model to models/finetuning_full.h5\n",
      "Epoch 9/100\n",
      " - 144s - loss: 0.0312 - acc: 0.9916 - val_loss: 0.4310 - val_acc: 0.9264\n",
      "\n",
      "Epoch 00009: val_acc did not improve from 0.92943\n",
      "Epoch 10/100\n",
      " - 144s - loss: 0.0413 - acc: 0.9916 - val_loss: 0.4549 - val_acc: 0.9246\n",
      "\n",
      "Epoch 00010: val_acc did not improve from 0.92943\n",
      "Epoch 11/100\n",
      " - 146s - loss: 0.0297 - acc: 0.9910 - val_loss: 0.4569 - val_acc: 0.9246\n",
      "\n",
      "Epoch 00011: val_acc did not improve from 0.92943\n",
      "Epoch 12/100\n",
      " - 144s - loss: 0.0330 - acc: 0.9922 - val_loss: 0.4793 - val_acc: 0.9234\n",
      "\n",
      "Epoch 00012: val_acc did not improve from 0.92943\n",
      "Epoch 13/100\n",
      " - 143s - loss: 0.0302 - acc: 0.9916 - val_loss: 0.5362 - val_acc: 0.9186\n",
      "\n",
      "Epoch 00013: val_acc did not improve from 0.92943\n",
      "Epoch 00013: early stopping\n"
     ]
    }
   ],
   "source": [
    "# Model saving callback\n",
    "# checkpointer = ModelCheckpoint(filepath='models/data_augmentation.h5', monitor='val_acc', verbose=1, save_best_only=True)\n",
    "# checkpointer = ModelCheckpoint(filepath='models/bottleneck_features.h5', monitor='val_acc', verbose=1, save_best_only=True)\n",
    "checkpointer = ModelCheckpoint(filepath='models/finetuning_full.h5', monitor='val_acc', verbose=1, save_best_only=True)\n",
    "\n",
    "# Early stopping\n",
    "early_stopping = EarlyStopping(monitor='val_acc', verbose=1, patience=5)\n",
    "\n",
    "history = model.fit_generator(\n",
    "        train_generator,\n",
    "        steps_per_epoch=train_samples // batch_size,\n",
    "        epochs=epochs,\n",
    "        callbacks=[checkpointer, early_stopping],\n",
    "        verbose=2,\n",
    "        validation_data=valid_generator,\n",
    "        validation_steps=valid_samples // batch_size,)\n",
    "\n",
    "# history = model_top.fit(\n",
    "#         train_data,\n",
    "#         train_labels,\n",
    "#         verbose=2,\n",
    "#         epochs=epochs, \n",
    "#         batch_size=batch_size,\n",
    "#         callbacks=[checkpointer, early_stopping],\n",
    "#         validation_data=(validation_data, validation_labels))"
   ]
  },
  {
   "cell_type": "markdown",
   "metadata": {},
   "source": [
    "# Evaluation"
   ]
  },
  {
   "cell_type": "code",
   "execution_count": null,
   "metadata": {},
   "outputs": [],
   "source": [
    "model.evaluate_generator(valid_generator, valid_samples)\n",
    "# model_top.evaluate(validation_data, validation_labels)"
   ]
  },
  {
   "cell_type": "code",
   "execution_count": 73,
   "metadata": {},
   "outputs": [
    {
     "data": {
      "image/png": "[encoded data removed]",
      "text/plain": [
       "<Figure size 432x288 with 1 Axes>"
      ]
     },
     "metadata": {},
     "output_type": "display_data"
    }
   ],
   "source": [
    "fig, ax = plt.subplots()\n",
    "plt.plot(history.history['acc'])\n",
    "plt.plot(history.history['val_acc'])\n",
    "plt.title('Model accuracy')\n",
    "plt.ylabel('Accuracy')\n",
    "plt.xlabel('Epoch')\n",
    "plt.legend(['Train', 'Test'], loc='upper left')\n",
    "plt.show()\n",
    "#fig.savefig('../images/data_augmentation.svg', format='svg', dpi=1200)"
   ]
  }
 ],
 "metadata": {
  "kernelspec": {
   "display_name": "Python 2",
   "language": "python",
   "name": "python2"
  },
  "language_info": {
   "codemirror_mode": {
    "name": "ipython",
    "version": 2
   },
   "file_extension": ".py",
   "mimetype": "text/x-python",
   "name": "python",
   "nbconvert_exporter": "python",
   "pygments_lexer": "ipython2",
   "version": "2.7.12"
  }
 },
 "nbformat": 4,
 "nbformat_minor": 2
}
